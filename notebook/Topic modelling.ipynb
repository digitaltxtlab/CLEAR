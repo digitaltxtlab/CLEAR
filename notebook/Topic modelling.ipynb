{
 "cells": [
  {
   "cell_type": "code",
   "execution_count": 1,
   "metadata": {},
   "outputs": [
    {
     "data": {
      "text/plain": [
       "'this notebook heavily refers to the post https://www.machinelearningplus.com/nlp/topic-modeling-gensim-python/'"
      ]
     },
     "execution_count": 1,
     "metadata": {},
     "output_type": "execute_result"
    }
   ],
   "source": [
    "'''this notebook heavily refers to the post https://www.machinelearningplus.com/nlp/topic-modeling-gensim-python/'''"
   ]
  },
  {
   "cell_type": "markdown",
   "metadata": {},
   "source": [
    "## Overview of Topic Modeling"
   ]
  },
  {
   "cell_type": "markdown",
   "metadata": {},
   "source": [
    "Before using the topic modelling to explore our data set, let's first look at definition of Topic Modelling. (If you are not very fimilar with\n",
    "the techniques about preprocessing, here is a separate notebook introducing these ideas.)"
   ]
  },
  {
   "cell_type": "markdown",
   "metadata": {},
   "source": [
    "### What is topic modelling"
   ]
  },
  {
   "cell_type": "markdown",
   "metadata": {},
   "source": [
    "Topic Modelling is a technique used in the Natrual Language Processing context to discover the latent semantic structures in the text, although it is very\n",
    "tempting to think of it as a magic tool to extract the topic from the text, **topic modelling** actually has very specific definition and should be used properly.\n",
    "Here we use the definition from the book *Speech and Language Processing*: topic modelling is used to induce sets of associated words from text using unsupervised learning. For example, this set of words {waiter, dishes, chef, plate} is associated and often appear at the same time in text.\n",
    "\n",
    "More rigoriously, topic can be defined as the **probability distribution over words**\n",
    "\n",
    "Another task which is easily confused with topic modelling is **text classification**, in that task, we need to assigne a label to a given text. For example, figure out if a poem is about history or religion. The main difference is that, in topic modelling, the output is a set of words which represent an unknown topic(e.g. {waiter, dishes ...}), while in text classification, the output is a single label(e.g. history)"
   ]
  },
  {
   "cell_type": "markdown",
   "metadata": {},
   "source": [
    "### How to use topic modelling "
   ]
  },
  {
   "cell_type": "markdown",
   "metadata": {},
   "source": [
    "Topic modelling is very useful when it is used to provide some insight to the reader about a large amount of text, by looking at the output of the results, you can see how many potential topics are there, and then by looking at the words contained in each topic, you can have a vague idea for what this topic is about. "
   ]
  },
  {
   "cell_type": "markdown",
   "metadata": {},
   "source": [
    "### (Aside issue) Implementation of topic modelling"
   ]
  },
  {
   "cell_type": "markdown",
   "metadata": {},
   "source": [
    "In this script, we use a common algorithm called *Latent Dirichlet Allocation,LDA* to implement Topic modelling, understand this method may require substantial math. background, but just in case anyone is interesting, I put the link to the original paper [here](http://www.robotics.stanford.edu/~ang/papers/jair03-lda.pdf)"
   ]
  },
  {
   "cell_type": "markdown",
   "metadata": {},
   "source": [
    "## Content"
   ]
  },
  {
   "cell_type": "markdown",
   "metadata": {},
   "source": [
    "In this notebook we did the following things:\n",
    "- Import the library\n",
    "- Preprocessing the text\n",
    "    * Remove the stop words\n",
    "    * Stemming the words\n",
    "    * Create bigrams and trigrams from the words\n",
    "- Apply topic modelling algorithm\n",
    "- Explore the results of topic modelling\n",
    "    * Using pyLDAvis to dynamically interact with the topic modelling results\n",
    "    * Look at the topic modelling results from tables"
   ]
  },
  {
   "cell_type": "markdown",
   "metadata": {},
   "source": [
    "### Loading the library"
   ]
  },
  {
   "cell_type": "markdown",
   "metadata": {},
   "source": [
    "You may need to install the following library before importing to install this library just run the following code in the terminal\n",
    "- gensim \n",
    "    - conda install -c anaconda gensim \n",
    "- nltk \n",
    "    - conda install -c anaconda nltk\n",
    "- pyLDAvis\n",
    "    - conda install -c conda-forge pyldavis \n",
    "    - or\n",
    "    - conda install -c conda-forge/label/gcc7 pyldavis\n",
    "\n",
    "Make sure you have anoconda in your computer!!!\n"
   ]
  },
  {
   "cell_type": "code",
   "execution_count": 2,
   "metadata": {},
   "outputs": [
    {
     "name": "stderr",
     "output_type": "stream",
     "text": [
      "C:\\Users\\ljh\\Anaconda3\\lib\\site-packages\\gensim\\utils.py:1209: UserWarning: detected Windows; aliasing chunkize to chunkize_serial\n",
      "  warnings.warn(\"detected Windows; aliasing chunkize to chunkize_serial\")\n"
     ]
    }
   ],
   "source": [
    "import nltk\n",
    "#nltk.download('stopwords')\n",
    "import re\n",
    "import numpy as np\n",
    "import pandas as pd\n",
    "from pprint import pprint\n",
    "\n",
    "# Gensim\n",
    "import gensim\n",
    "import gensim.corpora as corpora\n",
    "from gensim.utils import simple_preprocess\n",
    "from gensim.models import CoherenceModel\n",
    "\n",
    "#for Stemming\n",
    "from nltk.stem.snowball import DanishStemmer\n",
    "\n",
    "# Plotting tools\n",
    "import pyLDAvis\n",
    "import pyLDAvis.gensim  # don't skip this\n",
    "import matplotlib.pyplot as plt\n",
    "%matplotlib inline\n",
    "\n",
    "# Enable logging for gensim - optional\n",
    "import logging\n",
    "logging.basicConfig(format='%(asctime)s : %(levelname)s : %(message)s', level=logging.ERROR)\n",
    "\n",
    "import warnings\n",
    "warnings.filterwarnings(\"ignore\",category=DeprecationWarning)"
   ]
  },
  {
   "cell_type": "code",
   "execution_count": 3,
   "metadata": {},
   "outputs": [
    {
     "name": "stdout",
     "output_type": "stream",
     "text": [
      "yo uare sadfsaffsa\t\tfsad\n"
     ]
    }
   ],
   "source": [
    "import os,sys\n",
    "parentPath = os.path.join(os.path.dirname(os.getcwd()),\"tools\")\n",
    "sys.path.insert(0, parentPath)\n",
    "from scripts_py import preprocessing as pre"
   ]
  },
  {
   "cell_type": "markdown",
   "metadata": {},
   "source": [
    "### Preprocessing"
   ]
  },
  {
   "cell_type": "markdown",
   "metadata": {},
   "source": [
    "#### Prepare stopwords"
   ]
  },
  {
   "cell_type": "markdown",
   "metadata": {},
   "source": [
    "we have a list of stop words from nltk library, but you can also have your own list of stop words as well"
   ]
  },
  {
   "cell_type": "code",
   "execution_count": 4,
   "metadata": {},
   "outputs": [],
   "source": [
    "from nltk.corpus import stopwords\n",
    "stop_words = stopwords.words('danish')\n",
    "stop_words.extend(['paa','ved','saa','den'])"
   ]
  },
  {
   "cell_type": "markdown",
   "metadata": {},
   "source": [
    "#### Select author and Read in the article of the author"
   ]
  },
  {
   "cell_type": "markdown",
   "metadata": {},
   "source": [
    "You can select any author by  last name, the available name is the second column of ADL/metadata/metadata_adl.csv file"
   ]
  },
  {
   "cell_type": "code",
   "execution_count": 5,
   "metadata": {},
   "outputs": [],
   "source": [
    "import codecs\n",
    "def creat_file_list(author_name):\n",
    "    \"\"\"this function is used to get the list of articles of a given author\"\"\"\n",
    "    file_list=['non']\n",
    "    cwd=os.getcwd()\n",
    "    parent_path = os.path.dirname(cwd)\n",
    "    des_pos=os.path.join(parent_path,\"ADL\",\"metadata\",\"metadata_adl.csv\")\n",
    "    fh=codecs.open(des_pos,'r','utf-8')\n",
    "    for line in fh.readlines():\n",
    "        L=line.split(\",\")\n",
    "        if(re.search(author_name,L[1])):\n",
    "            temp_string=L[0]+\".txt\"\n",
    "            file_list.append(temp_string)\n",
    "    return file_list[1:]\n",
    "def read_articles(articles):\n",
    "    \"\"\"this function read in articles and return content\"\"\"\n",
    "    data = list()\n",
    "    for ele in articles:\n",
    "        article = os.path.join(os.path.dirname(os.getcwd()),\"ADL\",\"plain\",ele)\n",
    "        with open(article, encoding =\"utf-8\") as f:\n",
    "            lines = f.readlines()\n",
    "        data.append( ' '.join(lines))\n",
    "    return data"
   ]
  },
  {
   "cell_type": "markdown",
   "metadata": {},
   "source": [
    "The code below read all the articles of Grundtvig and store them into data"
   ]
  },
  {
   "cell_type": "code",
   "execution_count": 6,
   "metadata": {},
   "outputs": [],
   "source": [
    "author = \"Grundtvig\"\n",
    "articles = creat_file_list(author)\n",
    "data = read_articles(articles)"
   ]
  },
  {
   "cell_type": "markdown",
   "metadata": {},
   "source": [
    "If you don't want all the articles but only specifc articles, you can specify in the following way"
   ]
  },
  {
   "cell_type": "code",
   "execution_count": 7,
   "metadata": {},
   "outputs": [],
   "source": [
    "#articles = [\"aare01val_workid69870.txt\",\"aakjaer01val_workid55565.txt\",\"aakjaer01val_workid55662.txt\" ,\"aakjaer01val_workid55881.txt\"]\n",
    "#data = read_articles(articles)"
   ]
  },
  {
   "cell_type": "markdown",
   "metadata": {},
   "source": [
    "#### Cleaning the text\n",
    "Tokenize the words and remove non-alpha symbol"
   ]
  },
  {
   "cell_type": "code",
   "execution_count": 8,
   "metadata": {},
   "outputs": [],
   "source": [
    "nalpha_content = [pre.re_nalpha(ele) for ele in data]\n",
    "tokenized_content = [pre.tokenizer(ele) for ele in nalpha_content]"
   ]
  },
  {
   "cell_type": "markdown",
   "metadata": {
    "collapsed": true
   },
   "source": [
    "Remove stop words"
   ]
  },
  {
   "cell_type": "code",
   "execution_count": 9,
   "metadata": {},
   "outputs": [],
   "source": [
    "def remove_stopwords(texts):\n",
    "    return [[word for word in simple_preprocess(str(doc)) if word not in stop_words] for doc in texts]"
   ]
  },
  {
   "cell_type": "code",
   "execution_count": 10,
   "metadata": {},
   "outputs": [],
   "source": [
    "data_words_nostops=remove_stopwords(tokenized_content)"
   ]
  },
  {
   "cell_type": "markdown",
   "metadata": {},
   "source": [
    "### Apply lda algorithm to obtain the result"
   ]
  },
  {
   "cell_type": "markdown",
   "metadata": {},
   "source": [
    "#### Form bigrams from the text"
   ]
  },
  {
   "cell_type": "markdown",
   "metadata": {},
   "source": [
    "We first construct faster model(a model which could capture the common phrase in the corpus) then apply this model to obtain bigram words.\n",
    "The way to do this is a little bit diffcult to understand, but the key is to understand what *gensim.models.Phrases()* , this function, is doing. This function will train a model from our text, and resulting model using the vector representation of the words to find the meaningful bigram and store these bigram in the model. Details could be found [here](https://radimrehurek.com/gensim/models/phrases.html)"
   ]
  },
  {
   "cell_type": "code",
   "execution_count": 11,
   "metadata": {},
   "outputs": [],
   "source": [
    "bigram = gensim.models.Phrases(tokenized_content, min_count=5, threshold=100)\n",
    "bigram_mod = gensim.models.phrases.Phraser(bigram)\n",
    "#trigram = gensim.models.Phrases(bigram[tokenized_content], threshold=100)\n",
    "#trigram_mod = gensim.models.phrases.Phraser(trigram)"
   ]
  },
  {
   "cell_type": "code",
   "execution_count": 12,
   "metadata": {},
   "outputs": [],
   "source": [
    "def make_bigrams(texts):\n",
    "    \"\"\"this function will use our model to find the bigram in each sentence\"\"\"\n",
    "    return [bigram_mod[doc] for doc in texts]\n",
    "#def make_trigrams(texts):\n",
    "#    return [trigram_mod[bigram_mod[doc]] for doc in texts]\n",
    "def stemmer(wordList):\n",
    "    \"\"\"stemming the words for later processing\"\"\"\n",
    "    stemmer = DanishStemmer()\n",
    "    return [stemmer.stem(tempWord) for tempWord in wordList]"
   ]
  },
  {
   "cell_type": "markdown",
   "metadata": {},
   "source": [
    "Get the bigram and stem obtained bigrams"
   ]
  },
  {
   "cell_type": "code",
   "execution_count": 13,
   "metadata": {},
   "outputs": [],
   "source": [
    "# Form Bigrams\n",
    "data_words_bigrams = make_bigrams(data_words_nostops)\n",
    "data_stemmed = [stemmer(ele) for ele in data_words_bigrams]\n",
    "data_stemmed=remove_stopwords(data_stemmed)"
   ]
  },
  {
   "cell_type": "markdown",
   "metadata": {},
   "source": [
    "Create informative measurement from the raw text, which are used by the LDA training function"
   ]
  },
  {
   "cell_type": "code",
   "execution_count": 14,
   "metadata": {
    "scrolled": false
   },
   "outputs": [],
   "source": [
    "#Create Dictionary wich contains a mapping between normalized words and their integer ids\n",
    "id2word = corpora.Dictionary(data_stemmed)"
   ]
  },
  {
   "cell_type": "code",
   "execution_count": 15,
   "metadata": {},
   "outputs": [],
   "source": [
    "# Term Document Frequency\n",
    "texts = data_stemmed\n",
    "corpus = [id2word.doc2bow(text) for text in texts]"
   ]
  },
  {
   "cell_type": "markdown",
   "metadata": {},
   "source": [
    "#### Get lda model "
   ]
  },
  {
   "cell_type": "markdown",
   "metadata": {},
   "source": [
    "Tuning of hyper parameter(e.g. num_topics, update_every, etc.) is essential for the quality of the reuslting model, modeling training could last for very long time depending on the length of the text"
   ]
  },
  {
   "cell_type": "code",
   "execution_count": 16,
   "metadata": {},
   "outputs": [],
   "source": [
    "lda_model = gensim.models.ldamodel.LdaModel(corpus=corpus,\n",
    "                                           id2word=id2word,\n",
    "                                           num_topics=20, \n",
    "                                           random_state=100,\n",
    "                                           update_every=1,\n",
    "                                           chunksize=100,\n",
    "                                           passes=10,\n",
    "                                           alpha='auto',\n",
    "                                           per_word_topics=True)"
   ]
  },
  {
   "cell_type": "code",
   "execution_count": 17,
   "metadata": {},
   "outputs": [
    {
     "name": "stdout",
     "output_type": "stream",
     "text": [
      "Stored 'lda_model' (LdaModel)\n"
     ]
    }
   ],
   "source": [
    "%store lda_model"
   ]
  },
  {
   "cell_type": "markdown",
   "metadata": {},
   "source": [
    "### Model exploration"
   ]
  },
  {
   "cell_type": "markdown",
   "metadata": {},
   "source": [
    "#### A brief looking at the obtained results"
   ]
  },
  {
   "cell_type": "code",
   "execution_count": 18,
   "metadata": {},
   "outputs": [
    {
     "name": "stdout",
     "output_type": "stream",
     "text": [
      "[(0,\n",
      "  '0.019*\"gud\" + 0.011*\"liv\" + 0.011*\"ei\" + 0.010*\"aand\" + 0.009*\"dit\" + '\n",
      "  '0.009*\"død\" + 0.007*\"kun\" + 0.007*\"ord\" + 0.006*\"verd\" + 0.006*\"evig\"'),\n",
      " (1,\n",
      "  '0.013*\"kan\" + 0.010*\"aand\" + 0.010*\"kirk\" + 0.009*\"kun\" + 0.008*\"maa\" + '\n",
      "  '0.008*\"naar\" + 0.007*\"ord\" + 0.007*\"hel\" + 0.007*\"tro\" + 0.006*\"gud\"'),\n",
      " (2,\n",
      "  '0.007*\"kong\" + 0.007*\"kun\" + 0.007*\"stor\" + 0.006*\"hel\" + 0.006*\"rom\" + '\n",
      "  '0.006*\"kom\" + 0.005*\"ogsaa\" + 0.005*\"vel\" + 0.005*\"baad\" + 0.005*\"vild\"'),\n",
      " (3,\n",
      "  '0.013*\"kong\" + 0.010*\"ei\" + 0.005*\"kom\" + 0.005*\"dannemark\" + 0.003*\"kun\" + '\n",
      "  '0.003*\"gaml\" + 0.003*\"søn\" + 0.003*\"ord\" + 0.003*\"sagd\" + 0.003*\"dag\"'),\n",
      " (4,\n",
      "  '0.001*\"jordensaa\" + 0.001*\"rethan\" + 0.001*\"tidsom\" + 0.001*\"givetat\" + '\n",
      "  '0.001*\"tilbage\" + 0.001*\"sønjeg\" + 0.001*\"svigei\" + 0.001*\"saamed\" + '\n",
      "  '0.001*\"letsom\" + 0.001*\"matthisonhans\"'),\n",
      " (5,\n",
      "  '0.017*\"ei\" + 0.011*\"gud\" + 0.007*\"dit\" + 0.006*\"kun\" + 0.005*\"mon\" + '\n",
      "  '0.004*\"kan\" + 0.004*\"ord\" + 0.004*\"gaml\" + 0.003*\"kirk\" + 0.003*\"maa\"'),\n",
      " (6,\n",
      "  '0.006*\"liv\" + 0.005*\"herm\" + 0.005*\"boemund\" + 0.004*\"antioki\" + '\n",
      "  '0.003*\"glemmes_aldr\" + 0.003*\"apollo\" + 0.003*\"tysk\" + 0.002*\"sødt\" + '\n",
      "  '0.002*\"flokked\" + 0.002*\"kvind\"'),\n",
      " (7,\n",
      "  '0.013*\"herod\" + 0.004*\"delphi\" + 0.002*\"melodi\" + 0.002*\"slagterbænk\" + '\n",
      "  '0.002*\"guldsom\" + 0.002*\"drabant\" + 0.002*\"josva\" + 0.002*\"lønraad_sl\" + '\n",
      "  '0.002*\"syl\" + 0.002*\"kreta\"'),\n",
      " (8,\n",
      "  '0.008*\"gud\" + 0.007*\"død\" + 0.005*\"ei\" + 0.005*\"kan\" + 0.004*\"al\" + '\n",
      "  '0.004*\"no\" + 0.004*\"liv\" + 0.004*\"ord\" + 0.003*\"aand\" + 0.003*\"vort\"'),\n",
      " (9,\n",
      "  '0.008*\"odin\" + 0.008*\"asern\" + 0.007*\"jet\" + 0.006*\"digt\" + 0.006*\"lok\" + '\n",
      "  '0.005*\"aser\" + 0.004*\"norn\" + 0.004*\"gud\" + 0.004*\"thor\" + 0.004*\"edda\"'),\n",
      " (10,\n",
      "  '0.024*\"dam\" + 0.013*\"odin\" + 0.012*\"thor\" + 0.009*\"myth\" + 0.006*\"asern\" + '\n",
      "  '0.006*\"jet\" + 0.006*\"lok\" + 0.006*\"nord\" + 0.005*\"bald\" + 0.005*\"poetisk\"'),\n",
      " (11,\n",
      "  '0.012*\"kan\" + 0.010*\"ei\" + 0.009*\"kun\" + 0.008*\"naar\" + 0.007*\"maa\" + '\n",
      "  '0.007*\"kund\" + 0.006*\"vel\" + 0.006*\"hel\" + 0.006*\"vild\" + 0.005*\"folk\"'),\n",
      " (12,\n",
      "  '0.019*\"kristendom\" + 0.013*\"krist\" + 0.007*\"kristn\" + 0.007*\"ere\" + '\n",
      "  '0.006*\"gør\" + 0.006*\"kristi\" + 0.006*\"se\" + 0.005*\"ej\" + 0.005*\"kær\" + '\n",
      "  '0.005*\"hin\"'),\n",
      " (13,\n",
      "  '0.002*\"korsets_træ\" + 0.002*\"blaamænd\" + 0.002*\"sagog\" + '\n",
      "  '0.001*\"korsfæstedenu\" + 0.001*\"væregud\" + 0.001*\"fanekorsban\" + '\n",
      "  '0.001*\"runersom\" + 0.001*\"forladerpaa\" + 0.001*\"jorderigog\" + '\n",
      "  '0.001*\"frithan\"'),\n",
      " (14,\n",
      "  '0.028*\"gud\" + 0.015*\"ord\" + 0.013*\"ei\" + 0.012*\"hjert\" + 0.010*\"kun\" + '\n",
      "  '0.008*\"verd\" + 0.008*\"aand\" + 0.008*\"lys\" + 0.007*\"dag\" + 0.007*\"eder\"'),\n",
      " (15,\n",
      "  '0.005*\"canaan\" + 0.002*\"aandtil\" + 0.002*\"kvær\" + 0.002*\"haandsaa\" + '\n",
      "  '0.002*\"stigeop\" + 0.001*\"rahab\" + 0.001*\"kækt\" + 0.001*\"gyldenaarmed\" + '\n",
      "  '0.001*\"laus\" + 0.001*\"nærsaa\"'),\n",
      " (16,\n",
      "  '0.004*\"fadervor\" + 0.002*\"fortabt\" + 0.002*\"aando\" + 0.002*\"aandsaa\" + '\n",
      "  '0.001*\"jordei\" + 0.001*\"signed\" + 0.001*\"himmeldør\" + 0.001*\"dvaled\" + '\n",
      "  '0.001*\"haandfor\" + 0.001*\"ny_psalmebog\"'),\n",
      " (17,\n",
      "  '0.002*\"glemmes_aldr\" + 0.002*\"kvædl\" + 0.001*\"syrith\" + 0.001*\"willemo\" + '\n",
      "  '0.001*\"himlensaa\" + 0.001*\"prindses\" + 0.001*\"kanhvor\" + 0.001*\"naboth\" + '\n",
      "  '0.001*\"rigesom\" + 0.001*\"tilsaa\"'),\n",
      " (18,\n",
      "  '0.025*\"ei\" + 0.008*\"kan\" + 0.006*\"gud\" + 0.005*\"maa\" + 0.005*\"kun\" + '\n",
      "  '0.005*\"vel\" + 0.004*\"kom\" + 0.004*\"hel\" + 0.004*\"jord\" + 0.003*\"dit\"'),\n",
      " (19,\n",
      "  '0.022*\"dansk\" + 0.005*\"bønd\" + 0.004*\"danmark\" + 0.003*\"slesv\" + '\n",
      "  '0.003*\"fru_mari\" + 0.002*\"modersmaal\" + 0.002*\"dannebrog\" + 0.002*\"vort\" + '\n",
      "  '0.002*\"tydsk\" + 0.002*\"rønnebæksholm\"')]\n"
     ]
    }
   ],
   "source": [
    "pprint(lda_model.print_topics())\n",
    "doc_lda = lda_model[corpus]"
   ]
  },
  {
   "cell_type": "markdown",
   "metadata": {},
   "source": [
    "#### The following is two standards to evaluate the quality of our results"
   ]
  },
  {
   "cell_type": "markdown",
   "metadata": {},
   "source": [
    "Perplexity measures the prediction ability of language model, a smaller value of perplexity indicates a better quality of our model. And coherence score is specifically designed for evaluating the results of topic modelling, bigger value of coherence Score indicate a better model.The paper about cohenrent score can be find [here](http://svn.aksw.org/papers/2015/WSDM_Topic_Evaluation/public.pdf)"
   ]
  },
  {
   "cell_type": "code",
   "execution_count": 19,
   "metadata": {},
   "outputs": [
    {
     "name": "stdout",
     "output_type": "stream",
     "text": [
      "\n",
      "Perplexity:  -8.747952069828413\n",
      "\n",
      "Coherence Score:  0.4597481856292293\n"
     ]
    }
   ],
   "source": [
    "# Compute Perplexity\n",
    "print('\\nPerplexity: ', lda_model.log_perplexity(corpus)) \n",
    "\n",
    "# Compute Coherence Score\n",
    "coherence_model_lda = CoherenceModel(model=lda_model, texts=data_stemmed, dictionary=id2word, coherence='c_v')\n",
    "coherence_lda = coherence_model_lda.get_coherence()\n",
    "print('\\nCoherence Score: ', coherence_lda)"
   ]
  },
  {
   "cell_type": "markdown",
   "metadata": {},
   "source": [
    "#### Interact with the results dynamically"
   ]
  },
  {
   "cell_type": "markdown",
   "metadata": {},
   "source": [
    "This is powerful tool, and you can use it to explore the topic modelling results"
   ]
  },
  {
   "cell_type": "code",
   "execution_count": 20,
   "metadata": {},
   "outputs": [
    {
     "name": "stderr",
     "output_type": "stream",
     "text": [
      "C:\\Users\\ljh\\Anaconda3\\lib\\site-packages\\pyLDAvis\\_prepare.py:257: FutureWarning: Sorting because non-concatenation axis is not aligned. A future version\n",
      "of pandas will change to not sort by default.\n",
      "\n",
      "To accept the future behavior, pass 'sort=True'.\n",
      "\n",
      "To retain the current behavior and silence the warning, pass sort=False\n",
      "\n",
      "  return pd.concat([default_term_info] + list(topic_dfs))\n"
     ]
    },
    {
     "data": {
      "text/html": [
       "\n",
       "<link rel=\"stylesheet\" type=\"text/css\" href=\"https://cdn.rawgit.com/bmabey/pyLDAvis/files/ldavis.v1.0.0.css\">\n",
       "\n",
       "\n",
       "<div id=\"ldavis_el7256032142913164327813292516\"></div>\n",
       "<script type=\"text/javascript\">\n",
       "\n",
       "var ldavis_el7256032142913164327813292516_data = {\"mdsDat\": {\"x\": [-0.35276742164658814, -0.31448918862508984, -0.271213407329505, -0.1592416301240057, -0.20485236840745258, -0.13974006974705708, -0.12272870696497681, -0.1717567996324632, 0.06469697342127453, 0.0949950464252726, -0.039235913899539614, 0.09875265827999447, 0.18563962673287335, 0.18737212675421064, 0.19534629630032402, 0.1918658728234115, 0.1933174734696421, 0.18888294822786933, 0.18801328372665535, 0.1871432002151493], \"y\": [-0.10425252506747451, -0.13377175489544305, -0.1542924066231966, 0.05257140810617173, 0.13148453255772855, 0.05038581362294945, 0.1508396525738169, 0.17877397652711063, -0.18121037811334606, -0.07236590028067794, 0.14482173804486217, -0.07863284418491052, 0.009607526530071972, -0.0030578907280963533, -0.0011238012398852733, -0.0013240915315089247, 0.002008307262438591, 0.0031248076587253653, 0.0027301043648602415, 0.003683725415803214], \"topics\": [1, 2, 3, 4, 5, 6, 7, 8, 9, 10, 11, 12, 13, 14, 15, 16, 17, 18, 19, 20], \"cluster\": [1, 1, 1, 1, 1, 1, 1, 1, 1, 1, 1, 1, 1, 1, 1, 1, 1, 1, 1, 1], \"Freq\": [38.2099609375, 18.816734313964844, 16.645282745361328, 4.235795497894287, 3.6535139083862305, 3.5980517864227295, 3.5585756301879883, 3.416647434234619, 1.7913973331451416, 1.7757622003555298, 1.2341605424880981, 1.1959704160690308, 0.6005550026893616, 0.3437621295452118, 0.21840740740299225, 0.203049436211586, 0.19356080889701843, 0.14594680070877075, 0.08343902230262756, 0.07942148298025131]}, \"tinfo\": {\"Category\": [\"Default\", \"Default\", \"Default\", \"Default\", \"Default\", \"Default\", \"Default\", \"Default\", \"Default\", \"Default\", \"Default\", \"Default\", \"Default\", \"Default\", \"Default\", \"Default\", \"Default\", \"Default\", \"Default\", \"Default\", \"Default\", \"Default\", \"Default\", \"Default\", \"Default\", \"Default\", \"Default\", \"Default\", \"Default\", \"Default\", \"Topic1\", \"Topic1\", \"Topic1\", \"Topic1\", \"Topic1\", \"Topic1\", \"Topic1\", \"Topic1\", \"Topic1\", \"Topic1\", \"Topic1\", \"Topic1\", \"Topic1\", \"Topic1\", \"Topic1\", \"Topic1\", \"Topic1\", \"Topic1\", \"Topic1\", \"Topic1\", \"Topic1\", \"Topic1\", \"Topic1\", \"Topic1\", \"Topic1\", \"Topic1\", \"Topic1\", \"Topic1\", \"Topic1\", \"Topic1\", \"Topic1\", \"Topic1\", \"Topic1\", \"Topic1\", \"Topic1\", \"Topic1\", \"Topic1\", \"Topic1\", \"Topic1\", \"Topic1\", \"Topic1\", \"Topic1\", \"Topic1\", \"Topic1\", \"Topic1\", \"Topic1\", \"Topic1\", \"Topic1\", \"Topic1\", \"Topic1\", \"Topic1\", \"Topic1\", \"Topic1\", \"Topic1\", \"Topic1\", \"Topic1\", \"Topic1\", \"Topic1\", \"Topic1\", \"Topic1\", \"Topic1\", \"Topic1\", \"Topic1\", \"Topic1\", \"Topic1\", \"Topic1\", \"Topic1\", \"Topic1\", \"Topic1\", \"Topic1\", \"Topic1\", \"Topic1\", \"Topic1\", \"Topic1\", \"Topic1\", \"Topic1\", \"Topic1\", \"Topic1\", \"Topic1\", \"Topic1\", \"Topic1\", \"Topic1\", \"Topic1\", \"Topic1\", \"Topic1\", \"Topic1\", \"Topic1\", \"Topic1\", \"Topic1\", \"Topic1\", \"Topic1\", \"Topic1\", \"Topic1\", \"Topic1\", \"Topic1\", \"Topic1\", \"Topic2\", \"Topic2\", \"Topic2\", \"Topic2\", \"Topic2\", \"Topic2\", \"Topic2\", \"Topic2\", \"Topic2\", \"Topic2\", \"Topic2\", \"Topic2\", \"Topic2\", \"Topic2\", \"Topic2\", \"Topic2\", \"Topic2\", \"Topic2\", \"Topic2\", \"Topic2\", \"Topic2\", \"Topic2\", \"Topic2\", \"Topic2\", \"Topic2\", \"Topic2\", \"Topic2\", \"Topic2\", \"Topic2\", \"Topic2\", \"Topic2\", \"Topic2\", \"Topic2\", \"Topic2\", \"Topic2\", \"Topic2\", \"Topic2\", \"Topic2\", \"Topic2\", \"Topic2\", \"Topic2\", \"Topic2\", \"Topic2\", \"Topic2\", \"Topic2\", \"Topic2\", \"Topic2\", \"Topic2\", \"Topic2\", \"Topic2\", \"Topic2\", \"Topic2\", \"Topic2\", \"Topic2\", \"Topic2\", \"Topic2\", \"Topic2\", \"Topic2\", \"Topic2\", \"Topic2\", \"Topic2\", \"Topic2\", \"Topic2\", \"Topic2\", \"Topic2\", \"Topic2\", \"Topic2\", \"Topic2\", \"Topic2\", \"Topic2\", \"Topic2\", \"Topic2\", \"Topic2\", \"Topic2\", \"Topic2\", \"Topic2\", \"Topic2\", \"Topic2\", \"Topic2\", \"Topic2\", \"Topic2\", \"Topic2\", \"Topic2\", \"Topic3\", \"Topic3\", \"Topic3\", \"Topic3\", \"Topic3\", \"Topic3\", \"Topic3\", \"Topic3\", \"Topic3\", \"Topic3\", \"Topic3\", \"Topic3\", \"Topic3\", \"Topic3\", \"Topic3\", \"Topic3\", \"Topic3\", \"Topic3\", \"Topic3\", \"Topic3\", \"Topic3\", \"Topic3\", \"Topic3\", \"Topic3\", \"Topic3\", \"Topic3\", \"Topic3\", \"Topic3\", \"Topic3\", \"Topic3\", \"Topic3\", \"Topic3\", \"Topic3\", \"Topic3\", \"Topic3\", \"Topic3\", \"Topic3\", \"Topic3\", \"Topic3\", \"Topic3\", \"Topic3\", \"Topic3\", \"Topic3\", \"Topic3\", \"Topic3\", \"Topic3\", \"Topic3\", \"Topic3\", \"Topic3\", \"Topic3\", \"Topic3\", \"Topic3\", \"Topic3\", \"Topic3\", \"Topic3\", \"Topic3\", \"Topic3\", \"Topic3\", \"Topic3\", \"Topic3\", \"Topic3\", \"Topic3\", \"Topic3\", \"Topic3\", \"Topic3\", \"Topic3\", \"Topic3\", \"Topic3\", \"Topic3\", \"Topic3\", \"Topic3\", \"Topic3\", \"Topic3\", \"Topic3\", \"Topic3\", \"Topic3\", \"Topic3\", \"Topic3\", \"Topic3\", \"Topic3\", \"Topic3\", \"Topic3\", \"Topic3\", \"Topic3\", \"Topic3\", \"Topic3\", \"Topic4\", \"Topic4\", \"Topic4\", \"Topic4\", \"Topic4\", \"Topic4\", \"Topic4\", \"Topic4\", \"Topic4\", \"Topic4\", \"Topic4\", \"Topic4\", \"Topic4\", \"Topic4\", \"Topic4\", \"Topic4\", \"Topic4\", \"Topic4\", \"Topic4\", \"Topic4\", \"Topic4\", \"Topic4\", \"Topic4\", \"Topic4\", \"Topic4\", \"Topic4\", \"Topic4\", \"Topic4\", \"Topic4\", \"Topic4\", \"Topic4\", \"Topic4\", \"Topic4\", \"Topic4\", \"Topic4\", \"Topic4\", \"Topic4\", \"Topic4\", \"Topic4\", \"Topic4\", \"Topic4\", \"Topic4\", \"Topic4\", \"Topic4\", \"Topic4\", \"Topic4\", \"Topic4\", \"Topic4\", \"Topic4\", \"Topic4\", \"Topic4\", \"Topic4\", \"Topic4\", \"Topic4\", \"Topic4\", \"Topic4\", \"Topic4\", \"Topic4\", \"Topic4\", \"Topic4\", \"Topic4\", \"Topic4\", \"Topic4\", \"Topic4\", \"Topic4\", \"Topic4\", \"Topic4\", \"Topic4\", \"Topic4\", \"Topic4\", \"Topic4\", \"Topic4\", \"Topic4\", \"Topic4\", \"Topic4\", \"Topic4\", \"Topic4\", \"Topic4\", \"Topic4\", \"Topic4\", \"Topic4\", \"Topic4\", \"Topic5\", \"Topic5\", \"Topic5\", \"Topic5\", \"Topic5\", \"Topic5\", \"Topic5\", \"Topic5\", \"Topic5\", \"Topic5\", \"Topic5\", \"Topic5\", \"Topic5\", \"Topic5\", \"Topic5\", \"Topic5\", \"Topic5\", \"Topic5\", \"Topic5\", \"Topic5\", \"Topic5\", \"Topic5\", \"Topic5\", \"Topic5\", \"Topic5\", \"Topic5\", \"Topic5\", \"Topic5\", \"Topic5\", \"Topic5\", \"Topic5\", \"Topic5\", \"Topic5\", \"Topic5\", \"Topic5\", \"Topic5\", \"Topic5\", \"Topic5\", \"Topic5\", \"Topic5\", \"Topic5\", \"Topic5\", \"Topic5\", \"Topic5\", \"Topic5\", \"Topic5\", \"Topic5\", \"Topic5\", \"Topic5\", \"Topic5\", \"Topic5\", \"Topic5\", \"Topic5\", \"Topic5\", \"Topic5\", \"Topic5\", \"Topic5\", \"Topic5\", \"Topic5\", \"Topic5\", \"Topic5\", \"Topic5\", \"Topic5\", \"Topic5\", \"Topic5\", \"Topic5\", \"Topic5\", \"Topic5\", \"Topic5\", \"Topic5\", \"Topic5\", \"Topic5\", \"Topic5\", \"Topic5\", \"Topic5\", \"Topic5\", \"Topic5\", \"Topic5\", \"Topic5\", \"Topic5\", \"Topic5\", \"Topic5\", \"Topic5\", \"Topic5\", \"Topic5\", \"Topic6\", \"Topic6\", \"Topic6\", \"Topic6\", \"Topic6\", \"Topic6\", \"Topic6\", \"Topic6\", \"Topic6\", \"Topic6\", \"Topic6\", \"Topic6\", \"Topic6\", \"Topic6\", \"Topic6\", \"Topic6\", \"Topic6\", \"Topic6\", \"Topic6\", \"Topic6\", \"Topic6\", \"Topic6\", \"Topic6\", \"Topic6\", \"Topic6\", \"Topic6\", \"Topic6\", \"Topic6\", \"Topic6\", \"Topic6\", \"Topic6\", \"Topic6\", \"Topic6\", \"Topic6\", \"Topic6\", \"Topic6\", \"Topic6\", \"Topic6\", \"Topic6\", \"Topic6\", \"Topic6\", \"Topic6\", \"Topic6\", \"Topic6\", \"Topic6\", \"Topic6\", \"Topic6\", \"Topic6\", \"Topic6\", \"Topic6\", \"Topic6\", \"Topic6\", \"Topic6\", \"Topic6\", \"Topic6\", \"Topic6\", \"Topic6\", \"Topic6\", \"Topic6\", \"Topic6\", \"Topic6\", \"Topic6\", \"Topic6\", \"Topic6\", \"Topic6\", \"Topic6\", \"Topic6\", \"Topic6\", \"Topic6\", \"Topic6\", \"Topic6\", \"Topic6\", \"Topic6\", \"Topic6\", \"Topic6\", \"Topic6\", \"Topic6\", \"Topic6\", \"Topic6\", \"Topic6\", \"Topic6\", \"Topic6\", \"Topic6\", \"Topic6\", \"Topic6\", \"Topic6\", \"Topic7\", \"Topic7\", \"Topic7\", \"Topic7\", \"Topic7\", \"Topic7\", \"Topic7\", \"Topic7\", \"Topic7\", \"Topic7\", \"Topic7\", \"Topic7\", \"Topic7\", \"Topic7\", \"Topic7\", \"Topic7\", \"Topic7\", \"Topic7\", \"Topic7\", \"Topic7\", \"Topic7\", \"Topic7\", \"Topic7\", \"Topic7\", \"Topic7\", \"Topic7\", \"Topic7\", \"Topic7\", \"Topic7\", \"Topic7\", \"Topic7\", \"Topic7\", \"Topic7\", \"Topic7\", \"Topic7\", \"Topic7\", \"Topic7\", \"Topic7\", \"Topic7\", \"Topic7\", \"Topic7\", \"Topic7\", \"Topic7\", \"Topic7\", \"Topic7\", \"Topic7\", \"Topic7\", \"Topic7\", \"Topic7\", \"Topic7\", \"Topic7\", \"Topic7\", \"Topic7\", \"Topic7\", \"Topic7\", \"Topic7\", \"Topic7\", \"Topic7\", \"Topic7\", \"Topic7\", \"Topic7\", \"Topic7\", \"Topic7\", \"Topic7\", \"Topic7\", \"Topic7\", \"Topic7\", \"Topic7\", \"Topic7\", \"Topic7\", \"Topic7\", \"Topic7\", \"Topic7\", \"Topic7\", \"Topic7\", \"Topic7\", \"Topic7\", \"Topic7\", \"Topic7\", \"Topic8\", \"Topic8\", \"Topic8\", \"Topic8\", \"Topic8\", \"Topic8\", \"Topic8\", \"Topic8\", \"Topic8\", \"Topic8\", \"Topic8\", \"Topic8\", \"Topic8\", \"Topic8\", \"Topic8\", \"Topic8\", \"Topic8\", \"Topic8\", \"Topic8\", \"Topic8\", \"Topic8\", \"Topic8\", \"Topic8\", \"Topic8\", \"Topic8\", \"Topic8\", \"Topic8\", \"Topic8\", \"Topic8\", \"Topic8\", \"Topic8\", \"Topic8\", \"Topic8\", \"Topic8\", \"Topic8\", \"Topic8\", \"Topic8\", \"Topic8\", \"Topic8\", \"Topic8\", \"Topic8\", \"Topic8\", \"Topic8\", \"Topic8\", \"Topic8\", \"Topic8\", \"Topic8\", \"Topic8\", \"Topic8\", \"Topic8\", \"Topic8\", \"Topic8\", \"Topic8\", \"Topic8\", \"Topic8\", \"Topic8\", \"Topic8\", \"Topic8\", \"Topic8\", \"Topic8\", \"Topic8\", \"Topic8\", \"Topic8\", \"Topic8\", \"Topic8\", \"Topic8\", \"Topic8\", \"Topic8\", \"Topic8\", \"Topic8\", \"Topic8\", \"Topic8\", \"Topic8\", \"Topic8\", \"Topic8\", \"Topic8\", \"Topic8\", \"Topic9\", \"Topic9\", \"Topic9\", \"Topic9\", \"Topic9\", \"Topic9\", \"Topic9\", \"Topic9\", \"Topic9\", \"Topic9\", \"Topic9\", \"Topic9\", \"Topic9\", \"Topic9\", \"Topic9\", \"Topic9\", \"Topic9\", \"Topic9\", \"Topic9\", \"Topic9\", \"Topic9\", \"Topic9\", \"Topic9\", \"Topic9\", \"Topic9\", \"Topic9\", \"Topic9\", \"Topic9\", \"Topic9\", \"Topic9\", \"Topic9\", \"Topic9\", \"Topic9\", \"Topic9\", \"Topic9\", \"Topic9\", \"Topic9\", \"Topic9\", \"Topic9\", \"Topic9\", \"Topic9\", \"Topic9\", \"Topic9\", \"Topic9\", \"Topic9\", \"Topic9\", \"Topic9\", \"Topic9\", \"Topic9\", \"Topic9\", \"Topic9\", \"Topic9\", \"Topic9\", \"Topic9\", \"Topic9\", \"Topic9\", \"Topic9\", \"Topic9\", \"Topic9\", \"Topic9\", \"Topic9\", \"Topic9\", \"Topic9\", \"Topic9\", \"Topic9\", \"Topic9\", \"Topic9\", \"Topic9\", \"Topic9\", \"Topic9\", \"Topic9\", \"Topic9\", \"Topic10\", \"Topic10\", \"Topic10\", \"Topic10\", \"Topic10\", \"Topic10\", \"Topic10\", \"Topic10\", \"Topic10\", \"Topic10\", \"Topic10\", \"Topic10\", \"Topic10\", \"Topic10\", \"Topic10\", \"Topic10\", \"Topic10\", \"Topic10\", \"Topic10\", \"Topic10\", \"Topic10\", \"Topic10\", \"Topic10\", \"Topic10\", \"Topic10\", \"Topic10\", \"Topic10\", \"Topic10\", \"Topic10\", \"Topic10\", \"Topic10\", \"Topic10\", \"Topic10\", \"Topic10\", \"Topic10\", \"Topic10\", \"Topic10\", \"Topic10\", \"Topic10\", \"Topic10\", \"Topic10\", \"Topic10\", \"Topic10\", \"Topic10\", \"Topic10\", \"Topic10\", \"Topic10\", \"Topic10\", \"Topic10\", \"Topic10\", \"Topic10\", \"Topic10\", \"Topic10\", \"Topic10\", \"Topic10\", \"Topic10\", \"Topic10\", \"Topic10\", \"Topic10\", \"Topic10\", \"Topic10\", \"Topic10\", \"Topic10\", \"Topic10\", \"Topic10\", \"Topic11\", \"Topic11\", \"Topic11\", \"Topic11\", \"Topic11\", \"Topic11\", \"Topic11\", \"Topic11\", \"Topic11\", \"Topic11\", \"Topic11\", \"Topic11\", \"Topic11\", \"Topic11\", \"Topic11\", \"Topic11\", \"Topic11\", \"Topic11\", \"Topic11\", \"Topic11\", \"Topic11\", \"Topic11\", \"Topic11\", \"Topic11\", \"Topic11\", \"Topic11\", \"Topic11\", \"Topic11\", \"Topic11\", \"Topic11\", \"Topic11\", \"Topic11\", \"Topic11\", \"Topic11\", \"Topic11\", \"Topic11\", \"Topic11\", \"Topic11\", \"Topic11\", \"Topic11\", \"Topic11\", \"Topic11\", \"Topic11\", \"Topic11\", \"Topic11\", \"Topic11\", \"Topic11\", \"Topic11\", \"Topic11\", \"Topic11\", \"Topic11\", \"Topic11\", \"Topic11\", \"Topic11\", \"Topic11\", \"Topic11\", \"Topic11\", \"Topic11\", \"Topic11\", \"Topic11\", \"Topic11\", \"Topic11\", \"Topic11\", \"Topic11\", \"Topic11\", \"Topic11\", \"Topic11\", \"Topic11\", \"Topic11\", \"Topic11\", \"Topic11\", \"Topic11\", \"Topic12\", \"Topic12\", \"Topic12\", \"Topic12\", \"Topic12\", \"Topic12\", \"Topic12\", \"Topic12\", \"Topic12\", \"Topic12\", \"Topic12\", \"Topic12\", \"Topic12\", \"Topic12\", \"Topic12\", \"Topic12\", \"Topic12\", \"Topic12\", \"Topic12\", \"Topic12\", \"Topic12\", \"Topic12\", \"Topic12\", \"Topic12\", \"Topic12\", \"Topic12\", \"Topic12\", \"Topic12\", \"Topic12\", \"Topic12\", \"Topic12\", \"Topic12\", \"Topic12\", \"Topic12\", \"Topic12\", \"Topic12\", \"Topic12\", \"Topic12\", \"Topic12\", \"Topic12\", \"Topic12\", \"Topic12\", \"Topic12\", \"Topic12\", \"Topic12\", \"Topic12\", \"Topic12\", \"Topic12\", \"Topic12\", \"Topic12\", \"Topic12\", \"Topic12\", \"Topic12\", \"Topic12\", \"Topic12\", \"Topic12\", \"Topic12\", \"Topic12\", \"Topic12\", \"Topic12\", \"Topic13\", \"Topic13\", \"Topic13\", \"Topic13\", \"Topic13\", \"Topic13\", \"Topic13\", \"Topic13\", \"Topic13\", \"Topic13\", \"Topic13\", \"Topic13\", \"Topic13\", \"Topic13\", \"Topic13\", \"Topic13\", \"Topic13\", \"Topic13\", \"Topic13\", \"Topic13\", \"Topic13\", \"Topic13\", \"Topic13\", \"Topic13\", \"Topic13\", \"Topic13\", \"Topic13\", \"Topic13\", \"Topic13\", \"Topic13\", \"Topic13\", \"Topic13\", \"Topic13\", \"Topic13\", \"Topic13\", \"Topic13\", \"Topic13\", \"Topic13\", \"Topic13\", \"Topic13\", \"Topic13\", \"Topic13\", \"Topic13\", \"Topic13\", \"Topic14\", \"Topic14\", \"Topic14\", \"Topic14\", \"Topic14\", \"Topic14\", \"Topic14\", \"Topic14\", \"Topic14\", \"Topic14\", \"Topic14\", \"Topic14\", \"Topic14\", \"Topic14\", \"Topic14\", \"Topic14\", \"Topic14\", \"Topic14\", \"Topic14\", \"Topic14\", \"Topic14\", \"Topic14\", \"Topic14\", \"Topic14\", \"Topic14\", \"Topic14\", \"Topic14\", \"Topic14\", \"Topic14\", \"Topic14\", \"Topic14\", \"Topic14\", \"Topic14\", \"Topic14\", \"Topic14\", \"Topic14\", \"Topic14\", \"Topic14\", \"Topic14\", \"Topic14\", \"Topic14\", \"Topic14\", \"Topic14\", \"Topic14\", \"Topic14\", \"Topic14\", \"Topic14\", \"Topic14\", \"Topic14\", \"Topic14\", \"Topic14\", \"Topic14\", \"Topic14\", \"Topic14\", \"Topic15\", \"Topic15\", \"Topic15\", \"Topic15\", \"Topic15\", \"Topic15\", \"Topic15\", \"Topic15\", \"Topic15\", \"Topic15\", \"Topic15\", \"Topic15\", \"Topic15\", \"Topic15\", \"Topic15\", \"Topic15\", \"Topic15\", \"Topic15\", \"Topic15\", \"Topic15\", \"Topic15\", \"Topic15\", \"Topic15\", \"Topic15\", \"Topic15\", \"Topic15\", \"Topic15\", \"Topic15\", \"Topic15\", \"Topic15\", \"Topic15\", \"Topic15\", \"Topic15\", \"Topic15\", \"Topic15\", \"Topic15\", \"Topic15\", \"Topic15\", \"Topic15\", \"Topic15\", \"Topic15\", \"Topic16\", \"Topic16\", \"Topic16\", \"Topic16\", \"Topic16\", \"Topic16\", \"Topic16\", \"Topic16\", \"Topic16\", \"Topic16\", \"Topic16\", \"Topic16\", \"Topic16\", \"Topic16\", \"Topic16\", \"Topic16\", \"Topic16\", \"Topic16\", \"Topic16\", \"Topic16\", \"Topic16\", \"Topic16\", \"Topic16\", \"Topic16\", \"Topic16\", \"Topic16\", \"Topic16\", \"Topic16\", \"Topic16\", \"Topic16\", \"Topic16\", \"Topic16\", \"Topic16\", \"Topic17\", \"Topic17\", \"Topic17\", \"Topic17\", \"Topic17\", \"Topic17\", \"Topic17\", \"Topic17\", \"Topic17\", \"Topic17\", \"Topic17\", \"Topic17\", \"Topic17\", \"Topic17\", \"Topic17\", \"Topic17\", \"Topic17\", \"Topic17\", \"Topic17\", \"Topic17\", \"Topic17\", \"Topic17\", \"Topic17\", \"Topic17\", \"Topic17\", \"Topic17\", \"Topic17\", \"Topic17\", \"Topic17\", \"Topic17\", \"Topic17\", \"Topic18\", \"Topic18\", \"Topic18\", \"Topic18\", \"Topic18\", \"Topic18\", \"Topic18\", \"Topic18\", \"Topic18\", \"Topic18\", \"Topic18\", \"Topic18\", \"Topic18\", \"Topic18\", \"Topic18\", \"Topic18\", \"Topic18\", \"Topic18\", \"Topic18\", \"Topic18\", \"Topic18\", \"Topic18\", \"Topic18\", \"Topic18\", \"Topic18\", \"Topic18\", \"Topic18\", \"Topic18\", \"Topic18\", \"Topic18\", \"Topic18\", \"Topic18\", \"Topic18\", \"Topic18\", \"Topic18\", \"Topic18\", \"Topic18\", \"Topic18\", \"Topic19\", \"Topic19\", \"Topic19\", \"Topic19\", \"Topic19\", \"Topic19\", \"Topic19\", \"Topic19\", \"Topic19\", \"Topic19\", \"Topic19\", \"Topic19\", \"Topic19\", \"Topic19\", \"Topic19\", \"Topic19\", \"Topic19\", \"Topic19\", \"Topic19\", \"Topic19\", \"Topic19\", \"Topic19\", \"Topic19\", \"Topic19\", \"Topic19\", \"Topic19\", \"Topic19\", \"Topic19\", \"Topic19\", \"Topic19\", \"Topic19\", \"Topic19\", \"Topic19\", \"Topic19\", \"Topic19\", \"Topic19\", \"Topic20\", \"Topic20\", \"Topic20\", \"Topic20\", \"Topic20\", \"Topic20\", \"Topic20\", \"Topic20\", \"Topic20\", \"Topic20\", \"Topic20\", \"Topic20\", \"Topic20\", \"Topic20\", \"Topic20\", \"Topic20\", \"Topic20\", \"Topic20\", \"Topic20\", \"Topic20\", \"Topic20\", \"Topic20\", \"Topic20\", \"Topic20\", \"Topic20\", \"Topic20\", \"Topic20\", \"Topic20\", \"Topic20\", \"Topic20\", \"Topic20\", \"Topic20\", \"Topic20\", \"Topic20\", \"Topic20\", \"Topic20\", \"Topic20\"], \"Freq\": [9434.0, 2059.0, 6606.0, 4814.0, 5774.0, 10871.0, 3873.0, 3225.0, 9854.0, 3270.0, 2415.0, 1428.0, 2927.0, 1810.0, 3125.0, 736.0, 921.0, 2483.0, 2590.0, 6005.0, 3230.0, 5233.0, 1810.0, 2510.0, 2000.0, 1016.0, 3373.0, 2471.0, 1170.0, 1334.0, 135.55987548828125, 132.66014099121094, 108.5608139038086, 97.7712173461914, 100.96378326416016, 86.90348815917969, 75.71855926513672, 74.18194580078125, 71.95257568359375, 71.70514678955078, 61.18332290649414, 60.884830474853516, 58.77749252319336, 96.2122802734375, 55.72396469116211, 55.479820251464844, 54.28626251220703, 51.57713317871094, 50.916778564453125, 49.76961898803711, 49.44257354736328, 49.394405364990234, 46.893943786621094, 46.40026092529297, 46.309749603271484, 46.170654296875, 45.11491775512695, 44.210205078125, 43.354244232177734, 42.765045166015625, 66.34770202636719, 47.59047317504883, 418.3995361328125, 223.79193115234375, 379.5610046386719, 129.1072540283203, 195.74642944335938, 107.70458984375, 210.17555236816406, 197.56198120117188, 1768.31982421875, 349.7974548339844, 1202.07568359375, 166.5067138671875, 333.19903564453125, 1417.15576171875, 986.6538696289062, 190.02783203125, 507.165283203125, 180.00218200683594, 682.3988037109375, 365.2543640136719, 826.9395751953125, 393.0207214355469, 661.8038940429688, 2686.94091796875, 361.60723876953125, 6085.42919921875, 2320.75390625, 443.696533203125, 1383.122314453125, 3866.89794921875, 3285.364990234375, 1493.5806884765625, 519.5011596679688, 5045.58154296875, 3418.61279296875, 1532.276611328125, 3041.513427734375, 1472.5458984375, 1042.000732421875, 3107.574951171875, 1442.893310546875, 1088.18994140625, 2138.4326171875, 4538.91748046875, 2165.79248046875, 1820.044189453125, 1947.0550537109375, 2668.45751953125, 1400.086181640625, 3070.43408203125, 2170.921630859375, 1372.7802734375, 1840.20166015625, 2433.118408203125, 1743.40966796875, 1495.331298828125, 2232.376953125, 1560.55712890625, 1740.846923828125, 1545.453125, 1529.792236328125, 1694.438232421875, 1566.275390625, 1516.2476806640625, 578.9038696289062, 436.2442626953125, 476.2337341308594, 329.2564392089844, 272.5494384765625, 196.7556915283203, 165.5478057861328, 154.36976623535156, 152.0062713623047, 151.2637481689453, 146.68614196777344, 125.63237762451172, 122.56961822509766, 118.48976135253906, 107.95775604248047, 106.44395446777344, 97.57952880859375, 95.15171813964844, 93.29873657226562, 85.12297058105469, 81.14702606201172, 80.13236999511719, 78.88614654541016, 76.88156127929688, 73.44744110107422, 73.0072021484375, 66.60211181640625, 65.05905151367188, 61.02863311767578, 60.79151916503906, 416.6583557128906, 316.02227783203125, 189.17202758789062, 85.83454895019531, 484.9887390136719, 191.72332763671875, 1103.1910400390625, 339.0601501464844, 242.40623474121094, 208.8905487060547, 131.01071166992188, 1214.8017578125, 188.4170684814453, 2410.19140625, 1233.58203125, 1058.1187744140625, 755.2400512695312, 416.81524658203125, 1211.8184814453125, 426.0300598144531, 887.1715087890625, 641.35205078125, 1701.54638671875, 1137.2105712890625, 415.4144287109375, 781.8526000976562, 477.9743347167969, 619.3714599609375, 2513.927734375, 1196.7843017578125, 579.3368530273438, 3234.162109375, 1828.527099609375, 1365.1776123046875, 1947.6708984375, 943.1068725585938, 1102.37109375, 1891.63916015625, 2291.094970703125, 1825.9837646484375, 972.9596557617188, 1550.39990234375, 1205.865478515625, 1184.2279052734375, 1318.163330078125, 908.8462524414062, 1228.355224609375, 889.8582153320312, 1061.139892578125, 980.81787109375, 994.5894165039062, 1033.89501953125, 927.2916870117188, 248.67730712890625, 237.6862030029297, 205.3534393310547, 210.67916870117188, 165.465087890625, 157.27516174316406, 141.96205139160156, 144.5501251220703, 129.38314819335938, 123.88163757324219, 113.05827331542969, 108.73157501220703, 106.43305969238281, 105.13787841796875, 104.75914001464844, 104.5575180053711, 102.65135192871094, 101.60232543945312, 115.1322021484375, 100.2703628540039, 100.09185028076172, 98.92938232421875, 88.92704772949219, 87.3115463256836, 85.67352294921875, 84.65322875976562, 84.0147476196289, 82.91260528564453, 82.56827545166016, 80.25133514404297, 182.5106201171875, 268.68682861328125, 205.51942443847656, 335.9833068847656, 508.0505676269531, 134.1613311767578, 125.23937225341797, 246.09033203125, 166.46475219726562, 232.4444580078125, 205.42543029785156, 1245.325927734375, 509.67596435546875, 302.920166015625, 234.7818145751953, 212.42796325683594, 160.0067901611328, 514.1984252929688, 189.83924865722656, 262.18707275390625, 205.75352478027344, 404.60107421875, 462.669189453125, 1565.3330078125, 298.8182067871094, 960.93310546875, 865.5386962890625, 501.25909423828125, 624.46875, 742.4039306640625, 1438.3919677734375, 460.8822937011719, 1049.228271484375, 1217.0423583984375, 1389.9039306640625, 1143.5439453125, 585.7557373046875, 921.7628784179688, 1483.8680419921875, 1119.86767578125, 597.3278198242188, 671.17333984375, 575.6268920898438, 574.3070678710938, 1010.289306640625, 899.13330078125, 617.3015747070312, 950.396728515625, 727.3759765625, 639.60693359375, 707.4052734375, 671.7827758789062, 656.3554077148438, 608.4050903320312, 625.7490234375, 612.4050903320312, 79.00052642822266, 76.49229431152344, 57.12538146972656, 52.572166442871094, 69.9122085571289, 38.74330139160156, 35.472320556640625, 35.45282745361328, 30.85164451599121, 29.019929885864258, 28.655014038085938, 27.002378463745117, 25.45317840576172, 23.81545639038086, 23.51036834716797, 23.418561935424805, 23.35034942626953, 22.22165298461914, 21.875869750976562, 21.113346099853516, 20.839561462402344, 20.420799255371094, 20.192554473876953, 20.14398193359375, 18.22519874572754, 17.867033004760742, 17.825376510620117, 17.82204246520996, 17.698949813842773, 17.604169845581055, 38.30342102050781, 17.85511589050293, 35.374691009521484, 38.92292022705078, 65.0676040649414, 25.480770111083984, 121.78594970703125, 64.35066986083984, 32.91683578491211, 34.673805236816406, 185.24256896972656, 60.44826126098633, 107.2602310180664, 73.21510314941406, 1393.203857421875, 110.23493957519531, 116.42745971679688, 54.67420959472656, 102.5615234375, 141.69033813476562, 77.29579162597656, 179.04920959472656, 56.71574401855469, 150.90858459472656, 156.20294189453125, 77.65924072265625, 156.78651428222656, 191.03468322753906, 166.5658416748047, 349.1142578125, 418.3620300292969, 194.5386962890625, 79.57920837402344, 264.60528564453125, 246.85061645507812, 250.91864013671875, 132.11117553710938, 232.571533203125, 255.71139526367188, 169.53672790527344, 169.9830780029297, 143.0402069091797, 103.30250549316406, 144.2134246826172, 137.9525604248047, 124.8010025024414, 132.18711853027344, 149.22337341308594, 144.17576599121094, 127.62227630615234, 128.1732940673828, 123.91992950439453, 38.80937576293945, 25.952205657958984, 24.208101272583008, 21.473793029785156, 20.327550888061523, 15.811732292175293, 14.980012893676758, 13.927035331726074, 13.866913795471191, 13.671477317810059, 13.89647388458252, 12.546724319458008, 12.188907623291016, 11.953913688659668, 11.89769458770752, 11.810869216918945, 11.531512260437012, 11.468900680541992, 11.394468307495117, 11.381085395812988, 11.352906227111816, 11.309206008911133, 11.284039497375488, 11.198078155517578, 11.151483535766602, 11.150282859802246, 10.972640037536621, 10.957988739013672, 10.938572883605957, 10.795150756835938, 12.362812042236328, 59.17353439331055, 12.751986503601074, 64.70713806152344, 17.760950088500977, 26.213611602783203, 47.59737777709961, 28.229232788085938, 1335.2513427734375, 311.3907775878906, 112.28640747070312, 290.7806091308594, 561.2005615234375, 61.622962951660156, 228.9425506591797, 55.732421875, 27.53236198425293, 230.9101104736328, 101.9947738647461, 18.346744537353516, 723.6695556640625, 358.17535400390625, 166.70065307617188, 134.64222717285156, 87.4913330078125, 40.42029571533203, 43.85805892944336, 398.32757568359375, 135.4799346923828, 124.7948226928711, 178.56808471679688, 117.09911346435547, 248.297119140625, 168.0322265625, 182.11065673828125, 641.979248046875, 348.6992492675781, 139.56536865234375, 182.45712280273438, 238.67486572265625, 379.6827697753906, 134.2883758544922, 282.1139831542969, 460.742919921875, 163.3477783203125, 267.70880126953125, 222.88555908203125, 190.95816040039062, 173.70506286621094, 163.20579528808594, 182.45401000976562, 203.85765075683594, 163.5272216796875, 165.094482421875, 164.55393981933594, 46.9879035949707, 46.783443450927734, 35.990028381347656, 35.661773681640625, 31.333721160888672, 30.413217544555664, 27.62211036682129, 27.543764114379883, 26.96002769470215, 26.776222229003906, 26.170568466186523, 25.545690536499023, 24.27564239501953, 24.052398681640625, 23.49918556213379, 22.980119705200195, 22.8673038482666, 21.240489959716797, 20.703136444091797, 20.61018943786621, 20.593942642211914, 20.389806747436523, 19.840330123901367, 19.458492279052734, 18.870725631713867, 18.736682891845703, 18.637462615966797, 18.224092483520508, 18.13580894470215, 18.079740524291992, 49.45737075805664, 30.240257263183594, 35.262298583984375, 93.10723876953125, 43.509521484375, 230.2421417236328, 22.89866065979004, 91.45741271972656, 91.09264373779297, 84.58967590332031, 30.749204635620117, 135.50668334960938, 630.5474243164062, 81.97209167480469, 54.71591567993164, 63.66251754760742, 60.87002944946289, 44.39900588989258, 48.228111267089844, 105.80992889404297, 47.85905075073242, 99.69355010986328, 456.82537841796875, 44.29057312011719, 101.465576171875, 135.94088745117188, 69.26029205322266, 155.11769104003906, 89.52947998046875, 112.17005157470703, 255.41842651367188, 82.2366714477539, 63.86690139770508, 156.4339599609375, 135.52964782714844, 137.343017578125, 135.8086395263672, 127.96035766601562, 87.85969543457031, 160.08245849609375, 154.39593505859375, 84.00626373291016, 128.9751434326172, 115.36335754394531, 156.34620666503906, 161.4929962158203, 103.60569763183594, 108.21711730957031, 100.34664154052734, 100.9634017944336, 121.14859008789062, 95.98096466064453, 97.42632293701172, 97.28109741210938, 96.99283599853516, 97.3855972290039, 45.30385208129883, 29.662485122680664, 25.413610458374023, 22.817174911499023, 18.586589813232422, 17.9844913482666, 16.352712631225586, 16.311508178710938, 16.1334285736084, 15.502331733703613, 15.396383285522461, 15.201767921447754, 15.188837051391602, 14.675272941589355, 14.612038612365723, 14.609732627868652, 14.568374633789062, 14.566610336303711, 14.53103256225586, 14.281475067138672, 14.2470703125, 14.149435997009277, 14.106514930725098, 13.926265716552734, 13.610366821289062, 13.19632339477539, 12.963543891906738, 12.706427574157715, 12.640073776245117, 12.549510955810547, 57.9805793762207, 21.72523307800293, 64.05266571044922, 234.6900634765625, 24.959367752075195, 24.99040412902832, 339.19659423828125, 36.466922760009766, 34.65884780883789, 103.77865600585938, 42.23567199707031, 803.0462036132812, 42.287818908691406, 87.3858413696289, 528.6533203125, 77.83818054199219, 36.28229522705078, 128.71524047851562, 137.46498107910156, 69.28044891357422, 121.37351989746094, 120.45575714111328, 62.99601745605469, 64.65261840820312, 87.34394836425781, 64.26931762695312, 65.07083129882812, 119.26726531982422, 290.52349853515625, 121.39390563964844, 169.9792938232422, 190.48602294921875, 126.74500274658203, 153.907470703125, 79.1577377319336, 133.42604064941406, 92.45991516113281, 203.31924438476562, 131.37632751464844, 75.9669418334961, 145.35922241210938, 97.43904876708984, 106.12117767333984, 107.08434295654297, 100.8361587524414, 96.87926483154297, 83.1319808959961, 86.12458038330078, 86.29413604736328, 29.80599594116211, 29.554384231567383, 29.554384231567383, 23.482954025268555, 22.52389144897461, 21.949844360351562, 19.168071746826172, 15.116684913635254, 14.607621192932129, 12.788941383361816, 11.491820335388184, 11.396958351135254, 11.175588607788086, 11.167448043823242, 10.86900520324707, 10.672517776489258, 10.574556350708008, 10.474324226379395, 10.237289428710938, 10.213123321533203, 10.015833854675293, 9.975147247314453, 9.871914863586426, 10.030308723449707, 9.20267391204834, 9.000215530395508, 8.961464881896973, 8.798345565795898, 8.697087287902832, 8.640480041503906, 92.44011688232422, 259.85003662109375, 25.629079818725586, 20.180946350097656, 29.8309326171875, 158.99758911132812, 388.4501647949219, 34.628570556640625, 262.3652648925781, 107.42635345458984, 203.65615844726562, 57.15813064575195, 144.5364990234375, 72.37147521972656, 850.87890625, 93.473388671875, 105.00534057617188, 205.49415588378906, 268.05023193359375, 507.612060546875, 154.2977752685547, 83.02912139892578, 153.3043975830078, 125.57926177978516, 388.40350341796875, 73.11021423339844, 189.057373046875, 241.6065216064453, 431.9222717285156, 112.04505157470703, 243.29859924316406, 262.7231750488281, 265.86541748046875, 287.59454345703125, 481.0509033203125, 233.88160705566406, 124.2529525756836, 311.9205322265625, 145.55145263671875, 210.11221313476562, 324.46014404296875, 172.28662109375, 150.14471435546875, 249.76254272460938, 164.1194610595703, 160.915283203125, 157.880615234375, 68.05952453613281, 31.18549156188965, 56.30366516113281, 23.596046447753906, 23.045848846435547, 22.5263729095459, 21.320621490478516, 20.905916213989258, 18.183021545410156, 17.7767391204834, 17.164411544799805, 16.886234283447266, 15.816542625427246, 15.384452819824219, 14.017745971679688, 13.644865036010742, 13.644865036010742, 13.195112228393555, 12.96118450164795, 34.753089904785156, 12.186017990112305, 11.82960319519043, 11.82960319519043, 11.82960319519043, 11.82960319519043, 10.921971321105957, 10.439891815185547, 10.014339447021484, 10.014339447021484, 10.014341354370117, 30.300540924072266, 34.3331413269043, 50.57204055786133, 436.9122314453125, 94.50465393066406, 20.259994506835938, 37.15324783325195, 116.9108657836914, 31.676488876342773, 83.99483489990234, 43.02989196777344, 66.91085815429688, 146.9373016357422, 36.478721618652344, 53.10946273803711, 35.57398223876953, 166.57554626464844, 77.58753204345703, 142.62620544433594, 85.10810852050781, 313.1957092285156, 115.46249389648438, 133.64593505859375, 100.89022064208984, 49.24819564819336, 91.65341186523438, 81.73094940185547, 67.72563934326172, 58.767120361328125, 67.631591796875, 74.62144470214844, 60.738216400146484, 152.4680633544922, 114.24456024169922, 62.98625183105469, 113.50157165527344, 91.23764038085938, 111.70783996582031, 63.87850570678711, 65.5369873046875, 61.86069107055664, 64.3440933227539, 86.69056701660156, 70.12044525146484, 60.94410705566406, 57.22690200805664, 43.15831756591797, 88.11892700195312, 37.4616584777832, 34.060203552246094, 33.35065841674805, 29.052927017211914, 28.069446563720703, 27.303817749023438, 26.374303817749023, 26.038528442382812, 23.478059768676758, 22.789871215820312, 22.669382095336914, 22.209022521972656, 22.89432716369629, 21.263721466064453, 26.149913787841797, 16.89891815185547, 16.03299331665039, 15.612865447998047, 15.425021171569824, 15.181500434875488, 14.211101531982422, 14.076918601989746, 13.552425384521484, 13.470416069030762, 76.84034729003906, 78.34317779541016, 42.137271881103516, 71.82421112060547, 46.1046142578125, 73.7139663696289, 76.90632629394531, 104.63029479980469, 546.5118408203125, 52.300079345703125, 266.56549072265625, 123.92403411865234, 116.43325805664062, 65.89720916748047, 38.243125915527344, 205.39430236816406, 112.24346160888672, 290.5501708984375, 141.169677734375, 58.5734748840332, 52.750587463378906, 140.47824096679688, 138.7301483154297, 53.69655990600586, 123.84780883789062, 62.6269416809082, 118.19453430175781, 65.19253540039062, 116.62016296386719, 138.22703552246094, 81.72817993164062, 82.76889038085938, 84.94276428222656, 64.71842956542969, 64.70240020751953, 14.970548629760742, 12.746230125427246, 12.718781471252441, 11.707427978515625, 11.337196350097656, 11.043460845947266, 10.752497673034668, 10.640451431274414, 10.897056579589844, 9.57219409942627, 9.347973823547363, 8.834484100341797, 8.819304466247559, 8.687149047851562, 8.544629096984863, 8.52086353302002, 8.508378028869629, 8.324840545654297, 8.286883354187012, 8.222051620483398, 8.221285820007324, 8.201667785644531, 8.076224327087402, 7.908595561981201, 7.8603515625, 7.724161624908447, 7.7214155197143555, 7.669175148010254, 7.4589524269104, 7.36552619934082, 13.09043025970459, 9.692227363586426, 12.17920970916748, 16.5151424407959, 21.119781494140625, 12.128473281860352, 67.50277709960938, 16.178874969482422, 12.962848663330078, 13.98138427734375, 41.608158111572266, 117.46356964111328, 40.5948371887207, 121.9814682006836, 38.84865188598633, 34.057884216308594, 70.45784759521484, 50.534610748291016, 37.05783462524414, 40.34395217895508, 66.13821411132812, 87.36820220947266, 49.707828521728516, 33.00633239746094, 84.16484069824219, 27.23343849182129, 59.01931381225586, 49.61681365966797, 39.60610580444336, 25.40382194519043, 34.62403106689453, 53.92677688598633, 39.77016067504883, 40.19152069091797, 36.791786193847656, 31.863224029541016, 26.427654266357422, 26.795856475830078, 32.470550537109375, 29.107666015625, 30.696487426757812, 26.96406364440918, 45.26497268676758, 43.84604263305664, 37.349491119384766, 34.78569793701172, 27.223541259765625, 25.002376556396484, 24.567838668823242, 24.47441291809082, 19.766511917114258, 17.328683853149414, 16.0192928314209, 13.292330741882324, 12.386996269226074, 12.294410705566406, 11.860179901123047, 11.835579872131348, 11.085314750671387, 10.972999572753906, 10.956311225891113, 10.879825592041016, 31.782718658447266, 10.089601516723633, 9.67602825164795, 9.540541648864746, 9.450288772583008, 41.8331298828125, 9.074151039123535, 9.072408676147461, 8.966205596923828, 8.847817420959473, 34.8864631652832, 15.724818229675293, 13.15159797668457, 41.052940368652344, 39.87014389038086, 120.52693176269531, 30.167543411254883, 58.86531448364258, 19.983673095703125, 83.90753936767578, 103.15558624267578, 27.753101348876953, 130.1492462158203, 49.47289276123047, 92.11782836914062, 61.76405334472656, 100.0369644165039, 61.03184127807617, 36.35954666137695, 35.21861267089844, 27.758737564086914, 40.449371337890625, 61.1613883972168, 54.53031921386719, 41.31691360473633, 39.575294494628906, 29.4135799407959, 32.82847213745117, 31.923831939697266, 29.644733428955078, 40.32222366333008, 29.947246551513672, 15.717077255249023, 12.60663890838623, 12.550379753112793, 11.584731101989746, 11.285858154296875, 11.280423164367676, 9.869050979614258, 8.636996269226074, 7.997769355773926, 7.997769355773926, 7.997769355773926, 7.752382755279541, 7.675655364990234, 7.345975399017334, 7.238589286804199, 7.057142734527588, 6.868443965911865, 6.362207889556885, 6.079977035522461, 6.079977035522461, 5.963863849639893, 5.7602033615112305, 5.732673168182373, 5.732154369354248, 5.726994514465332, 5.699220180511475, 5.5679030418396, 5.5679030418396, 5.5679030418396, 25.10071563720703, 39.04647445678711, 22.081680297851562, 10.78258228302002, 19.191049575805664, 20.393972396850586, 47.51660919189453, 10.412760734558105, 11.271785736083984, 14.584705352783203, 10.06717300415039, 9.033529281616211, 7.122278690338135, 13.290386199951172, 8.005640983581543, 5.694094657897949, 5.012294769287109, 4.85145902633667, 4.459166526794434, 4.352468967437744, 3.561246156692505, 3.2381927967071533, 3.2381927967071533, 3.1017801761627197, 5.866174221038818, 2.8933379650115967, 2.8871870040893555, 2.82599139213562, 2.805330753326416, 2.5948634147644043, 2.5948634147644043, 2.5943315029144287, 2.5218732357025146, 2.456786870956421, 2.456786870956421, 2.3855271339416504, 2.2438571453094482, 2.2438571453094482, 2.2438571453094482, 2.22798228263855, 2.203948974609375, 2.1809988021850586, 2.1809983253479004, 5.292483806610107, 3.9300036430358887, 7.13995885848999, 15.05853271484375, 24.42946434020996, 6.672231197357178, 3.8133530616760254, 99.06082916259766, 9.060812950134277, 7.974808216094971, 4.267159461975098, 3.7021141052246094, 6.6809868812561035, 19.70850944519043, 7.530319690704346, 10.63090705871582, 8.75964641571045, 8.999944686889648, 4.111100673675537, 4.7046709060668945, 4.4589619636535645, 4.575313568115234, 4.11617374420166, 4.02113676071167, 4.3049540519714355, 3.4468369483947754, 3.4468369483947754, 3.3281686305999756, 2.358724594116211, 2.159661293029785, 2.1163008213043213, 1.744382381439209, 1.7306032180786133, 1.7306032180786133, 1.6385153532028198, 1.6385153532028198, 1.6385154724121094, 1.6385153532028198, 1.575896978378296, 1.560449481010437, 1.560449481010437, 1.472176194190979, 1.3919641971588135, 1.315322995185852, 1.3015447854995728, 1.3015447854995728, 1.3015447854995728, 1.3015445470809937, 1.1468385457992554, 1.1214979887008667, 1.121497631072998, 1.0883474349975586, 1.0420809984207153, 1.0409718751907349, 1.0409716367721558, 1.0409713983535767, 1.0409718751907349, 1.0409716367721558, 1.0409718751907349, 1.0409718751907349, 1.0409716367721558, 6.881887435913086, 2.3587262630462646, 1.2932138442993164, 1.2436845302581787, 9.303816795349121, 5.956259727478027, 5.553999900817871, 4.495307922363281, 3.9621665477752686, 3.3488855361938477, 3.4264862537384033, 3.2886080741882324, 3.015263795852661, 3.0115559101104736, 2.850789785385132, 2.8488500118255615, 2.81134033203125, 2.806079387664795, 2.629284620285034, 2.6021556854248047, 2.5369746685028076, 2.4430506229400635, 2.395390033721924, 2.368560791015625, 2.3682613372802734, 2.3417320251464844, 2.294358491897583, 2.294358491897583, 2.294358491897583, 2.24216365814209, 2.2346246242523193, 2.2253763675689697, 2.193514347076416, 2.192755699157715, 3.763046979904175, 3.2623980045318604, 2.231619358062744, 5.123170375823975, 4.428943157196045, 4.079573154449463, 2.706801652908325, 2.448956251144409, 2.3014843463897705, 2.0399527549743652, 2.0382871627807617, 1.980018138885498, 1.830880880355835, 1.8039686679840088, 1.7295515537261963, 1.7295513153076172, 1.7295513153076172, 1.7295513153076172, 1.7295513153076172, 1.7295513153076172, 1.7295515537261963, 1.7295513153076172, 1.6560890674591064, 1.5693496465682983, 1.493567705154419, 1.4666553735733032, 1.4080854654312134, 1.3922383785247803, 1.3922381401062012, 1.2888195514678955, 1.2468212842941284, 1.2320362329483032, 1.197068214416504, 1.43305242061615, 8.516664505004883, 3.6341936588287354, 3.5156614780426025, 3.3479385375976562, 3.069211006164551, 2.9819886684417725, 2.870051145553589, 2.705474376678467, 2.664307117462158, 2.5857901573181152, 2.5641839504241943, 25.03844451904297, 2.4715495109558105, 2.456454277038574, 2.237797975540161, 1.975226879119873, 1.971490740776062, 1.8978612422943115, 1.8550044298171997, 1.8543267250061035, 1.8400036096572876, 1.7938868999481201, 1.7889796495437622, 1.7889796495437622, 1.7889796495437622, 1.6430691480636597, 1.6309983730316162, 1.5560004711151123, 1.487339973449707, 1.487339973449707, 2.109707832336426, 2.8819918632507324, 3.8506224155426025, 1.9852367639541626, 3.278273820877075, 2.6672351360321045, 1.8390281200408936, 1.8520900011062622, 5.891693115234375, 2.2531113624572754, 1.7659248113632202, 1.6871720552444458, 1.6641485691070557, 1.536475419998169, 1.0764143466949463, 0.9790096282958984, 0.9104363322257996, 0.9104362726211548, 0.91043621301651, 0.8391635417938232, 0.8372438549995422, 0.8372438549995422, 0.8242052793502808, 0.7448652982711792, 0.7379739880561829, 0.6987493634223938, 0.6712660193443298, 0.6712659597396851, 0.6281678676605225, 0.6190027594566345, 0.6190027594566345, 0.558903157711029, 0.5333391427993774, 0.518380880355835, 0.5183809995651245, 0.49281713366508484, 0.4928171634674072, 0.47915637493133545, 0.47915637493133545, 0.47915640473365784, 1.2699508666992188, 0.6527020335197449, 0.7582867741584778, 0.5261471271514893, 1.2302441596984863, 1.0330997705459595, 0.9932832717895508, 0.907766580581665, 0.8223171830177307, 0.7962988615036011, 0.765762209892273, 0.7507244348526001, 0.7208763957023621, 0.7182038426399231, 0.7103210687637329, 0.7103210687637329, 0.6712110638618469, 0.6562972068786621, 0.6562967896461487, 0.6392571330070496, 0.6028392910957336, 0.6026788353919983, 0.5857992172241211, 0.5852331519126892, 0.5317750573158264, 0.5312092304229736, 0.5312092304229736, 0.5312092304229736, 0.5312092304229736, 0.5312092304229736, 0.5312092304229736, 0.5312092304229736, 0.5312092304229736, 0.5312092304229736, 0.5312092304229736, 0.5312092304229736, 0.5312092304229736, 0.5312092304229736, 0.5312092304229736, 0.5312092304229736, 0.5312092304229736], \"Term\": [\"ei\", \"dansk\", \"gud\", \"ord\", \"aand\", \"kan\", \"liv\", \"kong\", \"kun\", \"d\\u00f8d\", \"hjert\", \"danmark\", \"verd\", \"nord\", \"kirk\", \"dam\", \"krist\", \"al\", \"gi\\u00f8r\", \"maa\", \"dag\", \"kom\", \"lys\", \"mennesk\", \"jord\", \"ere\", \"sand\", \"tro\", \"dit\", \"evig\", \"sparta\", \"philosophi\", \"stud\", \"igrund\", \"egennyt\", \"ki\\u00f8benhavn\", \"politisk\", \"preus\", \"sk\\u00f8nd\", \"hiin\", \"overdaad\", \"st\\u00e6nd\", \"poet\", \"literatur\", \"fanatism\", \"januar\", \"indbyd\", \"yttring\", \"m\\u00f8l\", \"iaft\", \"formast\", \"tyg\", \"tildel\", \"beslutning\", \"beskikked\", \"befordr\", \"efterkom\", \"niniv\", \"iver\", \"forandred\", \"rusland\", \"duel\", \"maaske\", \"ordsprog\", \"ungdom\", \"desv\\u00e6r\", \"skribent\", \"philosoph\", \"samt\", \"selskab\", \"dansk\", \"arbeid\", \"danmark\", \"hens\", \"h\\u00f8ier\", \"nord\", \"hvilk\", \"begrib\", \"nep\", \"behag\", \"\\u00f8nsk\", \"h\\u00f8iest\", \"\\u00f8in\", \"b\\u00f8r\", \"historisk\", \"folk\", \"sprog\", \"kan\", \"tid\", \"\\u00f8ieblik\", \"syn\", \"naar\", \"kund\", \"vis\", \"\\u00f8ie\", \"ei\", \"maa\", \"tal\", \"vild\", \"veed\", \"vist\", \"vel\", \"fordi\", \"histori\", \"skuld\", \"kun\", \"uden\", \"kald\", \"gaml\", \"ogsaa\", \"nok\", \"hel\", \"maat\", \"mer\", \"ret\", \"kom\", \"ing\", \"endnu\", \"aand\", \"sid\", \"f\\u00f8rst\", \"find\", \"lad\", \"stor\", \"sand\", \"baad\", \"statskirk\", \"skriftklog\", \"apostolisk\", \"luthersk\", \"daabspag\", \"theolog\", \"hellige_skrift\", \"f\\u00e6dernetro\", \"kirkehistorisk\", \"hr_biskop\", \"ny_testament\", \"lutheran\", \"papist\", \"alterbog\", \"evangelisk\", \"mynst\", \"uchrist\", \"sacrament\", \"folkekirk\", \"papistisk\", \"religionsfri\", \"naademidl\", \"sognepr\\u00e6st\", \"prof_claus\", \"verdslige_\\u00f8vr\", \"lindberg\", \"kirkesamfund\", \"forret\", \"indstift\", \"formular\", \"bekjend\", \"nadv\", \"protestantisk\", \"selvmodsig\", \"apostl\", \"evangeli\", \"daab\", \"kirkehistori\", \"morten_luth\", \"evige_liv\", \"bibelsk\", \"christ\", \"gj\\u00e6ld\", \"kirk\", \"troen\", \"gj\\u00f8r\", \"vidnesbyrd\", \"troend\", \"skrift\", \"kjend\", \"christendom\", \"luth\", \"tro\", \"pr\\u00e6st\", \"helligaand\", \"christn\", \"bibel\", \"guddom\", \"aand\", \"ent\", \"krist\", \"kan\", \"ord\", \"sand\", \"maa\", \"aabenbar\", \"lev\", \"naar\", \"kun\", \"hel\", \"mennesk\", \"gud\", \"uden\", \"baad\", \"ogsaa\", \"virk\", \"kund\", \"lig\", \"vild\", \"liv\", \"maat\", \"vel\", \"find\", \"philip\", \"polyb\", \"hertug\", \"pers\", \"plutark\", \"asi\", \"sicili\", \"konstantinopel\", \"diodor\", \"spartan\", \"saladin\", \"arab\", \"c\\u00e6sar\", \"ph\\u00f8nic\", \"robert\", \"angelsachs\", \"normannisk\", \"rikard\", \"spansk\", \"hannibal\", \"borgemest\", \"afrika\", \"byzantin\", \"edvard\", \"tyrus\", \"italiensk\", \"beleiring\", \"darius\", \"kyrus\", \"ferdinand\", \"norman\", \"alexand\", \"herodot\", \"itali\", \"\\u00e6gypt\", \"sammest\", \"atheniens\", \"spani\", \"vilhelm\", \"ii\", \"henrik\", \"rom\", \"keis\", \"korstog\", \"tyran\", \"flaad\", \"grev\", \"romersk\", \"indtog\", \"frankr\", \"tyrk\", \"ber\\u00f8mt\", \"krig\", \"kong\", \"fransk\", \"fik\", \"gjord\", \"gr\\u00e6k\", \"tog\", \"imidlertid\", \"stor\", \"slag\", \"baad\", \"kom\", \"hel\", \"ogsaa\", \"lod\", \"f\\u00f8rst\", \"kun\", \"vel\", \"aar\", \"fald\", \"gik\", \"land\", \"vild\", \"maat\", \"nem\", \"kund\", \"sid\", \"s\\u00f8n\", \"tid\", \"dag\", \"blot\", \"endnu\", \"skuld\", \"folk\", \"gunnar\", \"fagr\", \"sk\\u00e6nk\", \"gerning\", \"pharao\", \"fluk\", \"erkend\", \"odrun\", \"josef\", \"esaia\", \"j\\u00e6rtegn\", \"kain\", \"jomsborg\", \"d\\u00f8\", \"erkebisp\", \"trehundred\", \"ydr\", \"sigvald\", \"migog\", \"\\u00e6delste\", \"sem\", \"askalon\", \"kong_harald\", \"hofm\\u00e6nd\", \"skemt\", \"romaborg\", \"tok\", \"opfostr\", \"ger\", \"sigrun\", \"g\\u00e6st\", \"omd\", \"isak\", \"ful\", \"sigmund\", \"philist\", \"brynhild\", \"gern\", \"nil\", \"fafn\", \"sigurd\", \"siig\", \"tyk\", \"est\", \"ei\", \"norn\", \"k\\u00e6r\", \"gam\", \"r\\u00f8d\", \"ond\", \"kend\", \"odin\", \"tykt\", \"blod\", \"sv\\u00e6rd\", \"valhal\", \"h\\u00f8ie\", \"dit\", \"k\\u00e6mp\", \"gud\", \"kan\", \"jord\", \"aser\", \"maa\", \"kom\", \"vel\", \"eder\", \"hel\", \"kun\", \"gaml\", \"liv\", \"s\\u00f8n\", \"guld\", \"veed\", \"mer\", \"fad\", \"hjert\", \"vild\", \"naar\", \"d\\u00f8d\", \"stor\", \"tro\", \"gudsom\", \"frit_oversat\", \"livets_tr\\u00e6\", \"fuldmang\", \"frel\", \"veiog\", \"n\\u00e6rsom\", \"jesu_christ\", \"propheten_esaia\", \"lak\", \"aandda\", \"l\\u00e6gfolk\", \"jordhvor\", \"tugted\", \"olj\", \"jordaf\", \"snig\", \"hani\", \"derhvor\", \"bibelsprog\", \"gravs\", \"haandhan\", \"sjungemed\", \"naadeja\", \"golgatha\", \"helligaandsom\", \"udbryd\", \"angel\", \"n\\u00e6rd\", \"klemt\", \"sorrigfuld\", \"amen\", \"jordenog\", \"gl\\u00f8d\", \"kl\\u00e6dning\", \"sti\", \"urt\", \"saaat\", \"gud\", \"eder\", \"hvo\", \"hav\", \"hjert\", \"herres_jesu\", \"tr\\u00f8st\", \"jesu_christi\", \"davidspsalm\", \"frels\", \"ving\", \"guldkron\", \"ord\", \"lys\", \"jesu\", \"r\\u00f8st\", \"vandr\", \"tr\\u00e6ngsel\", \"morgenr\\u00f8d\", \"verd\", \"elsk\", \"nat\", \"sj\\u00e6l\", \"barn\", \"fad\", \"tung\", \"himl\", \"ei\", \"dag\", \"naad\", \"vort\", \"jord\", \"aand\", \"jesus\", \"d\\u00f8d\", \"kun\", \"gl\\u00e6d\", \"liv\", \"sand\", \"navn\", \"ja\", \"evig\", \"tal\", \"kan\", \"see\", \"lev\", \"kom\", \"kong_olav\", \"j\\u00f8deland\", \"got\", \"gjukung\", \"hjordis\", \"nedog\", \"gub\", \"svand\", \"k\\u00f8d\", \"fl\\u00f8t\", \"rosenkild\", \"dannebraag\", \"skr\", \"hogn\", \"l\\u00e6ngsl\", \"nattergal\", \"aandsom\", \"marmor\", \"tappert\", \"ingel\", \"thurs\", \"gjuk\", \"fiern\", \"ulf\", \"skiul\", \"godmund\", \"viid\", \"zverg\", \"sandv\", \"se_po\", \"ki\\u00e6mp\", \"gi\\u00e6v\", \"arild\", \"roskild\", \"hannem\", \"dannemark\", \"folkesang\", \"gudrun\", \"svend\", \"christian\", \"niding\", \"saxo\", \"kong\", \"hr\", \"snek\", \"flux\", \"lund\", \"enddog\", \"aldenstund\", \"udi\", \"olav\", \"fugl\", \"ei\", \"riim\", \"mark\", \"sang\", \"ikkun\", \"sagd\", \"frederik\", \"f\\u00e6dr\", \"kom\", \"b\\u00f8lg\", \"ped\", \"s\\u00f8n\", \"danmark\", \"gik\", \"lod\", \"stod\", \"sagn\", \"gaml\", \"dag\", \"sad\", \"fik\", \"mand\", \"ord\", \"kun\", \"tog\", \"land\", \"saae\", \"gav\", \"kan\", \"hav\", \"fald\", \"dansk\", \"hold\", \"ing\", \"stroph\", \"higed\", \"tiljeg\", \"t\\u00e6m\", \"d\\u00f8defor\", \"isefjord\", \"paaskesang\", \"b\\u00f8genes_\\u00f8elad\", \"knop\", \"saaeog\", \"jordmed\", \"favnd\", \"kildevang\", \"d\\u00f8dem\", \"hult\", \"tilog\", \"b\\u00f8m\", \"ki\\u00e6rlighed\", \"kundskabstr\\u00e6\", \"h\\u00f8red\", \"\\u00e6reo\", \"\\u00f8iesaa\", \"morgenhan\", \"fredog\", \"jordjeg\", \"veni\", \"balak\", \"\\u00f8xe\", \"ordnaar\", \"axled\", \"blank\", \"lilj\", \"favr\", \"mon\", \"hersleb\", \"kveld\", \"dit\", \"perl\", \"freia\", \"udi\", \"korsf\\u00e6st\", \"ei\", \"duft\", \"suk\", \"gud\", \"lif\", \"bittr\", \"h\\u00f8ie\", \"himl\", \"brat\", \"h\\u00f8it\", \"grav\", \"hist\", \"stjern\", \"kors\", \"drot\", \"from\", \"saae\", \"kun\", \"hver\", \"gaml\", \"ord\", \"lys\", \"kirk\", \"dybt\", \"hjert\", \"sang\", \"kan\", \"verd\", \"st\\u00f8v\", \"maa\", \"jord\", \"kom\", \"naar\", \"vel\", \"vild\", \"klar\", \"kong\", \"aand\", \"julesang\", \"skjoldi_ve\", \"drotten_vort\", \"brorson\", \"frelsermand\", \"jesus_lillefor\", \"hallelujano\", \"hu_staa\", \"nordahl_brun\", \"v\\u00e6reno\", \"givetd\", \"veitil\", \"daabog\", \"navnsom\", \"julev\", \"paaskemorg\", \"digtil\", \"lindr\", \"demkong\", \"gi\\u00e6stsom\", \"fuldbrag\", \"drothan\", \"jesus_migop\", \"\\u00f8ded\", \"\\u00e6relad\", \"dod\", \"gl\\u00e6deno\", \"d\\u00f8dejesus_stod\", \"haabd\", \"paaskev\", \"gudfad\", \"no\", \"gienl\\u00f8s\", \"melodi\", \"sv\\u00f8bt\", \"fryd\", \"dit\", \"ordsom\", \"himl\", \"engl\", \"frels\", \"jomfru\", \"st\\u00f8v\", \"himmer\", \"gud\", \"drot\", \"helved\", \"sj\\u00e6l\", \"evig\", \"liv\", \"jesus\", \"priis\", \"naad\", \"himmel\", \"d\\u00f8d\", \"soel\", \"vort\", \"lys\", \"aand\", \"kors\", \"jord\", \"hjert\", \"al\", \"verd\", \"ei\", \"s\\u00f8n\", \"jesu\", \"ord\", \"ki\\u00e6r\", \"gi\\u00f8r\", \"kun\", \"fad\", \"synd\", \"kan\", \"lad\", \"kom\", \"stor\", \"ey\", \"katolsk\", \"tend\", \"falst\", \"genstand\", \"kendem\\u00e6rk\", \"rahbek\", \"kaivin\", \"vilibrord\", \"roth\", \"teologi\", \"skougaard\", \"vare_blevn\", \"tendent\", \"kl\", \"bysantinsk\", \"kromvel\", \"nytaarsnat\", \"guldberg\", \"kristjan\", \"volt\\u00e6r\", \"katolik\", \"vinfred\", \"rdr\", \"friderich\", \"h\\u00f8yer\", \"bortkasted\", \"blant\", \"pr\\u00f8js\", \"rovger\", \"jesu_kristi\", \"rejst\", \"kristian\", \"kristendom\", \"tron\", \"blevn\", \"delt\", \"ej\", \"genf\\u00f8d\", \"engelland\", \"rejs\", \"h\\u00f8j\", \"g\\u00f8r\", \"sket\", \"visdom\", \"kejs\", \"kristn\", \"synt\", \"kristi\", \"gaa\", \"krist\", \"k\\u00e6r\", \"se\", \"kristus\", \"ment\", \"religion\", \"steds\", \"s\\u00f8gt\", \"besku\", \"egent\", \"staa\", \"igen\", \"ere\", \"hin\", \"gennem\", \"del\", \"faa\", \"evig\", \"tilv\\u00e6r\", \"grundtv\", \"mul\", \"mennesk\", \"gylfeleg\", \"sidon\", \"persephon\", \"freya\", \"krono\", \"skalda\", \"frig\", \"mythesmed\", \"demet\", \"grimhild\", \"grimnersmaal\", \"assyr\", \"freyas\", \"frey\", \"ravnegald\", \"udgaardslok\", \"nordiske_myth\", \"afskum\", \"sif\", \"ezechia\", \"eiegod\", \"h\\u00f8n\", \"listed\", \"gr\\u00e6ske_myth\", \"mythograph\", \"volsungkvad\", \"nan\", \"lokegluf\", \"gyldent\", \"skjaldemund\", \"unge_her\", \"asgaard\", \"pandora\", \"idun\", \"valhald\", \"pluto\", \"heimdal\", \"mythisk\", \"dam\", \"sleipn\", \"thor\", \"bald\", \"zeus\", \"mj\\u00f8ln\", \"hrungn\", \"myth\", \"dv\\u00e6rg\", \"odin\", \"asern\", \"v\\u00f8luspa\", \"tyr\", \"jet\", \"lok\", \"guldald\", \"poetisk\", \"brag\", \"nordisk\", \"oldsagn\", \"gr\\u00e6sk\", \"nord\", \"sagn\", \"ski\\u00f8nd\", \"gi\\u00f8r\", \"deil\", \"naturligviis\", \"gl\\u00e6deog\", \"dagi\", \"juul\", \"d\\u00f8ded\", \"klard\", \"mundtil\", \"hallelujahan\", \"nedmed\", \"komtil\", \"stord\", \"gl\\u00e6denu\", \"hallelujad\", \"nedi\", \"navnlad\", \"haandtil\", \"ski\\u00f8ndu\", \"haando\", \"paradisd\", \"savnog\", \"barnehjert\", \"frelsernavn\", \"baandog\", \"b\\u00f8lgerd\", \"forstaaeei\", \"natda\", \"navnhan\", \"gl\\u00e6desom\", \"aandmed\", \"saaesom\", \"kimed\", \"uns\", \"himmels_fo\", \"jesus_christ\", \"l\\u00e6rk\", \"forglem\", \"gaaeog\", \"no\", \"glands\", \"d\\u00f8dei\", \"mel\", \"engl\", \"d\\u00f8d\", \"himmelsk\", \"gud\", \"bjerg\", \"helved\", \"al\", \"vort\", \"jesus\", \"grav\", \"liv\", \"ei\", \"hvem\", \"kors\", \"kan\", \"ki\\u00f8d\", \"ord\", \"verd\", \"evig\", \"brat\", \"sj\\u00e6l\", \"aand\", \"lys\", \"godt\", \"jord\", \"h\\u00f8r\", \"vand\", \"himl\", \"kom\", \"see\", \"kun\", \"lad\", \"prosaiske_edda\", \"baldur\", \"gerda\", \"skirn\", \"betydningsfuld\", \"ragnarokr\", \"jotun\", \"gudel\\u00e6r\", \"grimnismal\", \"skebn\", \"skirners_reis\", \"gunlaug\", \"freir\", \"gym\", \"nyrup\", \"strak\", \"vidar\", \"brystd\", \"voluspa\", \"gud_bedregud\", \"symbol\", \"niord\", \"indknib\", \"period\", \"pot\", \"asal\\u00e6r\", \"oldgranskning\", \"f\\u00e6drevi_bed\", \"sch\\u00f8nning\", \"karak\", \"frei\", \"midgard\", \"h\\u00f8dur\", \"alfad\", \"vola\", \"asern\", \"digtning\", \"edda\", \"ki\\u00e6nd\", \"aser\", \"jet\", \"sk\\u00f8nt\", \"odin\", \"snorro\", \"lok\", \"norn\", \"digt\", \"thor\", \"till\\u00e6g\", \"island\", \"besku\", \"hin\", \"gud\", \"ei\", \"kraft\", \"jord\", \"valhal\", \"nord\", \"ere\", \"overs\\u00e6t\", \"herm\", \"antioki\", \"flokked\", \"artemis\", \"vintr\\u00e6\", \"heph\\u00e6sto\", \"leto\", \"n\\u00f8g\", \"guldb\\u00e6g\", \"eifor\", \"skjaldekong\", \"d\\u00f8ds\\u00f8d\", \"n\\u00f8ds\\u00f8d\", \"saaehvor\", \"emma\", \"smaafugl\", \"kviddr\", \"himlend\", \"gudhjem\", \"asta\", \"opstandeni_dag\", \"sukker_helved\", \"f\\u00e6llesliv\", \"stopped\", \"seeog\", \"ordfra\", \"\\u00e6lvedronning\", \"westminst\", \"sl\\u00e6gtog\", \"lysog\", \"l\\u00f8fteog\", \"glemmes_aldr\", \"boemund\", \"apollo\", \"kildev\\u00e6ld\", \"s\\u00f8dt\", \"tysk\", \"liv\", \"gyldenaar\", \"vorher\", \"kvind\", \"fugl\", \"skjald\", \"dannekvind\", \"fru_mari\", \"r\\u00f8nneb\\u00e6ksholm\", \"\\u00f8iehan\", \"fruer\", \"huusm\\u00e6nd\", \"sineog\", \"tidfor\", \"toft\", \"harmei\", \"skamlingsbank\", \"kvindesaa\", \"slesvigsk\", \"falded\", \"forvold\", \"d\\u00f8lgermed\", \"kirkekord\", \"jordvold\", \"kongest\\u00e6vn\", \"siger_kishurra\", \"clara_raphael\", \"svingerfar\", \"mundlag\", \"folketid\", \"fryde_mang\", \"hjertefagre_ord\", \"smertefagr\", \"bondeven\", \"f\\u00f8dselsstund\", \"dannebrogtil\", \"portog\", \"st\\u00e6ndertid\", \"clara\", \"s\\u00f8nderjylland\", \"slesv\", \"b\\u00f8nd\", \"h\\u00f8itydsk\", \"paanyi\", \"dansk\", \"dannebrog\", \"konger\", \"bondestand\", \"daneh\\u00e6r\", \"rigsdag\", \"danmark\", \"dannem\\u00e6nd\", \"modersmaal\", \"tydsk\", \"vort\", \"gammeldansk\", \"gr\\u00f8n\", \"f\\u00e6derneland\", \"kvind\", \"nr\", \"overgang\", \"kv\\u00e6dl\", \"syrith\", \"willemo\", \"himlensaa\", \"kanhvor\", \"naboth\", \"rigesom\", \"tilsaa\", \"haandskr\", \"tranek\\u00e6r\", \"strandkun\", \"sigenaar\", \"kaarsaa\", \"ordho\", \"krophan\", \"allesammennu\", \"stadvi\", \"omsom\", \"gaardsom\", \"moderhun\", \"s\\u00f8jl\", \"gr\\u00e6sb\\u00e6nk\", \"athun\", \"sildem\", \"sj\\u00e6legladhan\", \"stammehan\", \"maaderat\", \"l\\u00e6rtat\", \"himmerignaar\", \"stokvar\", \"gaaerm\", \"vingei\", \"b\\u00f8geskovesom\", \"hyttekong\", \"till\\u00e6gi\", \"t\\u00e6nkerd\", \"maglegaardhvor\", \"glemmes_aldr\", \"prindses\", \"snedorf\", \"mester_and\", \"fadervor\", \"fortabt\", \"aando\", \"aandsaa\", \"jordei\", \"dvaled\", \"himmeld\\u00f8r\", \"haandfor\", \"gaadesom\", \"sjungesom\", \"s\\u00f8dog\", \"nedb\\u00f8i\", \"svagesom\", \"haandenm\", \"fader_godsom\", \"\\u00e6refor\", \"dogmed\", \"givetaf\", \"morgenr\\u00f8deda\", \"\\u00f8sterlid\", \"gladthi\", \"igienog\", \"daaben\", \"raabeog\", \"raabenpaa\", \"udat\", \"morgenr\\u00f8defor\", \"krandsog\", \"baandtil\", \"skovog\", \"signed\", \"ny_psalmebog\", \"fagt\", \"korsets_tr\\u00e6\", \"blaam\\u00e6nd\", \"sagog\", \"korsf\\u00e6stedenu\", \"v\\u00e6regud\", \"fanekorsban\", \"runersom\", \"forladerpaa\", \"jorderigog\", \"frithan\", \"brask\", \"kildejakob\", \"fritfiend\", \"grueme\", \"hvidthold\", \"skridtvis\", \"skueplant\", \"rakel\", \"h\\u00e6versei\", \"volm\\u00e6r\", \"faard\", \"topda\", \"indgi\\u00f8d\", \"flyvem\", \"skadesaa\", \"ordhvem\", \"palo\", \"hurraraab\", \"pr\\u00e6sterog\", \"columbus\", \"banemed\", \"delphi\", \"slagterb\\u00e6nk\", \"guldsom\", \"drabant\", \"l\\u00f8nraad_sl\", \"syl\", \"bolt\", \"udfor\", \"moderog\", \"l\\u00f8nfor\", \"gavi\", \"herod\", \"hasted\", \"derog\", \"tr\\u00f8std\", \"h\\u00e6nderog\", \"saal\", \"brageog\", \"lided\", \"dagtil\", \"veisom\", \"mundi\", \"stavsom\", \"roog\", \"l\\u00f8nmed\", \"natugl\", \"togd\", \"n\\u00e6vneog\", \"faarhan\", \"forgaaerd\", \"japh\", \"kreta\", \"melodi\", \"nedfo\", \"josva\", \"spaaet\", \"bedsted\", \"skeet\", \"canaan\", \"aandtil\", \"kv\\u00e6r\", \"haandsaa\", \"stigeop\", \"rahab\", \"gyldenaarmed\", \"laus\", \"n\\u00e6rsaa\", \"kolding\", \"kongekron\", \"syndsom\", \"mellemslesv\", \"livsfyrst\", \"jordlyd\", \"r\\u00f8stfor\", \"sprogog\", \"sjungetil\", \"dannelsessprog\", \"barraba\", \"sjungero\", \"voldend\", \"ungm\\u00f8\", \"kildegud\", \"vidtat\", \"axelstadtil\", \"sj\\u00e6lthi\", \"lygted\", \"drotev\", \"indeja\", \"byggeri\", \"tuensom\", \"k\\u00e6kt\", \"paasaa\", \"j\\u00f8defolk\", \"sukkerr\\u00f8r\", \"jordensaa\", \"rethan\", \"tidsom\", \"givetat\", \"tilbage\", \"s\\u00f8njeg\", \"svigei\", \"saamed\", \"letsom\", \"matthisonhans\", \"herreat\", \"\\u00f8resaa\", \"sporaf\", \"omsonstselv\", \"ikkei\", \"fagei\", \"sendetil\", \"gl\\u00f8dem\", \"b\\u00f8lgerei\", \"mundepaa\", \"flidfor\", \"bordethvor\", \"sandefalsk\", \"\\u00e6gte\", \"taaberverd\", \"strandesand\", \"retbr\\u00f8d\", \"betydersj\\u00e6l\", \"m\\u00e6tlad\", \"ki\\u00f8dskjul\", \"ikkeud\", \"faresand\", \"br\\u00f8daf\", \"drikkeblod\", \"baresand\", \"bryderaltid\", \"b\\u00e6gtehimmelbr\\u00f8d\"], \"Total\": [9434.0, 2059.0, 6606.0, 4814.0, 5774.0, 10871.0, 3873.0, 3225.0, 9854.0, 3270.0, 2415.0, 1428.0, 2927.0, 1810.0, 3125.0, 736.0, 921.0, 2483.0, 2590.0, 6005.0, 3230.0, 5233.0, 1810.0, 2510.0, 2000.0, 1016.0, 3373.0, 2471.0, 1170.0, 1334.0, 136.13162231445312, 133.23162841796875, 109.13225555419922, 98.34366607666016, 101.56455993652344, 87.47488403320312, 76.29022979736328, 74.75957489013672, 72.52558135986328, 72.27656555175781, 61.75472640991211, 61.456233978271484, 59.348915100097656, 97.19639587402344, 56.29536819458008, 56.05135726928711, 54.85788345336914, 52.149898529052734, 51.491519927978516, 50.34102249145508, 50.01445388793945, 49.966453552246094, 47.46534729003906, 46.97166442871094, 46.881996154785156, 46.742061614990234, 45.68635177612305, 44.78160858154297, 43.9256591796875, 43.33645248413086, 67.3578872680664, 48.257816314697266, 433.729248046875, 230.53753662109375, 397.36529541015625, 132.83218383789062, 203.3197784423828, 110.90775299072266, 219.76235961914062, 209.73094177246094, 2059.095458984375, 386.4637451171875, 1428.53466796875, 178.69554138183594, 377.5584411621094, 1810.8121337890625, 1226.967041015625, 209.39024353027344, 604.3177490234375, 198.24546813964844, 844.3280639648438, 429.378662109375, 1070.6572265625, 472.9206237792969, 856.3671875, 4208.6748046875, 438.0047607421875, 10871.4365234375, 3663.03466796875, 554.1180419921875, 2051.1318359375, 6723.00341796875, 5605.51123046875, 2255.36572265625, 668.0889892578125, 9434.875, 6005.197265625, 2357.809326171875, 5467.12451171875, 2310.8876953125, 1531.0076904296875, 5797.16015625, 2295.486572265625, 1637.2274169921875, 3831.832763671875, 9854.595703125, 3920.355224609375, 3178.022705078125, 3473.28369140625, 5255.83544921875, 2274.2470703125, 6791.16943359375, 4234.9658203125, 2262.14697265625, 3447.9814453125, 5233.9326171875, 3301.1787109375, 2616.197509765625, 5774.75537109375, 2848.125732421875, 3662.5595703125, 2855.083984375, 2791.625244140625, 4120.21826171875, 3373.580322265625, 3776.312255859375, 579.4727172851562, 436.8134460449219, 477.0335388183594, 329.82525634765625, 273.1182556152344, 197.324951171875, 166.1167449951172, 154.93865966796875, 152.5751495361328, 151.83262634277344, 147.25502014160156, 126.20121002197266, 123.1384506225586, 119.05859375, 108.5265884399414, 107.01282501220703, 98.15290832519531, 95.72055053710938, 93.86756896972656, 85.69180297851562, 81.71669006347656, 80.70120239257812, 79.4549789428711, 77.45039367675781, 74.01627349853516, 73.57603454589844, 67.17094421386719, 65.62796783447266, 61.59747314453125, 61.3603630065918, 423.1093444824219, 320.43243408203125, 191.6356658935547, 86.6575927734375, 513.8355712890625, 198.2505645751953, 1232.835693359375, 360.8626708984375, 254.79441833496094, 219.5194091796875, 134.7502899169922, 1407.93212890625, 199.34402465820312, 3125.43115234375, 1514.9521484375, 1291.6708984375, 907.157470703125, 473.2059326171875, 1560.23828125, 497.400390625, 1140.1112060546875, 792.99755859375, 2471.259033203125, 1590.8492431640625, 505.3729248046875, 1122.632080078125, 627.0035400390625, 874.109619140625, 5774.75537109375, 2272.723876953125, 921.14599609375, 10871.4365234375, 4814.59521484375, 3373.580322265625, 6005.197265625, 1909.8787841796875, 2590.412353515625, 6723.00341796875, 9854.595703125, 6791.16943359375, 2510.183349609375, 6606.64306640625, 3920.355224609375, 3776.312255859375, 5255.83544921875, 2326.321044921875, 5605.51123046875, 2330.812744140625, 5467.12451171875, 3873.708984375, 4234.9658203125, 5797.16015625, 2855.083984375, 249.24868774414062, 238.2567901611328, 205.92481994628906, 211.3212890625, 166.0356903076172, 157.848876953125, 142.5326385498047, 145.14810180664062, 129.9537353515625, 124.4522476196289, 113.62882232666016, 109.3021240234375, 107.00360870361328, 105.70842742919922, 105.3296890258789, 105.12806701660156, 103.2219009399414, 102.1728744506836, 115.78240203857422, 100.84091186523438, 100.66239929199219, 99.49993133544922, 89.49759674072266, 87.88209533691406, 86.24407196044922, 85.22382354736328, 84.58529663085938, 83.483154296875, 83.13882446289062, 80.82196044921875, 184.114013671875, 272.47003173828125, 208.5360565185547, 345.34466552734375, 528.9486083984375, 135.9942626953125, 127.10047912597656, 257.1479187011719, 171.1697998046875, 244.2777099609375, 214.5247802734375, 1500.1663818359375, 577.3851928710938, 333.0866394042969, 252.72914123535156, 228.5586700439453, 168.32388305664062, 659.9088134765625, 207.80429077148438, 309.8889465332031, 232.64620971679688, 536.2056884765625, 662.7388916015625, 3225.056884765625, 389.6502685546875, 1915.1593017578125, 1683.0447998046875, 816.6190185546875, 1145.4112548828125, 1505.426513671875, 4120.21826171875, 774.4943237304688, 3776.312255859375, 5233.9326171875, 6791.16943359375, 5255.83544921875, 1513.4075927734375, 3662.5595703125, 9854.595703125, 5797.16015625, 1618.843017578125, 2079.69140625, 1527.432373046875, 1561.0770263671875, 5467.12451171875, 4234.9658203125, 1843.289306640625, 5605.51123046875, 2848.125732421875, 2110.078369140625, 3663.03466796875, 3230.653564453125, 2940.346923828125, 2616.197509765625, 3831.832763671875, 4208.6748046875, 79.58490753173828, 77.07667541503906, 57.70976638793945, 53.156551361083984, 70.75765228271484, 39.32768630981445, 36.056705474853516, 36.0372428894043, 31.436033248901367, 29.60735511779785, 29.239410400390625, 27.592714309692383, 26.037567138671875, 24.399845123291016, 24.094757080078125, 24.00295066833496, 23.934738159179688, 22.806041717529297, 22.46025848388672, 21.697734832763672, 21.4239501953125, 21.00518798828125, 20.77694320678711, 20.728485107421875, 18.809587478637695, 18.4514217376709, 18.409765243530273, 18.406431198120117, 18.28333854675293, 18.18855857849121, 39.840206146240234, 18.4539794921875, 38.23597717285156, 42.380069732666016, 74.13941192626953, 27.27413558959961, 155.2383575439453, 76.79259490966797, 36.45186233520508, 38.847347259521484, 291.98822021484375, 76.6495132446289, 214.79776000976562, 126.09618377685547, 9434.875, 232.43594360351562, 264.6905822753906, 86.37686157226562, 236.30239868164062, 401.1106872558594, 158.6502685546875, 670.1157836914062, 99.73355102539062, 636.84033203125, 694.1260375976562, 183.79978942871094, 771.5966796875, 1170.14111328125, 885.7005004882812, 6606.64306640625, 10871.4365234375, 2000.310791015625, 229.2941131591797, 6005.197265625, 5233.9326171875, 5797.16015625, 1004.2969970703125, 6791.16943359375, 9854.595703125, 3473.28369140625, 3873.708984375, 2110.078369140625, 534.0714111328125, 2310.8876953125, 2262.14697265625, 1604.5948486328125, 2415.87841796875, 5467.12451171875, 6723.00341796875, 3270.464599609375, 4120.21826171875, 2471.259033203125, 39.388587951660156, 26.531421661376953, 24.787317276000977, 22.053014755249023, 20.90677261352539, 16.390953063964844, 15.559229850769043, 14.50625228881836, 14.446130752563477, 14.250694274902344, 14.487277030944824, 13.125941276550293, 12.768148422241211, 12.533130645751953, 12.476911544799805, 12.39008617401123, 12.110729217529297, 12.048117637634277, 11.973686218261719, 11.960302352905273, 11.932123184204102, 11.888422966003418, 11.863297462463379, 11.777295112609863, 11.730700492858887, 11.729499816894531, 11.551856994628906, 11.537205696105957, 11.517807006835938, 11.374367713928223, 13.165060043334961, 80.01344299316406, 13.726259231567383, 97.67828369140625, 21.115060806274414, 34.85599899291992, 75.8173828125, 38.87302017211914, 6606.64306640625, 1004.2969970703125, 257.3865966796875, 958.3801879882812, 2415.87841796875, 118.98816680908203, 721.2400512695312, 104.29925537109375, 39.62720489501953, 770.7315063476562, 260.09735107421875, 22.99456024169922, 4814.59521484375, 1810.638916015625, 593.2520751953125, 486.7286071777344, 249.01708984375, 75.78189849853516, 86.97410583496094, 2927.756591796875, 522.5338134765625, 464.3289489746094, 895.210693359375, 443.9442138671875, 1604.5948486328125, 823.1768188476562, 971.7843017578125, 9434.875, 3230.653564453125, 667.1627807617188, 1119.4241943359375, 2000.310791015625, 5774.75537109375, 629.2158813476562, 3270.464599609375, 9854.595703125, 1004.4118041992188, 3873.708984375, 3373.580322265625, 2290.4423828125, 1613.9774169921875, 1334.3028564453125, 2357.809326171875, 10871.4365234375, 2053.076904296875, 2590.412353515625, 5233.9326171875, 47.5709342956543, 47.36647415161133, 36.57305908203125, 36.24480438232422, 31.916759490966797, 30.99625587463379, 28.20649528503418, 28.126802444458008, 27.543066024780273, 27.359262466430664, 26.75360679626465, 26.131315231323242, 24.858684539794922, 24.63543701171875, 24.082223892211914, 23.563159942626953, 23.450342178344727, 21.823528289794922, 21.286174774169922, 21.193227767944336, 21.17698097229004, 20.97284507751465, 20.423368453979492, 20.04153060913086, 19.453763961791992, 19.319721221923828, 19.220500946044922, 18.807130813598633, 18.718847274780273, 18.662778854370117, 52.20915985107422, 31.94375991821289, 38.34242630004883, 115.26399993896484, 49.354244232177734, 374.9117126464844, 24.688720703125, 150.56951904296875, 166.6614532470703, 155.3899688720703, 37.635562896728516, 324.4129943847656, 3225.056884765625, 161.55589294433594, 89.22161102294922, 116.11579132080078, 109.18549346923828, 68.34002685546875, 79.3530044555664, 311.1195983886719, 85.02325439453125, 360.3324279785156, 9434.875, 76.57109832763672, 443.6360778808594, 827.4614868164062, 201.9341583251953, 1260.7330322265625, 384.9566650390625, 661.1306762695312, 5233.9326171875, 319.7698059082031, 174.31625366210938, 2110.078369140625, 1428.53466796875, 1527.432373046875, 1513.4075927734375, 1300.9180908203125, 446.02557373046875, 3473.28369140625, 3230.653564453125, 389.9686584472656, 1915.1593017578125, 1309.1871337890625, 4814.59521484375, 9854.595703125, 1145.4112548828125, 1561.0770263671875, 1183.952392578125, 1364.7935791015625, 10871.4365234375, 958.3801879882812, 2079.69140625, 2059.095458984375, 1822.0987548828125, 3301.1787109375, 45.88751220703125, 30.246145248413086, 26.00928497314453, 23.40084457397461, 19.170249938964844, 18.568151473999023, 16.936372756958008, 16.89516830444336, 16.717445373535156, 16.08599281311035, 15.980042457580566, 15.785694122314453, 15.772496223449707, 15.258932113647461, 15.195700645446777, 15.193391799926758, 15.152033805847168, 15.150269508361816, 15.114691734313965, 14.865134239196777, 14.830729484558105, 14.733095169067383, 14.690174102783203, 14.50992488861084, 14.194025993347168, 13.779982566833496, 13.547203063964844, 13.29008960723877, 13.223732948303223, 13.133170127868652, 71.43543243408203, 24.62725830078125, 88.81314086914062, 524.2621459960938, 31.511985778808594, 32.543888092041016, 1170.14111328125, 59.317710876464844, 57.21587371826172, 311.1195983886719, 79.71778106689453, 9434.875, 87.00764465332031, 308.31561279296875, 6606.64306640625, 260.52703857421875, 75.41888427734375, 771.5966796875, 971.7843017578125, 267.2265625, 788.1173706054688, 831.7811889648438, 233.81471252441406, 248.33164978027344, 462.8748779296875, 264.78265380859375, 286.6063232421875, 1183.952392578125, 9854.595703125, 1300.0855712890625, 3473.28369140625, 4814.59521484375, 1810.638916015625, 3125.43115234375, 514.1432495117188, 2415.87841796875, 827.4614868164062, 10871.4365234375, 2927.756591796875, 479.1772766113281, 6005.197265625, 2000.310791015625, 5233.9326171875, 6723.00341796875, 5797.16015625, 5467.12451171875, 1289.2230224609375, 3225.056884765625, 5774.75537109375, 30.398107528686523, 30.146495819091797, 30.146495819091797, 24.07506561279297, 23.116003036499023, 22.541955947875977, 19.76018524169922, 15.708795547485352, 15.19973087310791, 13.381051063537598, 12.083945274353027, 11.989068031311035, 11.767698287963867, 11.759557723999023, 11.461114883422852, 11.264627456665039, 11.166666030883789, 11.066490173339844, 10.829399108886719, 10.805233001708984, 10.607943534851074, 10.567256927490234, 10.464024543762207, 10.66476821899414, 9.794783592224121, 9.592325210571289, 9.553574562072754, 9.39045524597168, 9.289196968078613, 9.232589721679688, 110.38722229003906, 391.06610107421875, 30.47357940673828, 24.611427307128906, 43.3829231262207, 362.3193054199219, 1170.14111328125, 57.207763671875, 971.7843017578125, 295.6070556640625, 770.7315063476562, 126.2541275024414, 479.1772766113281, 178.4168243408203, 6606.64306640625, 264.78265380859375, 325.0102233886719, 895.210693359375, 1334.3028564453125, 3873.708984375, 629.2158813476562, 242.6629180908203, 667.1627807617188, 489.5791931152344, 3270.464599609375, 203.47500610351562, 1119.4241943359375, 1810.638916015625, 5774.75537109375, 462.8748779296875, 2000.310791015625, 2415.87841796875, 2483.15234375, 2927.756591796875, 9434.875, 2110.078369140625, 593.2520751953125, 4814.59521484375, 852.7099609375, 2590.4541015625, 9854.595703125, 1604.5948486328125, 1138.8673095703125, 10871.4365234375, 2791.625244140625, 5233.9326171875, 4120.21826171875, 68.96232604980469, 31.779020309448242, 57.538414001464844, 24.188535690307617, 23.638242721557617, 23.1187686920166, 21.91301918029785, 21.498310089111328, 18.775415420532227, 18.369218826293945, 17.756805419921875, 17.47869873046875, 16.408937454223633, 15.988241195678711, 14.61055850982666, 14.237257957458496, 14.237257957458496, 13.787511825561523, 13.553577423095703, 36.35845184326172, 12.778410911560059, 12.421996116638184, 12.421996116638184, 12.421996116638184, 12.421996116638184, 11.514364242553711, 11.0322847366333, 10.606732368469238, 10.606732368469238, 10.606734275817871, 32.53813171386719, 37.17755126953125, 55.48028564453125, 528.2901611328125, 109.74212646484375, 22.023101806640625, 42.5130729675293, 148.11199951171875, 36.209373474121094, 107.44361877441406, 51.510345458984375, 85.05491638183594, 209.27430725097656, 45.50066375732422, 74.57486724853516, 46.20071792602539, 340.4904479980469, 128.1028289794922, 286.9673767089844, 150.45217895507812, 921.14599609375, 264.6905822753906, 328.7706298828125, 231.64227294921875, 82.65899658203125, 231.36788940429688, 196.72789001464844, 143.67478942871094, 114.63603210449219, 149.34994506835938, 188.22117614746094, 132.64080810546875, 1016.5013427734375, 594.9801635742188, 149.78761291503906, 1042.454345703125, 536.7062377929688, 1334.3028564453125, 193.91741943359375, 527.15966796875, 344.8712463378906, 2510.183349609375, 87.25580596923828, 70.68567657470703, 61.50934600830078, 57.792144775390625, 43.72355270385742, 89.42002868652344, 38.02689743041992, 34.62549591064453, 33.91607666015625, 29.618267059326172, 28.634685516357422, 27.869056701660156, 26.939544677734375, 26.604448318481445, 24.0433406829834, 23.355119705200195, 23.234699249267578, 22.774261474609375, 23.49433135986328, 21.828960418701172, 26.911643981933594, 17.46415901184082, 16.598323822021484, 16.178123474121094, 15.990270614624023, 15.746737480163574, 14.776338577270508, 14.642155647277832, 14.11766242980957, 14.035654067993164, 80.75198364257812, 82.90402221679688, 44.56172180175781, 78.67587280273438, 50.138832092285156, 82.38294219970703, 89.15827178955078, 124.17236328125, 736.0523071289062, 58.9974479675293, 368.5361328125, 156.2600860595703, 149.6120147705078, 80.53495025634766, 42.850379943847656, 326.39471435546875, 156.9539794921875, 670.1157836914062, 274.1698303222656, 81.98314666748047, 71.01752471923828, 326.9030456542969, 407.6591491699219, 81.9507827758789, 412.6583251953125, 112.52310180664062, 555.3953247070312, 133.946044921875, 775.3782348632812, 1810.8121337890625, 446.02557373046875, 1137.0411376953125, 2590.4541015625, 355.1269226074219, 805.8589477539062, 15.564377784729004, 13.339811325073242, 13.312362670898438, 12.301009178161621, 11.930777549743652, 11.637042045593262, 11.346078872680664, 11.23403263092041, 11.509204864501953, 10.165775299072266, 9.941555976867676, 9.428065299987793, 9.412885665893555, 9.28075122833252, 9.138212203979492, 9.114444732666016, 9.101959228515625, 8.918425559997559, 8.880492210388184, 8.815633773803711, 8.814867973327637, 8.795249938964844, 8.669805526733398, 8.502177238464355, 8.453990936279297, 8.317743301391602, 8.314996719360352, 8.263738632202148, 8.05275821685791, 7.959107398986816, 15.474757194519043, 11.448614120483398, 16.08535385131836, 26.953907012939453, 41.27959442138672, 17.744606018066406, 391.06610107421875, 31.043785095214844, 21.228912353515625, 27.545246124267578, 295.6070556640625, 3270.464599609375, 356.4369201660156, 6606.64306640625, 395.2570495605469, 325.0102233886719, 2483.15234375, 1119.4241943359375, 629.2158813476562, 831.7811889648438, 3873.708984375, 9434.875, 1780.0672607421875, 462.8748779296875, 10871.4365234375, 274.4256896972656, 4814.59521484375, 2927.756591796875, 1334.3028564453125, 267.2265625, 895.210693359375, 5774.75537109375, 1810.638916015625, 1972.172119140625, 2000.310791015625, 1867.0758056640625, 793.5795288085938, 971.7843017578125, 5233.9326171875, 2053.076904296875, 9854.595703125, 2791.625244140625, 45.852439880371094, 44.43674087524414, 37.93695831298828, 35.373165130615234, 27.811016082763672, 25.58985137939453, 25.155630111694336, 25.061887741088867, 20.353986740112305, 17.91615867614746, 16.606767654418945, 13.879802703857422, 12.974468231201172, 12.881882667541504, 12.447652816772461, 12.423051834106445, 11.67281436920166, 11.560471534729004, 11.543784141540527, 11.467297554016113, 33.546302795410156, 10.67707347869873, 10.263500213623047, 10.12801456451416, 10.037760734558105, 44.43915557861328, 9.661623001098633, 9.659880638122559, 9.553677558898926, 9.43528938293457, 38.14387512207031, 17.013757705688477, 14.359140396118164, 53.23551559448242, 63.540435791015625, 274.1698303222656, 45.832908630371094, 121.9541244506836, 27.45195198059082, 229.2941131591797, 326.9030456542969, 50.41149139404297, 670.1157836914062, 138.85853576660156, 407.6591491699219, 232.43594360351562, 786.8997802734375, 368.5361328125, 149.02210998535156, 163.94650268554688, 114.63603210449219, 594.9801635742188, 6606.64306640625, 9434.875, 1700.1383056640625, 2000.310791015625, 183.79978942871094, 1810.8121337890625, 1016.5013427734375, 281.2994079589844, 40.91413116455078, 30.53914451599121, 16.308975219726562, 13.198534965515137, 13.1422758102417, 12.176627159118652, 11.877754211425781, 11.872320175170898, 10.460947036743164, 9.22889232635498, 8.589665412902832, 8.589665412902832, 8.589665412902832, 8.344279289245605, 8.26755142211914, 7.93787145614624, 7.8304853439331055, 7.649038791656494, 7.4603400230407715, 6.954103946685791, 6.671873092651367, 6.671873092651367, 6.555759906768799, 6.352100372314453, 6.324569225311279, 6.324050426483154, 6.3188910484313965, 6.291116237640381, 6.159799098968506, 6.159799098968506, 6.159799098968506, 32.56012725830078, 56.870059967041016, 31.16754913330078, 15.335811614990234, 196.1604461669922, 271.1307067871094, 3873.708984375, 39.15403747558594, 100.43702697753906, 457.2311706542969, 360.3324279785156, 605.0277709960938, 77.01156616210938, 13.891630172729492, 8.606884956359863, 6.2953386306762695, 5.613540172576904, 5.45270299911499, 5.060410499572754, 4.9537129402160645, 4.162489414215088, 3.8394367694854736, 3.8394367694854736, 3.7030246257781982, 7.041900157928467, 3.4945826530456543, 3.488430976867676, 3.4272358417510986, 3.4065749645233154, 3.1961073875427246, 3.1961073875427246, 3.195575475692749, 3.123117446899414, 3.0580315589904785, 3.0580315589904785, 2.9867711067199707, 2.8451011180877686, 2.8451011180877686, 2.8451011180877686, 2.82922625541687, 2.8055837154388428, 2.782242774963379, 2.782243251800537, 7.5076212882995605, 5.645488739013672, 13.060152053833008, 59.10982894897461, 138.82962036132812, 18.35577392578125, 7.084056854248047, 2059.095458984375, 43.393653869628906, 51.84835433959961, 12.00804615020752, 8.472525596618652, 51.577423095703125, 1428.53466796875, 98.22760009765625, 497.3936767578125, 730.4722900390625, 1119.4241943359375, 24.031978607177734, 157.807861328125, 95.09323120117188, 457.2311706542969, 80.96576690673828, 100.8218765258789, 4.913373947143555, 4.055256366729736, 4.0552568435668945, 3.936598300933838, 2.9671452045440674, 2.7680811882019043, 2.7247214317321777, 2.3528029918670654, 2.3390233516693115, 2.3390233516693115, 2.2469356060028076, 2.2469358444213867, 2.246936082839966, 2.2469358444213867, 2.1843173503875732, 2.168870210647583, 2.168870210647583, 2.080596685409546, 2.0003843307495117, 1.9237457513809204, 1.909964919090271, 1.909964919090271, 1.909964919090271, 1.9099653959274292, 1.7552589178085327, 1.7299182415008545, 1.7299185991287231, 1.6967681646347046, 1.6505013704299927, 1.649392008781433, 1.649391770362854, 1.6493924856185913, 1.649392008781433, 1.649391770362854, 1.649392008781433, 1.649392008781433, 1.6493918895721436, 32.56012725830078, 80.55368041992188, 5.5497822761535645, 6.937129974365234, 9.912896156311035, 6.565338134765625, 6.1630778312683105, 5.104385852813721, 4.571282863616943, 3.9579641819000244, 4.053956985473633, 3.8976869583129883, 3.624342441558838, 3.6206345558166504, 3.4598684310913086, 3.4579291343688965, 3.4204189777374268, 3.4151577949523926, 3.238363265991211, 3.2112343311309814, 3.1460533142089844, 3.0521292686462402, 3.0044684410095215, 2.9776415824890137, 2.977339744567871, 2.9508109092712402, 2.9034719467163086, 2.9034719467163086, 2.9034719467163086, 2.8512423038482666, 2.843703269958496, 2.8344550132751465, 2.8025927543640137, 2.8018343448638916, 6.369439125061035, 18.12859535217285, 4.662622451782227, 5.732206344604492, 5.037981033325195, 4.688608646392822, 3.3158376216888428, 3.0579922199249268, 2.910520315170288, 2.648989677429199, 2.6473233699798584, 2.5890541076660156, 2.4399170875549316, 2.4130051136016846, 2.338587522506714, 2.338587999343872, 2.338587999343872, 2.338587999343872, 2.338587999343872, 2.338587999343872, 2.338587522506714, 2.338587999343872, 2.265125036239624, 2.1783857345581055, 2.1026036739349365, 2.0756919384002686, 2.0171217918395996, 2.001274347305298, 2.001274585723877, 1.8978557586669922, 1.8558586835861206, 1.8410724401474, 1.806104302406311, 2.4867517948150635, 9.127223014831543, 4.244731426239014, 4.126199245452881, 3.9584760665893555, 3.67974853515625, 3.5925261974334717, 3.4805891513824463, 3.316011905670166, 3.2748448848724365, 3.1963279247283936, 3.1747217178344727, 31.06582260131836, 3.082087278366089, 3.0669920444488525, 2.8483362197875977, 2.5857644081115723, 2.582028388977051, 2.5083987712860107, 2.4655420780181885, 2.4648642539978027, 2.4505412578582764, 2.4044249057769775, 2.399517059326172, 2.39951753616333, 2.399517297744751, 2.2536070346832275, 2.2415361404418945, 2.1665380001068115, 2.0978775024414062, 2.0978775024414062, 3.2979164123535156, 5.773779392242432, 24.611427307128906, 4.391291618347168, 59.00981140136719, 65.52491760253906, 3.8454418182373047, 127.36939239501953, 6.507128715515137, 2.868546724319458, 2.3813607692718506, 2.302607536315918, 2.2795844078063965, 2.1519107818603516, 1.691849708557129, 1.5944455862045288, 1.525871753692627, 1.525871753692627, 1.5258723497390747, 1.4545989036560059, 1.45267915725708, 1.45267915725708, 1.4396406412124634, 1.3603007793426514, 1.3534095287322998, 1.3141851425170898, 1.2867013216018677, 1.2867014408111572, 1.2436037063598633, 1.2344380617141724, 1.2344380617141724, 1.174338459968567, 1.1487751007080078, 1.1338164806365967, 1.1338164806365967, 1.1082525253295898, 1.1082525253295898, 1.0945918560028076, 1.0945918560028076, 1.0945918560028076, 10.932990074157715, 4.213362693786621, 14.953118324279785, 2.0789401531219482, 1.8457012176513672, 1.6485567092895508, 1.6087408065795898, 1.5232234001159668, 1.437774419784546, 1.4117584228515625, 1.3812191486358643, 1.3661816120147705, 1.3363335132598877, 1.3336608409881592, 1.3257780075073242, 1.3257780075073242, 1.286670446395874, 1.2717540264129639, 1.2717559337615967, 1.254714012145996, 1.2182961702346802, 1.2181357145309448, 1.2012566328048706, 1.2006900310516357, 1.1472324132919312, 1.1466660499572754, 1.1466660499572754, 1.1466660499572754, 1.1466660499572754, 1.1466660499572754, 1.1466660499572754, 1.1466660499572754, 1.1466660499572754, 1.1466660499572754, 1.1466660499572754, 1.1466660499572754, 1.1466660499572754, 1.1466660499572754, 1.1466660499572754, 1.1466660499572754, 1.1466660499572754], \"loglift\": [30.0, 29.0, 28.0, 27.0, 26.0, 25.0, 24.0, 23.0, 22.0, 21.0, 20.0, 19.0, 18.0, 17.0, 16.0, 15.0, 14.0, 13.0, 12.0, 11.0, 10.0, 9.0, 8.0, 7.0, 6.0, 5.0, 4.0, 3.0, 2.0, 1.0, 0.9578999876976013, 0.9577999711036682, 0.9567999839782715, 0.9562000036239624, 0.9560999870300293, 0.9555000066757202, 0.9545999765396118, 0.9542999863624573, 0.9541000127792358, 0.9541000127792358, 0.9527999758720398, 0.9527000188827515, 0.9524000287055969, 0.9519000053405762, 0.9519000053405762, 0.9517999887466431, 0.9516000151634216, 0.9509999752044678, 0.9508000016212463, 0.9506999850273132, 0.9506000280380249, 0.9506000280380249, 0.949999988079071, 0.9498000144958496, 0.9498000144958496, 0.9498000144958496, 0.9495000243186951, 0.9491999745368958, 0.9490000009536743, 0.9488000273704529, 0.9470000267028809, 0.9480999708175659, 0.9261000156402588, 0.9323999881744385, 0.9161999821662903, 0.9336000084877014, 0.9240999817848206, 0.9327999949455261, 0.9175000190734863, 0.9023000001907349, 0.8098000288009644, 0.8623999953269958, 0.7894999980926514, 0.8913999795913696, 0.8371000289916992, 0.7170000076293945, 0.7440999746322632, 0.8650000095367432, 0.7868000268936157, 0.8654999732971191, 0.7491000294685364, 0.8003000020980835, 0.7038000226020813, 0.7770000100135803, 0.7042999863624573, 0.5133000016212463, 0.7703999876976013, 0.38179999589920044, 0.5056999921798706, 0.739799976348877, 0.5680000185966492, 0.4090000092983246, 0.4277999997138977, 0.5498999953269958, 0.7105000019073486, 0.3361999988555908, 0.3986999988555908, 0.5310999751091003, 0.3756999969482422, 0.5113999843597412, 0.5773000121116638, 0.3384999930858612, 0.49779999256134033, 0.553600013256073, 0.37880000472068787, 0.1868000030517578, 0.3686999976634979, 0.40470001101493835, 0.3833000063896179, 0.2842000126838684, 0.47699999809265137, 0.16830000281333923, 0.2939000129699707, 0.4625999927520752, 0.334199994802475, 0.19609999656677246, 0.32359999418258667, 0.4027000069618225, 0.011599999852478504, 0.3605000078678131, 0.218299999833107, 0.3483000099658966, 0.36059999465942383, 0.07349999994039536, 0.19480000436306, 0.04960000142455101, 1.6693999767303467, 1.669100046157837, 1.6686999797821045, 1.6686999797821045, 1.6683000326156616, 1.6675000190734863, 1.6670000553131104, 1.666700005531311, 1.666700005531311, 1.666700005531311, 1.666599988937378, 1.6658999919891357, 1.6657999753952026, 1.6655999422073364, 1.6651999950408936, 1.6650999784469604, 1.6646000146865845, 1.6644999980926514, 1.6642999649047852, 1.6638000011444092, 1.6634000539779663, 1.6634000539779663, 1.6632000207901, 1.663100004196167, 1.6627000570297241, 1.6627000570297241, 1.6619000434875488, 1.6617000102996826, 1.6611000299453735, 1.6611000299453735, 1.6550999879837036, 1.656599998474121, 1.6575000286102295, 1.6608999967575073, 1.6125999689102173, 1.6368999481201172, 1.5592999458312988, 1.6081000566482544, 1.6205999851226807, 1.6208000183105469, 1.642300009727478, 1.5228999853134155, 1.6139999628067017, 1.410599946975708, 1.465000033378601, 1.4709999561309814, 1.4871000051498413, 1.5434999465942383, 1.4177000522613525, 1.5154999494552612, 1.419600009918213, 1.4581999778747559, 1.2971999645233154, 1.3346999883651733, 1.4744000434875488, 1.3086999654769897, 1.3990000486373901, 1.3258999586105347, 0.8388000130653381, 1.029099941253662, 1.2066999673843384, 0.45809999108314514, 0.7023000121116638, 0.7656999826431274, 0.5443999767303467, 0.9648000001907349, 0.816100001335144, 0.40230000019073486, 0.21150000393390656, 0.35690000653266907, 0.7226999998092651, 0.22089999914169312, 0.49140000343322754, 0.5108000040054321, 0.2872999906539917, 0.7305999994277954, 0.15230000019073486, 0.7074999809265137, 0.03099999949336052, 0.29679998755455017, 0.2215999960899353, -0.053599998354911804, 0.545799970626831, 1.7906999588012695, 1.7905999422073364, 1.7903000116348267, 1.7899999618530273, 1.7896000146865845, 1.7893999814987183, 1.7890000343322754, 1.7889000177383423, 1.788599967956543, 1.7884000539779663, 1.7879999876022339, 1.7877999544143677, 1.7877000570297241, 1.787600040435791, 1.787600040435791, 1.787600040435791, 1.787500023841858, 1.7874000072479248, 1.7874000072479248, 1.7874000072479248, 1.7874000072479248, 1.7872999906539917, 1.7865999937057495, 1.7864999771118164, 1.7863999605178833, 1.7862999439239502, 1.7862999439239502, 1.7862000465393066, 1.7862000465393066, 1.7860000133514404, 1.7842999696731567, 1.779099941253662, 1.778499960899353, 1.7655999660491943, 1.7526999711990356, 1.7795000076293945, 1.7783000469207764, 1.7490999698638916, 1.7652000188827515, 1.743399977684021, 1.7496999502182007, 1.6068999767303467, 1.6683000326156616, 1.698099970817566, 1.7194000482559204, 1.7199000120162964, 1.742400050163269, 1.5435999631881714, 1.7026000022888184, 1.6259000301361084, 1.670199990272522, 1.5113999843597412, 1.4336999654769897, 1.070199966430664, 1.5276000499725342, 1.1033999919891357, 1.128000020980835, 1.3049999475479126, 1.186400055885315, 1.0860999822616577, 0.7407000064849854, 1.2740000486373901, 0.5123999714851379, 0.3343000113964081, 0.20669999718666077, 0.2678000032901764, 0.8438000082969666, 0.41339999437332153, -0.10019999742507935, 0.14890000224113464, 0.7960000038146973, 0.6621000170707703, 0.8172000050544739, 0.7930999994277954, 0.10450000315904617, 0.24330000579357147, 0.6991000175476074, 0.018400000408291817, 0.42809998989105225, 0.599399983882904, 0.1485999971628189, 0.2224999964237213, 0.29350000619888306, 0.3343999981880188, -0.019099999219179153, -0.13449999690055847, 3.1542000770568848, 3.1540000438690186, 3.151400089263916, 3.1505000591278076, 3.149600028991699, 3.1466000080108643, 3.1452999114990234, 3.14520001411438, 3.1428000926971436, 3.1415998935699463, 3.141400098800659, 3.140000104904175, 3.1389000415802, 3.137399911880493, 3.13700008392334, 3.13700008392334, 3.136899948120117, 3.1356000900268555, 3.135200023651123, 3.1342999935150146, 3.1338999271392822, 3.1333999633789062, 3.1331000328063965, 3.132999897003174, 3.130000114440918, 3.1294000148773193, 3.129300117492676, 3.129300117492676, 3.1291000843048096, 3.1289000511169434, 3.122299909591675, 3.1285998821258545, 3.0838000774383545, 3.0764999389648438, 3.031100034713745, 3.093600034713745, 2.9189000129699707, 2.984800100326538, 3.0596001148223877, 3.0478999614715576, 2.7065999507904053, 2.924099922180176, 2.4672000408172607, 2.618000030517578, 1.2488000392913818, 2.415600061416626, 2.3403000831604004, 2.7042999267578125, 2.326900005340576, 2.121000051498413, 2.442500114440918, 1.8417999744415283, 2.597100019454956, 1.7217999696731567, 1.6700999736785889, 2.300100088119507, 1.5679999589920044, 1.3492000102996826, 1.4905999898910522, 0.22120000422000885, -0.09589999914169312, 0.8312000036239624, 2.103300094604492, 0.039500001817941666, 0.10750000178813934, 0.02160000056028366, 1.1332000494003296, -0.2125999927520752, -0.49000000953674316, 0.14180000126361847, 0.03530000150203705, 0.4702000021934509, 1.5187000036239624, 0.38749998807907104, 0.3643999993801117, 0.607699990272522, 0.25600001215934753, -0.43950000405311584, -0.6807000041007996, -0.0820000022649765, -0.30869999527931213, 0.1687999963760376, 3.2946999073028564, 3.287400007247925, 3.285799980163574, 3.282900094985962, 3.281399965286255, 3.2734999656677246, 3.2715001106262207, 3.268699884414673, 3.2685999870300293, 3.2679998874664307, 3.2678000926971436, 3.264400005340576, 3.2630999088287354, 3.262200117111206, 3.261899948120117, 3.2616000175476074, 3.260499954223633, 3.260200023651123, 3.2599000930786133, 3.2597999572753906, 3.259700059890747, 3.259500026702881, 3.259399890899658, 3.259000062942505, 3.2588000297546387, 3.2588000297546387, 3.257999897003174, 3.257999897003174, 3.2578999996185303, 3.257200002670288, 3.2465999126434326, 3.0078001022338867, 3.2358999252319336, 2.897700071334839, 3.1364998817443848, 3.0244998931884766, 2.843899965286255, 2.989500045776367, 1.7105000019073486, 2.1384999752044678, 2.4800000190734863, 2.11680006980896, 1.8496999740600586, 2.6514999866485596, 2.1619999408721924, 2.682800054550171, 2.9453001022338867, 2.1041998863220215, 2.373300075531006, 3.083699941635132, 1.4143999814987183, 1.6891000270843506, 2.04010009765625, 2.024399995803833, 2.2634999752044678, 2.680999994277954, 2.624799966812134, 1.3148000240325928, 1.9595999717712402, 1.9955999851226807, 1.6973999738693237, 1.9767999649047852, 1.44350004196167, 1.7204999923706055, 1.6349999904632568, 0.6219000220298767, 1.083299994468689, 1.7450000047683716, 1.4953999519348145, 1.183500051498413, 0.5875999927520752, 1.7649999856948853, 0.8590999841690063, 0.24660000205039978, 1.4931999444961548, 0.6373999714851379, 0.5924000144004822, 0.824999988079071, 1.080399990081787, 1.208299994468689, 0.7505000233650208, -0.6669999957084656, 0.7793999910354614, 0.5564000010490417, -0.1501999944448471, 3.3124001026153564, 3.3124001026153564, 3.3087000846862793, 3.3085999488830566, 3.306299924850464, 3.305799961090088, 3.303800106048584, 3.303800106048584, 3.3034000396728516, 3.3032000064849854, 3.3027000427246094, 3.3020999431610107, 3.3010001182556152, 3.300800085067749, 3.300299882888794, 3.2997000217437744, 3.2995998859405518, 3.2976999282836914, 3.296999931335449, 3.2969000339508057, 3.2969000339508057, 3.296600103378296, 3.295799970626831, 3.295300006866455, 3.294300079345703, 3.294100046157837, 3.2939999103546143, 3.293299913406372, 3.293100118637085, 3.2929999828338623, 3.2706000804901123, 3.2699999809265137, 3.240999937057495, 3.111299991607666, 3.198699951171875, 2.8371999263763428, 3.249500036239624, 2.826200008392334, 2.7207000255584717, 2.7167000770568848, 3.1226999759674072, 2.4518001079559326, 1.6927000284194946, 2.6463000774383545, 2.8357999324798584, 2.72379994392395, 2.740499973297119, 2.8935000896453857, 2.8268001079559326, 2.2462000846862793, 2.7500998973846436, 2.039900064468384, 0.2969000041484833, 2.7772998809814453, 1.8494999408721924, 1.5185999870300293, 2.254699945449829, 1.2295000553131104, 1.8661999702453613, 1.5507999658584595, 0.30480000376701355, 1.9667999744415283, 2.32069993019104, 0.7228999733924866, 0.9696000218391418, 0.9158999919891357, 0.9139000177383423, 1.0056999921798706, 1.7000999450683594, 0.2476000040769577, 0.2838999927043915, 1.7896000146865845, 0.626800000667572, 0.8956999778747559, -0.10260000079870224, -0.7864999771118164, 0.9218999743461609, 0.6557999849319458, 0.8568000197410583, 0.72079998254776, -1.1720999479293823, 1.0236999988555908, 0.2639000117778778, 0.27239999175071716, 0.39169999957084656, -0.19859999418258667, 3.322999954223633, 3.3162999153137207, 3.3125998973846436, 3.3106000423431396, 3.3048999309539795, 3.3039000034332275, 3.3006999492645264, 3.3006999492645264, 3.300299882888794, 3.2988998889923096, 3.2985999584198, 3.298099994659424, 3.298099994659424, 3.296799898147583, 3.296600103378296, 3.296600103378296, 3.2964999675750732, 3.2964999675750732, 3.2964000701904297, 3.295799970626831, 3.2957000732421875, 3.2953999042510986, 3.295300006866455, 3.294800043106079, 3.293800115585327, 3.2925000190734863, 3.291800022125244, 3.2908999919891357, 3.2906999588012695, 3.2904000282287598, 3.1270999908447266, 3.210400104522705, 3.009000062942505, 2.532099962234497, 3.1026999950408936, 3.071700096130371, 2.0975000858306885, 2.849299907684326, 2.8345000743865967, 2.2379000186920166, 2.7005999088287354, 0.8720999956130981, 2.614300012588501, 2.075000047683716, 0.8102999925613403, 2.127700090408325, 2.604099988937378, 1.5449999570846558, 1.3799999952316284, 1.9859000444412231, 1.465000033378601, 1.403499960899353, 2.024399995803833, 1.9901000261306763, 1.6682000160217285, 1.9199999570846558, 1.8531999588012695, 1.0405999422073364, -0.1881999969482422, 0.9646999835968018, 0.31859999895095825, 0.10599999874830246, 0.6765999794006348, 0.3248000144958496, 1.4648000001907349, 0.43950000405311584, 1.1441999673843384, -0.6432999968528748, 0.23190000653266907, 1.49399995803833, -0.3853999972343445, 0.3140000104904175, -0.5625, -0.8039000034332275, -0.7157999873161316, -0.6972000002861023, 0.5943999886512756, -0.2870999872684479, -0.8676999807357788, 3.356800079345703, 3.3566999435424805, 3.3566999435424805, 3.351599931716919, 3.350600004196167, 3.349900007247925, 3.346100091934204, 3.338099956512451, 3.3368000984191895, 3.3313000202178955, 3.3262999057769775, 3.325900077819824, 3.324899911880493, 3.3248000144958496, 3.323499917984009, 3.322499990463257, 3.322000026702881, 3.321500062942505, 3.3203001022338867, 3.320199966430664, 3.3190999031066895, 3.3187999725341797, 3.3183000087738037, 3.315200090408325, 3.314199924468994, 3.3127999305725098, 3.3125, 3.3113999366760254, 3.3106000423431396, 3.3101999759674072, 3.1991000175476074, 2.9677000045776367, 3.203399896621704, 3.177999973297119, 3.002000093460083, 2.5529000759124756, 2.2737998962402344, 2.874500036239624, 2.0671000480651855, 2.364300012588501, 2.045599937438965, 2.5840001106262207, 2.177999973297119, 2.4742000102996826, 1.3269000053405762, 2.3352999687194824, 2.2467000484466553, 1.9048999547958374, 1.7714999914169312, 1.3443000316619873, 1.970900058746338, 2.303999900817871, 1.905900001525879, 2.015899896621704, 1.24590003490448, 2.3529000282287598, 1.5980000495910645, 1.3624000549316406, 0.7835000157356262, 1.9579999446868896, 1.269700050354004, 1.1577999591827393, 1.142199993133545, 1.0561000108718872, 0.400299996137619, 1.176800012588501, 1.8131999969482422, 0.6399000287055969, 1.6086000204086304, 0.8646000027656555, -0.03700000047683716, 1.1449999809265137, 1.3502999544143677, -0.3968999981880188, 0.5426999926567078, -0.1054999977350235, 0.11469999700784683, 4.008999824523926, 4.003300189971924, 4.000500202178955, 3.9974000453948975, 3.996799945831299, 3.9962000846862793, 3.994800090789795, 3.9941999912261963, 3.9900999069213867, 3.9893999099731445, 3.9881999492645264, 3.9876999855041504, 3.9853999614715576, 3.9837000370025635, 3.980799913406372, 3.9797000885009766, 3.9797000885009766, 3.978300094604492, 3.9774999618530273, 3.9769999980926514, 3.9746999740600586, 3.973299980163574, 3.973299980163574, 3.973299980163574, 3.973299980163574, 3.969399929046631, 3.9670000076293945, 3.9646999835968018, 3.9646999835968018, 3.9646999835968018, 3.950900077819824, 3.9426000118255615, 3.929500102996826, 3.8322999477386475, 3.8726999759674072, 3.938699960708618, 3.887399911880493, 3.785599946975708, 3.888400077819824, 3.7760000228881836, 3.8422999382019043, 3.7822000980377197, 3.6684999465942383, 3.8011999130249023, 3.6826999187469482, 3.7607998847961426, 3.3071999549865723, 3.520699977874756, 3.322999954223633, 3.452500104904175, 2.9433999061584473, 3.1926000118255615, 3.121999979019165, 3.190999984741211, 3.504300117492676, 3.0961999893188477, 3.1438000202178955, 3.2701001167297363, 3.3540000915527344, 3.2300000190734863, 3.0969998836517334, 3.2411000728607178, 2.125, 2.371999979019165, 3.155900001525879, 1.8047000169754028, 2.250200033187866, 1.5419000387191772, 2.9117000102996826, 1.9372999668121338, 2.3039000034332275, 0.35830000042915344, 4.024400234222412, 4.022900104522705, 4.021699905395508, 4.021100044250488, 4.017899990081787, 4.016300201416016, 4.015999794006348, 4.014500141143799, 4.014100074768066, 4.01170015335083, 4.011000156402588, 4.01039981842041, 4.009699821472168, 4.009399890899658, 4.0071001052856445, 4.006400108337402, 4.00629997253418, 4.005799770355225, 4.005099773406982, 4.004700183868408, 4.002200126647949, 3.997999906539917, 3.996299982070923, 3.9953999519348145, 3.994999885559082, 3.9944000244140625, 3.9918999671936035, 3.9916000366210938, 3.9900999069213867, 3.989799976348877, 3.981300115585327, 3.974400043487549, 3.9749999046325684, 3.9398000240325928, 3.9470999240875244, 3.919800043106079, 3.8831000328063965, 3.8596999645233154, 3.7332000732421875, 3.910399913787842, 3.7070000171661377, 3.799099922180176, 3.7802000045776367, 3.8303000926971436, 3.9172000885009766, 3.5678000450134277, 3.69569993019104, 3.1953001022338867, 3.3671998977661133, 3.694700002670288, 3.733599901199341, 3.186300039291382, 2.953000068664551, 3.6082000732421875, 2.827399969100952, 3.444999933242798, 2.483599901199341, 3.310800075531006, 2.1364998817443848, 1.458299994468689, 2.3340001106262207, 1.4107999801635742, 0.6133000254631042, 2.3285000324249268, 1.5088000297546387, 4.355899810791016, 4.349299907684326, 4.3491997718811035, 4.345300197601318, 4.343699932098389, 4.342400074005127, 4.341000080108643, 4.3404998779296875, 4.340099811553955, 4.33459997177124, 4.333199977874756, 4.329800128936768, 4.329599857330322, 4.328700065612793, 4.327600002288818, 4.327400207519531, 4.327300071716309, 4.325900077819824, 4.3256001472473145, 4.325099945068359, 4.325099945068359, 4.324900150299072, 4.32390022277832, 4.322400093078613, 4.322000026702881, 4.320700168609619, 4.320700168609619, 4.320099830627441, 4.31820011138916, 4.317299842834473, 4.227499961853027, 4.2281999588012695, 4.116600036621094, 3.904900074005127, 3.724600076675415, 4.0142998695373535, 2.6380999088287354, 3.7430999279022217, 3.9014999866485596, 3.7167000770568848, 2.434000015258789, 1.0681999921798706, 2.2223000526428223, 0.4027999937534332, 2.074899911880493, 2.1389999389648438, 0.8324999809265137, 1.2969000339508057, 1.5628000497817993, 1.3687000274658203, 0.3246000111103058, -0.2872999906539917, 0.8165000081062317, 1.753999948501587, -0.46630001068115234, 2.0845000743865967, -0.006800000090152025, 0.31709998846054077, 0.8776000142097473, 2.041599988937378, 1.142300009727478, -0.27880001068115234, 0.5764999985694885, 0.5015000104904175, 0.39899998903274536, 0.32409998774528503, 0.9926000237464905, 0.8039000034332275, -0.6877999901771545, 0.1386999934911728, -1.3767999410629272, -0.2451000064611435, 4.413300037384033, 4.412799835205078, 4.410600185394287, 4.4095001220703125, 4.404900074005127, 4.4029998779296875, 4.402599811553955, 4.402500152587891, 4.396900177001953, 4.392899990081787, 4.390200138092041, 4.382999897003174, 4.379899978637695, 4.379499912261963, 4.377900123596191, 4.377799987792969, 4.374599933624268, 4.374100208282471, 4.374000072479248, 4.373600006103516, 4.372200012207031, 4.36959981918335, 4.367300033569336, 4.366499900817871, 4.365900039672852, 4.365799903869629, 4.363500118255615, 4.363500118255615, 4.36269998550415, 4.3618998527526855, 4.336900234222412, 4.347400188446045, 4.338399887084961, 4.166299819946289, 3.960200071334839, 3.604300022125244, 4.007999897003174, 3.6977999210357666, 4.108699798583984, 3.4209001064300537, 3.2727999687194824, 3.8292999267578125, 2.787400007247925, 3.394200086593628, 2.938800096511841, 3.1008999347686768, 2.3636999130249023, 2.6280999183654785, 3.0155999660491943, 2.888200044631958, 3.007999897003174, 1.7376999855041504, -0.25609999895095825, -0.7271999716758728, 0.7089999914169312, 0.5034000277519226, 2.5938000679016113, 0.41600000858306885, 0.965399980545044, 2.176100015640259, 5.100500106811523, 5.0954999923706055, 5.078100204467773, 5.069200038909912, 5.068999767303467, 5.065199851989746, 5.064000129699707, 5.063899993896484, 5.05679988861084, 5.048799991607666, 5.043700218200684, 5.043700218200684, 5.043700218200684, 5.041500091552734, 5.040800094604492, 5.037600040435791, 5.036499977111816, 5.0345001220703125, 5.032400131225586, 5.026100158691406, 5.022200107574463, 5.022200107574463, 5.020400047302246, 5.017300128936768, 5.0167999267578125, 5.0167999267578125, 5.01669979095459, 5.016300201416016, 5.013999938964844, 5.013999938964844, 5.013999938964844, 4.854899883270264, 4.739099979400635, 4.770400047302246, 4.762800216674805, 2.790600061416626, 2.5276999473571777, 0.7142000198364258, 3.790600061416626, 2.927799940109253, 1.6698999404907227, 1.5372999906539917, 0.9107000231742859, 2.734299898147583, 5.628699779510498, 5.600599765777588, 5.5725998878479, 5.559700012207031, 5.556099891662598, 5.546500205993652, 5.543600082397461, 5.517000198364258, 5.502699851989746, 5.502699851989746, 5.495800018310547, 5.490300178527832, 5.4842000007629395, 5.483799934387207, 5.480100154876709, 5.478799819946289, 5.464600086212158, 5.464600086212158, 5.4644999504089355, 5.459099769592285, 5.454100131988525, 5.454100131988525, 5.448200225830078, 5.4355998039245605, 5.4355998039245605, 5.4355998039245605, 5.434100151062012, 5.431600093841553, 5.429500102996826, 5.429500102996826, 5.323299884796143, 5.310800075531006, 5.0690999031066895, 4.305500030517578, 3.935499906539917, 4.660999774932861, 5.053599834442139, 2.638700008392334, 4.106599807739258, 3.8008999824523926, 4.638299942016602, 4.845099925994873, 3.629199981689453, 1.3896000385284424, 3.104599952697754, 1.8273999691009521, 1.249400019645691, 0.8496000170707703, 3.9072999954223633, 2.1602001190185547, 2.61299991607666, 1.06850004196167, 2.6939001083374023, 2.451200008392334, 5.9944000244140625, 5.964000225067139, 5.964000225067139, 5.958700180053711, 5.89709997177124, 5.878399848937988, 5.873899936676025, 5.827400207519531, 5.825300216674805, 5.825300216674805, 5.810800075531006, 5.810800075531006, 5.810800075531006, 5.810800075531006, 5.800099849700928, 5.797299861907959, 5.797299861907959, 5.780600070953369, 5.763899803161621, 5.746399879455566, 5.743000030517578, 5.743000030517578, 5.743000030517578, 5.743000030517578, 5.701000213623047, 5.69320011138916, 5.69320011138916, 5.682499885559082, 5.6666998863220215, 5.666299819946289, 5.666299819946289, 5.666299819946289, 5.666299819946289, 5.666299819946289, 5.666299819946289, 5.666299819946289, 5.666299819946289, 4.572400093078613, 2.5957999229431152, 4.669899940490723, 4.407800197601318, 6.136099815368652, 6.102099895477295, 6.095399856567383, 6.072400093078613, 6.05649995803833, 6.032400131225586, 6.031300067901611, 6.029600143432617, 6.015500068664551, 6.0152997970581055, 6.005799770355225, 6.00570011138916, 6.003399848937988, 6.002999782562256, 5.991099834442139, 5.989200115203857, 5.984300136566162, 5.976900100708008, 5.972899913787842, 5.970600128173828, 5.970600128173828, 5.968299865722656, 5.964000225067139, 5.964000225067139, 5.964000225067139, 5.959199905395508, 5.958399772644043, 5.957600116729736, 5.954400062561035, 5.954400062561035, 5.6732001304626465, 4.484399795532227, 5.462600231170654, 6.135000228881836, 6.118500232696533, 6.1082000732421875, 6.044400215148926, 6.025199890136719, 6.012599945068359, 5.986100196838379, 5.985899925231934, 5.979100227355957, 5.96019983291626, 5.956399917602539, 5.9456000328063965, 5.9456000328063965, 5.9456000328063965, 5.9456000328063965, 5.9456000328063965, 5.9456000328063965, 5.9456000328063965, 5.9456000328063965, 5.934199810028076, 5.919400215148926, 5.905300140380859, 5.900000095367432, 5.887899875640869, 5.884500026702881, 5.884500026702881, 5.860300064086914, 5.849599838256836, 5.845699787139893, 5.835999965667725, 5.696199893951416, 6.460400104522705, 6.3744001388549805, 6.36959981918335, 6.362199783325195, 6.348299980163574, 6.343400001525879, 6.3368000984191895, 6.326200008392334, 6.323400020599365, 6.317699909210205, 6.316100120544434, 6.314000129699707, 6.308899879455566, 6.307700157165527, 6.288400173187256, 6.260300159454346, 6.259900093078613, 6.250800132751465, 6.245200157165527, 6.245100021362305, 6.243100166320801, 6.236800193786621, 6.236100196838379, 6.236100196838379, 6.236100196838379, 6.213699817657471, 6.211699962615967, 6.198699951171875, 6.185699939727783, 6.185699939727783, 6.082900047302246, 5.834799766540527, 4.674699783325195, 5.735799789428711, 3.6393001079559326, 3.3282999992370605, 5.791999816894531, 2.2988998889923096, 6.989500045776367, 6.847300052642822, 6.78980016708374, 6.7778000831604, 6.774099826812744, 6.7519001960754395, 6.636600017547607, 6.601099967956543, 6.572400093078613, 6.572400093078613, 6.572400093078613, 6.538700103759766, 6.537799835205078, 6.537799835205078, 6.531099796295166, 6.486599922180176, 6.4822998046875, 6.457099914550781, 6.4380998611450195, 6.4380998611450195, 6.405799865722656, 6.398499965667725, 6.398499965667725, 6.34630012512207, 6.321499824523926, 6.30620002746582, 6.30620002746582, 6.27839994430542, 6.27839994430542, 6.262700080871582, 6.262700080871582, 6.262700080871582, 4.935999870300293, 5.223899841308594, 4.1072001457214355, 5.714799880981445, 6.732500076293945, 6.67080020904541, 6.656000137329102, 6.62060022354126, 6.579400062561035, 6.565499782562256, 6.548299789428711, 6.539400100708008, 6.520899772644043, 6.519199848175049, 6.514100074768066, 6.514100074768066, 6.487400054931641, 6.476600170135498, 6.476600170135498, 6.463799953460693, 6.434599876403809, 6.434500217437744, 6.420000076293945, 6.41949987411499, 6.36929988861084, 6.36870002746582, 6.36870002746582, 6.36870002746582, 6.36870002746582, 6.36870002746582, 6.36870002746582, 6.36870002746582, 6.36870002746582, 6.36870002746582, 6.36870002746582, 6.36870002746582, 6.36870002746582, 6.36870002746582, 6.36870002746582, 6.36870002746582, 6.36870002746582], \"logprob\": [30.0, 29.0, 28.0, 27.0, 26.0, 25.0, 24.0, 23.0, 22.0, 21.0, 20.0, 19.0, 18.0, 17.0, 16.0, 15.0, 14.0, 13.0, 12.0, 11.0, 10.0, 9.0, 8.0, 7.0, 6.0, 5.0, 4.0, 3.0, 2.0, 1.0, -8.20829963684082, -8.229900360107422, -8.430399894714355, -8.535099983215332, -8.502900123596191, -8.652899742126465, -8.79069995880127, -8.811200141906738, -8.841699600219727, -8.845100402832031, -9.003800392150879, -9.008700370788574, -9.043899536132812, -8.55109977722168, -9.097299575805664, -9.101699829101562, -9.12339973449707, -9.174599647521973, -9.1875, -9.21030044555664, -9.216899871826172, -9.21780014038086, -9.269800186157227, -9.280400276184082, -9.282299995422363, -9.285300254821777, -9.308500289916992, -9.328700065612793, -9.348299980163574, -9.362000465393066, -8.922800064086914, -9.25510025024414, -7.081200122833252, -7.706999778747559, -7.178699970245361, -8.256999969482422, -7.84089994430542, -8.438300132751465, -7.769700050354004, -7.831600189208984, -5.639900207519531, -7.260300159454346, -6.025899887084961, -8.002599716186523, -7.308899879455566, -5.861299991607666, -6.223400115966797, -7.870500087738037, -6.888800144195557, -7.924699783325195, -6.592100143432617, -7.217100143432617, -6.400000095367432, -7.143799781799316, -6.622700214385986, -5.221499919891357, -7.227099895477295, -4.4039998054504395, -5.368000030517578, -7.022500038146973, -5.8856000900268555, -4.857500076293945, -5.020500183105469, -5.808800220489502, -6.864799976348877, -4.591400146484375, -4.9807000160217285, -5.783199787139893, -5.097599983215332, -5.82289981842041, -6.168799877166748, -5.076099872589111, -5.843299865722656, -6.125400066375732, -5.449900150299072, -4.697199821472168, -5.437099933624268, -5.611100196838379, -5.543600082397461, -5.228400230407715, -5.8734002113342285, -5.088099956512451, -5.434800148010254, -5.893099784851074, -5.600100040435791, -5.320799827575684, -5.654099941253662, -5.807600021362305, -5.406899929046631, -5.764900207519531, -5.655600070953369, -5.774600028991699, -5.784800052642822, -5.682600021362305, -5.761199951171875, -5.793700218200684, -6.0482001304626465, -6.331099987030029, -6.2434000968933105, -6.612500190734863, -6.801499843597412, -7.127399921417236, -7.300099849700928, -7.369999885559082, -7.38539981842041, -7.3902997970581055, -7.421000003814697, -7.576000213623047, -7.6006999015808105, -7.634500026702881, -7.72760009765625, -7.741700172424316, -7.828700065612793, -7.853899955749512, -7.873499870300293, -7.965199947357178, -8.013099670410156, -8.025699615478516, -8.041299819946289, -8.067099571228027, -8.112799644470215, -8.118800163269043, -8.210599899291992, -8.234000205993652, -8.29800033569336, -8.301899909973145, -6.377099990844727, -6.653500080108643, -7.1666998863220215, -7.956900119781494, -6.225200176239014, -7.153299808502197, -5.40339994430542, -6.583199977874756, -6.918700218200684, -7.067500114440918, -7.53410005569458, -5.307000160217285, -7.1707000732421875, -4.6219000816345215, -5.2916998863220215, -5.445099830627441, -5.782299995422363, -6.376699924468994, -5.309500217437744, -6.354800224304199, -5.621300220489502, -5.945799827575684, -4.96999979019165, -5.373000144958496, -6.380099773406982, -5.747700214385986, -6.239799976348877, -5.980599880218506, -4.579699993133545, -5.321899890899658, -6.047500133514404, -4.3277997970581055, -4.898099899291992, -5.190299987792969, -4.83489990234375, -5.560200214385986, -5.404099941253662, -4.864099979400635, -4.672599792480469, -4.899499893188477, -5.5289998054504395, -5.0630998611450195, -5.3144001960754395, -5.332499980926514, -5.225299835205078, -5.5971999168396, -5.295899868011475, -5.618299961090088, -5.442200183868408, -5.520899772644043, -5.506999969482422, -5.468200206756592, -5.577099800109863, -6.770599842071533, -6.815800189971924, -6.961999893188477, -6.936399936676025, -7.177999973297119, -7.228700160980225, -7.331200122833252, -7.3130998611450195, -7.423900127410889, -7.467400074005127, -7.558800220489502, -7.597799777984619, -7.619200229644775, -7.631400108337402, -7.6350998878479, -7.63700008392334, -7.655399799346924, -7.665599822998047, -7.540599822998047, -7.678800106048584, -7.680600166320801, -7.692299842834473, -7.798900127410889, -7.817200183868408, -7.83620023727417, -7.848199844360352, -7.8557000160217285, -7.868899822235107, -7.8730998039245605, -7.901599884033203, -7.079899787902832, -6.69320011138916, -6.96120023727417, -6.469699859619141, -6.056099891662598, -7.387700080871582, -7.456500053405762, -6.781000137329102, -7.171899795532227, -6.838099956512451, -6.961599826812744, -5.159599781036377, -6.0528998374938965, -6.573200225830078, -6.828100204467773, -6.928100109100342, -7.21150016784668, -6.044099807739258, -7.040500164031982, -6.717700004577637, -6.960000038146973, -6.28380012512207, -6.149700164794922, -4.9309000968933105, -6.586900234222412, -5.418799877166748, -5.523399829864502, -6.0696001052856445, -5.849800109863281, -5.676799774169922, -5.015399932861328, -6.153600215911865, -5.330900192260742, -5.182499885559082, -5.049699783325195, -5.244800090789795, -5.91379976272583, -5.460400104522705, -4.984300136566162, -5.2657999992370605, -5.894199848175049, -5.777699947357178, -5.931300163269043, -5.933599948883057, -5.36870002746582, -5.485300064086914, -5.861400127410889, -5.429800033569336, -5.697299957275391, -5.825900077819824, -5.725100040435791, -5.776800155639648, -5.800000190734863, -5.875899791717529, -5.847799777984619, -5.86929988861084, -6.548699855804443, -6.580999851226807, -6.872900009155273, -6.955999851226807, -6.670899868011475, -7.261199951171875, -7.349400043487549, -7.349999904632568, -7.488999843597412, -7.55019998550415, -7.56279993057251, -7.622200012207031, -7.681300163269043, -7.747799873352051, -7.760700225830078, -7.764599800109863, -7.767499923706055, -7.8171000480651855, -7.832799911499023, -7.868299961090088, -7.88129997253418, -7.901599884033203, -7.912799835205078, -7.915299892425537, -8.015399932861328, -8.035200119018555, -8.037500381469727, -8.037699699401855, -8.044699668884277, -8.050000190734863, -7.272600173950195, -8.035900115966797, -7.352200031280518, -7.2565999031066895, -6.742700099945068, -7.680200099945068, -6.115900039672852, -6.753799915313721, -7.424200057983398, -7.372200012207031, -5.696499824523926, -6.816400051116943, -6.2428998947143555, -6.624800205230713, -3.678800106048584, -6.2154998779296875, -6.160900115966797, -6.916800022125244, -6.287700176239014, -5.9644999504089355, -6.570499897003174, -5.730500221252441, -6.880099773406982, -5.901500225067139, -5.867000102996826, -6.565800189971924, -5.86329984664917, -5.6656999588012695, -5.802800178527832, -5.06279993057251, -4.881800174713135, -5.647500038146973, -6.541399955749512, -5.339900016784668, -5.40939998626709, -5.39300012588501, -6.0345001220703125, -5.468999862670898, -5.374100208282471, -5.785099983215332, -5.78249979019165, -5.954999923706055, -6.2804999351501465, -5.946899890899658, -5.991199970245361, -6.091400146484375, -6.033899784088135, -5.912700176239014, -5.9471001625061035, -6.0690999031066895, -6.064799785614014, -6.098499774932861, -7.111599922180176, -7.513999938964844, -7.583600044250488, -7.703400135040283, -7.758299827575684, -8.009499549865723, -8.063599586486816, -8.13640022277832, -8.140800476074219, -8.154999732971191, -8.13860034942627, -8.240799903869629, -8.269800186157227, -8.289199829101562, -8.293899536132812, -8.301300048828125, -8.325200080871582, -8.330599784851074, -8.337200164794922, -8.338299751281738, -8.340800285339355, -8.34469985961914, -8.34689998626709, -8.354499816894531, -8.358699798583984, -8.358799934387207, -8.374899864196777, -8.376199722290039, -8.378000259399414, -8.391200065612793, -8.255599975585938, -6.689799785614014, -8.224599838256836, -6.600399971008301, -7.8933000564575195, -7.504000186920166, -6.90749979019165, -7.429900169372559, -3.5734000205993652, -5.029200077056885, -6.049200057983398, -5.097700119018555, -4.440199851989746, -6.649199962615967, -5.3368000984191895, -6.74970006942749, -7.454899787902832, -5.328199863433838, -6.145400047302246, -7.860799789428711, -4.1859002113342285, -4.8892998695373535, -5.654099941253662, -5.867700099945068, -6.298699855804443, -7.070899963378906, -6.989299774169922, -4.7829999923706055, -5.861499786376953, -5.943600177764893, -5.585299968719482, -6.007299900054932, -5.25570011138916, -5.646100044250488, -5.565700054168701, -4.305699825286865, -4.916100025177002, -5.831699848175049, -5.563799858093262, -5.295199871063232, -4.830900192260742, -5.870299816131592, -5.127999782562256, -4.637400150299072, -5.6743998527526855, -5.1803998947143555, -5.36359977722168, -5.518199920654297, -5.6128997802734375, -5.675300121307373, -5.563799858093262, -5.452899932861328, -5.673299789428711, -5.66379976272583, -5.666999816894531, -6.905099868774414, -6.9095001220703125, -7.1717000007629395, -7.1809000968933105, -7.310299873352051, -7.340099811553955, -7.436399936676025, -7.439199924468994, -7.460599899291992, -7.46750020980835, -7.490300178527832, -7.514500141143799, -7.565499782562256, -7.574699878692627, -7.5980000495910645, -7.6203999519348145, -7.62529993057251, -7.699100017547607, -7.724699974060059, -7.7291998863220215, -7.730000019073486, -7.7399001121521, -7.767300128936768, -7.7866997718811035, -7.817399978637695, -7.82450008392334, -7.829800128936768, -7.852200031280518, -7.857100009918213, -7.860199928283691, -6.853899955749512, -7.345799922943115, -7.192200183868408, -6.221199989318848, -6.98199987411499, -5.315800189971924, -7.623899936676025, -6.239099979400635, -6.243100166320801, -6.317200183868408, -7.329100131988525, -5.8460001945495605, -4.3084001541137695, -6.348599910736084, -6.752799987792969, -6.601399898529053, -6.646200180053711, -6.9618000984191895, -6.879000186920166, -6.093299865722656, -6.88670015335083, -6.152900218963623, -4.63070011138916, -6.964200019836426, -6.135300159454346, -5.842800140380859, -6.517099857330322, -5.7108001708984375, -6.26039981842041, -6.034999847412109, -5.212100028991699, -6.345399856567383, -6.598199844360352, -5.702300071716309, -5.845799922943115, -5.832499980926514, -5.843699932098389, -5.903299808502197, -6.279200077056885, -5.679299831390381, -5.7154998779296875, -6.324100017547607, -5.895400047302246, -6.006899833679199, -5.702899932861328, -5.670499801635742, -6.1143999099731445, -6.070799827575684, -6.146399974822998, -6.140200138092041, -5.958000183105469, -6.190800189971924, -6.175899982452393, -6.1774001121521, -6.180300235748291, -6.176300048828125, -6.930600166320801, -7.354100227355957, -7.508699893951416, -7.616399765014648, -7.821499824523926, -7.854400157928467, -7.9496002197265625, -7.952099800109863, -7.963099956512451, -8.003000259399414, -8.00979995727539, -8.022500038146973, -8.02340030670166, -8.05780029296875, -8.062100410461426, -8.062299728393555, -8.065099716186523, -8.065199851989746, -8.067700386047363, -8.085000038146973, -8.087400436401367, -8.094300270080566, -8.097299575805664, -8.110199928283691, -8.133099555969238, -8.163999557495117, -8.18179988861084, -8.201800346374512, -8.207099914550781, -8.214300155639648, -6.683800220489502, -7.665500164031982, -6.584199905395508, -5.285699844360352, -7.526700019836426, -7.5254998207092285, -4.917399883270264, -7.147500038146973, -7.198400020599365, -6.1016998291015625, -7.000699996948242, -4.055500030517578, -6.9994001388549805, -6.273600101470947, -4.473599910736084, -6.3892998695373535, -7.152599811553955, -5.886300086975098, -5.8206000328063965, -6.505799770355225, -5.945099830627441, -5.952700138092041, -6.600900173187256, -6.574900150299072, -6.274099826812744, -6.580900192260742, -6.56850004196167, -5.962600231170654, -5.072299957275391, -5.944900035858154, -5.60830020904541, -5.4944000244140625, -5.901800155639648, -5.707600116729736, -6.372499942779541, -5.850399971008301, -6.217199802398682, -5.429200172424316, -5.865900039672852, -6.413700103759766, -5.764699935913086, -6.164700031280518, -6.079400062561035, -6.070300102233887, -6.130499839782715, -6.170499801635742, -6.323500156402588, -6.2881999015808105, -6.286200046539307, -7.308499813079834, -7.316999912261963, -7.316999912261963, -7.546999931335449, -7.588699817657471, -7.614500045776367, -7.75, -7.987400054931641, -8.021699905395508, -8.15470027923584, -8.26159954071045, -8.26990032196045, -8.28950023651123, -8.290200233459473, -8.317299842834473, -8.335599899291992, -8.344799995422363, -8.354299545288086, -8.37720012664795, -8.379599571228027, -8.399100303649902, -8.403200149536133, -8.413599967956543, -8.397600173950195, -8.483799934387207, -8.505999565124512, -8.510299682617188, -8.52869987487793, -8.540300369262695, -8.546799659729004, -6.176700115203857, -5.143099784851074, -7.459499835968018, -7.698500156402588, -7.307700157165527, -5.634399890899658, -4.741099834442139, -7.158599853515625, -5.133500099182129, -6.026400089263916, -5.3867998123168945, -6.657400131225586, -5.729700088500977, -6.42140007019043, -3.9570000171661377, -6.165599822998047, -6.049200057983398, -5.377799987792969, -5.112100124359131, -4.473499774932861, -5.664400100708008, -6.28410005569458, -5.67080020904541, -5.870299816131592, -4.741199970245361, -6.411300182342529, -5.46120023727417, -5.21589994430542, -4.635000228881836, -5.984300136566162, -5.209000110626221, -5.1321001052856445, -5.120299816131592, -5.0416998863220215, -4.527299880981445, -5.2484002113342285, -5.880899906158447, -4.9604997634887695, -5.722700119018555, -5.355599880218506, -4.92110013961792, -5.554100036621094, -5.6915998458862305, -5.182700157165527, -5.602700233459473, -5.622399806976318, -5.64139986038208, -5.837200164794922, -6.617599964141846, -6.026800155639648, -6.896500110626221, -6.920100212097168, -6.94290018081665, -6.997900009155273, -7.017600059509277, -7.157100200653076, -7.179699897766113, -7.214700222015381, -7.231100082397461, -7.296500205993652, -7.32420015335083, -7.417300224304199, -7.444200038909912, -7.444200038909912, -7.477700233459473, -7.49560022354126, -6.509300231933594, -7.557300090789795, -7.586999893188477, -7.586999893188477, -7.586999893188477, -7.586999893188477, -7.666800022125244, -7.711999893188477, -7.753600120544434, -7.753600120544434, -7.753600120544434, -6.646399974822998, -6.521500110626221, -6.134200096130371, -3.9779000282287598, -5.508900165557861, -7.048900127410889, -6.442500114440918, -5.296199798583984, -6.6020002365112305, -5.626800060272217, -6.2957000732421875, -5.8541998863220215, -5.067599773406982, -6.460899829864502, -6.08519983291626, -6.486000061035156, -4.9421000480651855, -5.706200122833252, -5.097400188446045, -5.613699913024902, -4.310800075531006, -5.308599948883057, -5.162399768829346, -5.443600177764893, -6.160699844360352, -5.539599895477295, -5.654200077056885, -5.842100143432617, -5.984000205993652, -5.843500137329102, -5.745200157165527, -5.951000213623047, -5.030600070953369, -5.319200038909912, -5.914700031280518, -5.325799942016602, -5.544099807739258, -5.341700077056885, -5.900599956512451, -5.875, -5.932700157165527, -5.8933000564575195, -5.58650016784668, -5.798600196838379, -5.938899993896484, -6.001800060272217, -6.283899784088135, -5.570099830627441, -6.42549991607666, -6.520699977874756, -6.5416998863220215, -6.679699897766113, -6.714099884033203, -6.741799831390381, -6.776400089263916, -6.7891998291015625, -6.8927998542785645, -6.922500133514404, -6.927800178527832, -6.948299884796143, -6.917900085449219, -6.991799831390381, -6.784999847412109, -7.22160005569458, -7.274199962615967, -7.3007001876831055, -7.31279993057251, -7.328700065612793, -7.394800186157227, -7.404300212860107, -7.442299842834473, -7.448299884796143, -5.707099914550781, -5.687699794769287, -6.3078999519348145, -5.774600028991699, -6.217899799346924, -5.748600006103516, -5.706200122833252, -5.398399829864502, -3.745300054550171, -6.091800212860107, -4.463200092315674, -5.2291998863220215, -5.291500091552734, -5.8607001304626465, -6.404900074005127, -4.723899841308594, -5.328100204467773, -4.376999855041504, -5.098899841308594, -5.978499889373779, -6.083199977874756, -5.103799819946289, -5.116300106048584, -6.065499782562256, -5.229800224304199, -5.911600112915039, -5.276500225067139, -5.871500015258789, -5.289899826049805, -5.119900226593018, -5.645400047302246, -5.632800102233887, -5.606800079345703, -5.878799915313721, -5.879000186920166, -6.978899955749512, -7.139699935913086, -7.141900062561035, -7.224800109863281, -7.256899833679199, -7.283100128173828, -7.309800148010254, -7.320300102233887, -7.296500205993652, -7.42609977722168, -7.44980001449585, -7.50629997253418, -7.507999897003174, -7.523099899291992, -7.539700031280518, -7.542500019073486, -7.543900012969971, -7.565700054168701, -7.570300102233887, -7.578199863433838, -7.5782999992370605, -7.580599784851074, -7.596099853515625, -7.617000102996826, -7.6230998039245605, -7.640600204467773, -7.640999794006348, -7.647799968719482, -7.675600051879883, -7.688199996948242, -7.113100051879883, -7.413700103759766, -7.185200214385986, -6.88070011138916, -6.634799957275391, -7.1894001960754395, -5.472799777984619, -6.901299953460693, -7.122900009155273, -7.047299861907959, -5.956699848175049, -4.918900012969971, -5.981299877166748, -4.881100177764893, -6.025300025939941, -6.156899929046631, -5.429999828338623, -5.76230001449585, -6.072500228881836, -5.987500190734863, -5.493199825286865, -5.214799880981445, -5.778800010681152, -6.188300132751465, -5.252200126647949, -6.380499839782715, -5.607100009918213, -5.780600070953369, -6.00600004196167, -6.450099945068359, -6.140399932861328, -5.697400093078613, -6.0019001960754395, -5.991300106048584, -6.079699993133545, -6.223499774932861, -6.410600185394287, -6.396699905395508, -6.204599857330322, -6.314000129699707, -6.260799884796143, -6.390500068664551, -5.841000080108643, -5.872900009155273, -6.033199787139893, -6.104300022125244, -6.3495001792907715, -6.434599876403809, -6.452099800109863, -6.455900192260742, -6.669600009918213, -6.801199913024902, -6.879799842834473, -7.066400051116943, -7.136899948120117, -7.144400119781494, -7.1803998947143555, -7.182400226593018, -7.247900009155273, -7.2581000328063965, -7.2596001625061035, -7.266600131988525, -6.1946001052856445, -7.3420000076293945, -7.383900165557861, -7.3979997634887695, -7.40749979019165, -5.919899940490723, -7.4481000900268555, -7.448299884796143, -7.460100173950195, -7.473400115966797, -6.101399898529053, -6.8983001708984375, -7.077000141143799, -5.938700199127197, -5.967899799346924, -4.861700057983398, -6.246799945831299, -5.5782999992370605, -6.658599853515625, -5.223800182342529, -5.017300128936768, -6.3302001953125, -4.784900188446045, -5.752099990844727, -5.130499839782715, -5.530200004577637, -5.047999858856201, -5.542200088500977, -6.060100078582764, -6.0920000076293945, -6.329999923706055, -5.953499794006348, -5.539999961853027, -5.654799938201904, -5.932300090789795, -5.975299835205078, -6.27209997177124, -6.162300109863281, -6.190199851989746, -6.2642998695373535, -5.2677998542785645, -5.565299987792969, -6.20989990234375, -6.430500030517578, -6.434899806976318, -6.514999866485596, -6.541100025177002, -6.541600227355957, -6.675300121307373, -6.808599948883057, -6.885499954223633, -6.885499954223633, -6.885499954223633, -6.9166998863220215, -6.926599979400635, -6.9704999923706055, -6.985300064086914, -7.0106000900268555, -7.037799835205078, -7.114299774169922, -7.1596999168396, -7.1596999168396, -7.178999900817871, -7.213699817657471, -7.218500137329102, -7.218599796295166, -7.2195000648498535, -7.224400043487549, -7.247700214385986, -7.247700214385986, -7.247700214385986, -5.741799831390381, -5.299900054931641, -5.869900226593018, -6.5868000984191895, -6.010200023651123, -5.949399948120117, -5.103600025177002, -6.621699810028076, -6.542399883270264, -6.2846999168396, -6.655399799346924, -6.763700008392334, -7.001500129699707, -5.819699764251709, -6.326600074768066, -6.667399883270264, -6.794899940490723, -6.827499866485596, -6.911799907684326, -6.935999870300293, -7.13670015335083, -7.231800079345703, -7.231800079345703, -7.274799823760986, -6.637599945068359, -7.344399929046631, -7.346499919891357, -7.3678998947143555, -7.37529993057251, -7.453199863433838, -7.453199863433838, -7.453499794006348, -7.481800079345703, -7.507900238037109, -7.507900238037109, -7.537399768829346, -7.598599910736084, -7.598599910736084, -7.598599910736084, -7.6057000160217285, -7.616499900817871, -7.626999855041504, -7.626999855041504, -6.740499973297119, -7.038099765777588, -6.441100120544434, -5.694799900054932, -5.210999965667725, -6.508800029754639, -7.068299770355225, -3.811000108718872, -6.2027997970581055, -6.33050012588501, -6.9558000564575195, -7.097899913787842, -6.507500171661377, -5.4257001876831055, -6.387800216674805, -6.043000221252441, -6.236599922180176, -6.20959997177124, -6.993100166320801, -6.8582000732421875, -6.911900043487549, -6.886099815368652, -6.9918999671936035, -7.015200138092041, -6.4934000968933105, -6.715700149536133, -6.715700149536133, -6.750800132751465, -7.095099925994873, -7.183199882507324, -7.203499794006348, -7.3968000411987305, -7.404699802398682, -7.404699802398682, -7.459400177001953, -7.459400177001953, -7.459400177001953, -7.459400177001953, -7.4984002113342285, -7.508200168609619, -7.508200168609619, -7.566500186920166, -7.622499942779541, -7.679100036621094, -7.689599990844727, -7.689599990844727, -7.689599990844727, -7.689599990844727, -7.816199779510498, -7.838500022888184, -7.838500022888184, -7.868500232696533, -7.9120001792907715, -7.913000106811523, -7.913000106811523, -7.913000106811523, -7.913000106811523, -7.913000106811523, -7.913000106811523, -7.913000106811523, -7.913000106811523, -6.0243000984191895, -7.095099925994873, -7.696100234985352, -7.735099792480469, -5.649899959564209, -6.095799922943115, -6.165800094604492, -6.377200126647949, -6.503499984741211, -6.6717000007629395, -6.64870023727417, -6.689799785614014, -6.776599884033203, -6.7778000831604, -6.832699775695801, -6.833399772644043, -6.84660005569458, -6.848499774932861, -6.913599967956543, -6.923900127410889, -6.9492998123168945, -6.986999988555908, -7.006700038909912, -7.01800012588501, -7.018099784851074, -7.029399871826172, -7.049799919128418, -7.049799919128418, -7.049799919128418, -7.072800159454346, -7.076200008392334, -7.080399990081787, -7.094799995422363, -7.095099925994873, -6.555099964141846, -6.697800159454346, -7.077600002288818, -6.198699951171875, -6.344299793243408, -6.426400184631348, -6.836699962615967, -6.936800003051758, -6.998899936676025, -7.119500160217285, -7.120299816131592, -7.1493000984191895, -7.22760009765625, -7.242400169372559, -7.284599781036377, -7.284599781036377, -7.284599781036377, -7.284599781036377, -7.284599781036377, -7.284599781036377, -7.284599781036377, -7.284599781036377, -7.328000068664551, -7.381800174713135, -7.431300163269043, -7.449399948120117, -7.490200042724609, -7.501500129699707, -7.501500129699707, -7.578700065612793, -7.611800193786621, -7.623799800872803, -7.652599811553955, -7.472599983215332, -5.408100128173828, -6.259699821472168, -6.292799949645996, -6.341700077056885, -6.428699970245361, -6.457499980926514, -6.495699882507324, -6.554800033569336, -6.570099830627441, -6.599999904632568, -6.608399868011475, -4.329699993133545, -6.645199775695801, -6.651400089263916, -6.74459981918335, -6.8694000244140625, -6.871300220489502, -6.909299850463867, -6.932199954986572, -6.932600021362305, -6.940299987792969, -6.965700149536133, -6.968400001525879, -6.968400001525879, -6.968400001525879, -7.053500175476074, -7.0609002113342285, -7.107999801635742, -7.15310001373291, -7.15310001373291, -6.803500175476074, -6.491600036621094, -6.2017998695373535, -6.864299774169922, -6.362800121307373, -6.568999767303467, -6.940800189971924, -6.933800220489502, -5.217400074005127, -6.178599834442139, -6.422299861907959, -6.467899799346924, -6.481599807739258, -6.561500072479248, -6.917300224304199, -7.012199878692627, -7.084799766540527, -7.084799766540527, -7.084799766540527, -7.166299819946289, -7.168600082397461, -7.168600082397461, -7.184299945831299, -7.2855000495910645, -7.2947998046875, -7.349400043487549, -7.389500141143799, -7.389500141143799, -7.455900192260742, -7.470600128173828, -7.470600128173828, -7.572700023651123, -7.619500160217285, -7.6479997634887695, -7.6479997634887695, -7.698599815368652, -7.698599815368652, -7.7266998291015625, -7.7266998291015625, -7.7266998291015625, -6.751999855041504, -7.417600154876709, -7.267600059509277, -7.6331000328063965, -6.734399795532227, -6.908999919891357, -6.948299884796143, -7.038400173187256, -7.137199878692627, -7.169400215148926, -7.208499908447266, -7.228300094604492, -7.268899917602539, -7.272600173950195, -7.283599853515625, -7.283599853515625, -7.3403000831604, -7.36269998550415, -7.36269998550415, -7.389100074768066, -7.447700023651123, -7.447999954223633, -7.476399898529053, -7.47730016708374, -7.5731000900268555, -7.57420015335083, -7.57420015335083, -7.57420015335083, -7.57420015335083, -7.57420015335083, -7.57420015335083, -7.57420015335083, -7.57420015335083, -7.57420015335083, -7.57420015335083, -7.57420015335083, -7.57420015335083, -7.57420015335083, -7.57420015335083, -7.57420015335083, -7.57420015335083]}, \"token.table\": {\"Topic\": [1, 2, 3, 10, 1, 2, 3, 4, 5, 6, 7, 8, 9, 10, 11, 5, 11, 16, 16, 6, 19, 1, 2, 3, 4, 5, 6, 7, 9, 3, 10, 1, 2, 3, 4, 5, 6, 7, 8, 11, 1, 6, 2, 3, 4, 12, 15, 2, 2, 5, 7, 5, 3, 13, 6, 7, 13, 2, 3, 5, 8, 2, 3, 1, 2, 3, 5, 12, 1, 6, 13, 4, 12, 1, 4, 10, 12, 1, 4, 10, 12, 1, 10, 3, 4, 10, 13, 1, 3, 15, 19, 7, 1, 2, 3, 6, 10, 11, 11, 16, 7, 1, 3, 6, 10, 12, 12, 17, 20, 1, 2, 3, 4, 5, 6, 7, 8, 11, 11, 19, 3, 18, 1, 1, 2, 6, 1, 2, 5, 1, 2, 3, 1, 2, 3, 8, 1, 1, 9, 12, 1, 20, 12, 1, 2, 5, 7, 9, 2, 5, 5, 2, 3, 7, 11, 1, 3, 4, 5, 7, 8, 11, 17, 3, 7, 9, 5, 9, 1, 2, 3, 4, 5, 6, 7, 8, 11, 1, 2, 3, 10, 4, 13, 18, 1, 14, 14, 20, 3, 9, 1, 3, 6, 10, 12, 18, 17, 4, 5, 6, 7, 8, 11, 8, 20, 3, 4, 6, 10, 12, 20, 9, 3, 20, 7, 15, 1, 4, 5, 6, 7, 8, 11, 11, 20, 7, 1, 3, 4, 5, 6, 14, 1, 2, 3, 9, 11, 12, 19, 1, 2, 3, 5, 6, 7, 8, 11, 1, 2, 3, 6, 1, 6, 1, 2, 3, 5, 6, 7, 8, 11, 1, 14, 14, 17, 3, 2, 4, 5, 8, 11, 16, 8, 2, 1, 2, 3, 4, 5, 6, 7, 8, 11, 11, 18, 1, 10, 1, 14, 1, 2, 3, 4, 6, 7, 14, 6, 1, 5, 6, 14, 14, 1, 10, 13, 19, 1, 6, 1, 6, 14, 1, 2, 6, 14, 3, 5, 7, 1, 3, 4, 5, 6, 7, 8, 10, 11, 13, 1, 2, 3, 4, 5, 6, 8, 9, 12, 18, 1, 9, 10, 8, 5, 18, 1, 4, 1, 3, 4, 5, 6, 7, 9, 10, 12, 8, 1, 12, 3, 1, 2, 4, 5, 6, 7, 8, 11, 8, 16, 18, 20, 1, 3, 4, 6, 7, 8, 11, 8, 8, 1, 1, 3, 4, 5, 6, 7, 10, 16, 1, 3, 4, 6, 10, 11, 12, 1, 2, 3, 4, 5, 6, 7, 8, 11, 4, 1, 2, 3, 4, 5, 6, 7, 8, 11, 11, 7, 5, 11, 8, 7, 13, 14, 1, 3, 6, 10, 12, 1, 2, 3, 4, 5, 6, 7, 8, 3, 1, 1, 1, 2, 9, 1, 2, 3, 4, 5, 6, 7, 8, 9, 11, 12, 10, 13, 1, 2, 9, 1, 2, 3, 4, 5, 6, 8, 13, 1, 6, 9, 1, 2, 3, 4, 6, 7, 8, 10, 1, 2, 9, 2, 3, 5, 7, 8, 11, 1, 2, 3, 10, 1, 2, 5, 6, 9, 12, 4, 4, 4, 1, 4, 5, 6, 7, 2, 3, 2, 1, 2, 3, 4, 5, 6, 7, 8, 9, 11, 12, 2, 5, 9, 10, 1, 2, 3, 4, 5, 6, 7, 9, 17, 18, 1, 2, 3, 4, 5, 6, 7, 8, 11, 16, 16, 4, 6, 20, 4, 9, 16, 1, 2, 3, 4, 5, 6, 7, 8, 10, 11, 14, 9, 1, 17, 20, 7, 6, 7, 3, 6, 1, 2, 3, 4, 5, 6, 7, 8, 11, 1, 2, 3, 4, 5, 6, 7, 8, 10, 12, 1, 3, 20, 13, 4, 1, 6, 7, 8, 17, 6, 1, 2, 3, 4, 5, 6, 7, 8, 11, 2, 6, 13, 14, 1, 1, 2, 3, 4, 6, 9, 12, 18, 1, 11, 17, 1, 2, 2, 11, 16, 14, 1, 2, 3, 1, 2, 3, 1, 3, 6, 9, 7, 4, 12, 4, 7, 12, 12, 5, 1, 2, 3, 4, 5, 6, 7, 8, 11, 8, 11, 10, 10, 10, 9, 10, 5, 17, 17, 1, 2, 3, 4, 5, 6, 7, 8, 11, 14, 14, 1, 2, 3, 5, 6, 7, 8, 11, 14, 1, 3, 4, 5, 6, 7, 8, 10, 11, 13, 4, 8, 8, 5, 1, 14, 2, 1, 2, 3, 5, 6, 7, 12, 12, 13, 14, 1, 2, 3, 4, 5, 6, 7, 8, 9, 11, 12, 1, 2, 4, 7, 9, 16, 5, 11, 15, 15, 1, 4, 5, 7, 1, 2, 3, 4, 5, 6, 7, 8, 10, 11, 12, 6, 14, 1, 2, 3, 4, 5, 6, 7, 8, 10, 11, 18, 5, 9, 4, 9, 12, 9, 4, 12, 4, 12, 4, 2, 8, 1, 2, 3, 4, 5, 6, 7, 8, 10, 11, 16, 20, 8, 8, 3, 6, 1, 2, 3, 5, 8, 10, 11, 1, 2, 3, 4, 5, 6, 7, 8, 11, 6, 6, 1, 2, 1, 2, 5, 6, 16, 1, 6, 7, 11, 13, 15, 1, 2, 3, 4, 5, 6, 7, 8, 11, 8, 11, 11, 11, 1, 5, 20, 6, 1, 2, 3, 4, 5, 6, 7, 8, 10, 11, 5, 6, 1, 2, 3, 5, 6, 7, 8, 11, 5, 1, 3, 10, 10, 12, 17, 1, 2, 4, 5, 6, 7, 9, 13, 1, 2, 3, 10, 12, 15, 1, 2, 3, 8, 10, 11, 10, 1, 4, 6, 7, 8, 11, 13, 14, 6, 1, 2, 3, 4, 5, 6, 7, 8, 9, 10, 11, 12, 12, 1, 2, 3, 4, 5, 10, 11, 12, 12, 2, 8, 11, 13, 3, 6, 10, 5, 1, 3, 4, 6, 7, 8, 10, 13, 1, 10, 13, 9, 13, 5, 10, 18, 12, 4, 1, 2, 7, 13, 19, 10, 10, 12, 4, 7, 1, 4, 5, 9, 12, 8, 16, 16, 5, 11, 19, 15, 11, 11, 11, 8, 5, 1, 4, 6, 8, 3, 14, 18, 1, 2, 3, 4, 5, 6, 7, 8, 11, 1, 7, 10, 12, 1, 2, 3, 4, 5, 6, 7, 8, 9, 10, 11, 12, 2, 5, 8, 11, 5, 2, 1, 2, 3, 4, 5, 7, 8, 11, 1, 3, 9, 1, 2, 3, 13, 13, 9, 18, 1, 3, 20, 2, 5, 4, 7, 3, 7, 1, 1, 2, 3, 4, 5, 6, 7, 8, 10, 11, 13, 15, 1, 2, 3, 4, 5, 7, 8, 11, 12, 16, 7, 11, 1, 2, 3, 5, 8, 11, 1, 2, 3, 5, 7, 8, 11, 15, 1, 2, 3, 4, 5, 6, 7, 9, 12, 1, 2, 4, 5, 6, 7, 8, 11, 1, 2, 3, 1, 2, 3, 10, 1, 2, 3, 4, 5, 6, 7, 8, 11, 14, 6, 4, 6, 1, 2, 3, 4, 5, 6, 7, 8, 11, 1, 2, 6, 7, 2, 10, 12, 8, 7, 17, 14, 1, 2, 3, 4, 5, 6, 7, 8, 11, 12, 1, 2, 3, 4, 5, 6, 7, 8, 11, 13, 17, 1, 2, 3, 4, 5, 6, 9, 12, 1, 2, 4, 5, 6, 7, 9, 11, 15, 18, 17, 4, 12, 1, 2, 3, 4, 5, 6, 7, 8, 11, 12, 1, 3, 12, 1, 2, 3, 4, 5, 1, 2, 3, 4, 5, 6, 7, 8, 11, 1, 14, 2, 9, 12, 10, 1, 2, 3, 4, 5, 6, 7, 8, 10, 11, 7, 9, 1, 1, 10, 4, 5, 7, 9, 16, 1, 1, 3, 4, 20, 20, 1, 4, 5, 6, 7, 1, 2, 3, 10, 1, 17, 12, 2, 1, 2, 3, 1, 2, 3, 4, 5, 6, 7, 8, 11, 6, 2, 4, 7, 1, 3, 4, 12, 1, 2, 3, 3, 1, 1, 2, 3, 4, 5, 6, 7, 1, 13, 18, 2, 5, 6, 7, 8, 11, 5, 2, 5, 8, 11, 2, 9, 1, 2, 3, 5, 7, 8, 11, 7, 11, 8, 8, 1, 3, 4, 6, 10, 12, 1, 2, 6, 7, 8, 4, 1, 2, 3, 4, 5, 6, 7, 8, 9, 10, 11, 12, 5, 16, 5, 20, 17, 5, 7, 19, 7, 14, 4, 3, 18, 12, 8, 8, 11, 4, 2, 5, 19, 6, 15, 4, 9, 1, 2, 3, 4, 5, 6, 7, 8, 10, 11, 12, 1, 2, 3, 4, 5, 6, 7, 8, 10, 11, 15, 12, 9, 9, 1, 2, 3, 4, 6, 2, 9, 4, 9, 12, 9, 19, 17, 7, 12, 13, 11, 1, 2, 3, 5, 6, 7, 8, 11, 2, 3, 2, 14, 2, 1, 6, 9, 12, 1, 2, 5, 6, 7, 8, 11, 7, 1, 1, 2, 3, 5, 6, 7, 8, 11, 20, 1, 2, 5, 9, 9, 1, 2, 3, 4, 5, 6, 7, 8, 10, 11, 11, 5, 2, 5, 7, 19, 1, 2, 3, 4, 5, 6, 7, 8, 10, 11, 12, 11, 1, 2, 3, 4, 6, 7, 8, 11, 4, 6, 19, 1, 2, 3, 8, 14, 14, 3, 1, 2, 3, 4, 5, 6, 7, 8, 11, 17, 3, 7, 17, 1, 3, 9, 1, 2, 3, 4, 5, 6, 7, 8, 9, 11, 12, 16, 13, 18, 1, 3, 2, 4, 9, 2, 9, 2, 9, 7, 9, 9, 11, 2, 7, 9, 2, 4, 9, 9, 10, 15, 1, 2, 3, 4, 5, 6, 7, 8, 10, 11, 12, 1, 2, 3, 4, 5, 6, 7, 9, 12, 7, 6, 7, 11, 13, 1, 2, 3, 4, 5, 6, 7, 8, 10, 11, 13, 14, 14, 15, 19, 3, 9, 19, 1, 2, 3, 4, 5, 6, 7, 8, 10, 11, 14, 4, 7, 9, 12, 6, 1, 2, 3, 4, 5, 6, 7, 8, 10, 11, 5, 1, 2, 3, 4, 5, 6, 7, 8, 19, 13, 20, 1, 2, 3, 4, 5, 6, 7, 8, 10, 11, 18, 1, 2, 5, 6, 7, 11, 13, 1, 2, 3, 4, 5, 6, 7, 8, 9, 10, 11, 7, 11, 2, 8, 10, 1, 1, 2, 3, 4, 5, 6, 7, 8, 10, 11, 12, 13, 5, 19, 1, 2, 3, 4, 5, 6, 7, 8, 1, 3, 4, 6, 7, 10, 12, 10, 1, 4, 5, 6, 7, 1, 2, 5, 7, 8, 9, 2, 2, 1, 2, 3, 4, 5, 6, 7, 8, 9, 11, 13, 5, 6, 6, 11, 13, 15, 13, 18, 18, 18, 1, 2, 3, 4, 5, 6, 7, 8, 9, 10, 12, 15, 1, 2, 3, 1, 2, 3, 4, 5, 6, 7, 9, 12, 15, 1, 2, 3, 4, 5, 6, 7, 8, 11, 1, 2, 3, 5, 6, 7, 8, 6, 20, 1, 11, 19, 8, 18, 1, 2, 3, 5, 9, 11, 12, 2, 4, 9, 1, 2, 3, 4, 5, 6, 9, 12, 7, 15, 6, 12, 4, 10, 12, 15, 18, 1, 2, 3, 14, 1, 4, 5, 6, 7, 8, 11, 12, 7, 1, 5, 6, 7, 8, 16, 16, 1, 2, 7, 1, 2, 6, 9, 20, 18, 14, 11, 2, 1, 3, 10, 12, 10, 1, 3, 10, 10, 20, 1, 1, 2, 3, 4, 5, 6, 7, 8, 11, 5, 2, 1, 2, 3, 4, 5, 6, 7, 8, 10, 15, 2, 5, 10, 1, 2, 3, 4, 5, 6, 7, 8, 10, 11, 12, 11, 6, 18, 1, 2, 3, 10, 1, 2, 3, 4, 5, 6, 7, 8, 10, 11, 12, 11, 11, 8, 16, 2, 18, 11, 11, 6, 1, 2, 3, 10, 1, 2, 3, 12, 2, 6, 12, 2, 4, 1, 12, 4, 5, 7, 8, 11, 1, 2, 3, 4, 5, 6, 7, 8, 10, 1, 3, 4, 5, 6, 7, 10, 12, 8, 1, 3, 10, 10, 1, 3, 3, 4, 6, 10, 12, 1, 2, 7, 14, 2, 16, 2, 12, 9, 5, 19, 5, 18, 13, 13, 1, 3, 4, 6, 10, 12, 4, 1, 2, 3, 4, 5, 6, 10, 12, 1, 3, 6, 12, 1, 3, 10, 5, 4, 15, 20, 1, 2, 3, 4, 5, 6, 7, 9, 12, 4, 13, 1, 2, 3, 4, 5, 6, 7, 8, 11, 13, 15, 17, 7, 4, 5, 7, 8, 11, 1, 2, 3, 1, 1, 2, 3, 14, 1, 2, 3, 6, 7, 12, 13, 14, 9, 19, 8, 7, 8, 17, 1, 10, 2, 2, 11, 1, 2, 6, 9, 11, 12, 1, 4, 7, 3, 10, 4, 3, 4, 8, 1, 2, 3, 1, 3, 3, 1, 10, 1, 1, 2, 3, 10, 12, 1, 3, 14, 12, 1, 1, 3, 5, 6, 7, 8, 11, 3, 15, 2, 5, 12, 1, 2, 1, 2, 3, 5, 7, 17, 9, 16, 16, 12, 19, 9, 17, 10, 9, 1, 2, 5, 9, 1, 9, 1, 2, 9, 2, 1, 2, 3, 4, 5, 6, 7, 8, 11, 20, 20, 15, 1, 2, 14, 1, 6, 3, 3, 1, 2, 3, 4, 1, 2, 3, 18, 6, 1, 6, 7, 9, 9, 17, 1, 1, 3, 4, 5, 6, 7, 8, 11, 14, 1, 2, 3, 4, 5, 6, 7, 8, 9, 11, 19, 4, 5, 7, 1, 2, 3, 4, 5, 6, 7, 8, 11, 13, 7, 11, 18, 20, 2, 1, 3, 4, 5, 6, 7, 10, 1, 2, 3, 4, 5, 6, 7, 8, 10, 11, 1, 3, 4, 6, 7, 10, 12, 17, 3, 2, 3, 1, 3, 12, 1, 2, 4, 5, 6, 7, 8, 9, 11, 20, 6, 1, 2, 3, 4, 5, 6, 7, 8, 10, 11, 12, 13, 11, 1, 3, 6, 10, 12, 12, 2, 4, 7, 9, 12, 6, 1, 2, 3, 5, 6, 7, 8, 10, 11, 13, 1, 3, 6, 2, 4, 20, 3, 1, 2, 3, 4, 5, 6, 7, 8, 9, 11, 12, 10, 10, 15, 14, 4, 6, 10, 9, 16, 4, 1, 3, 4, 6, 10, 4, 4, 5, 6, 7, 15, 14, 5, 19, 16, 19, 1, 2, 3, 4, 5, 7, 8, 11, 15, 19, 17, 10, 12, 14, 12, 1, 3, 8, 18, 4, 2, 4, 9, 12, 12, 6, 1, 2, 3, 8, 10, 11, 11, 1, 3, 4, 6, 7, 10, 13, 13, 10, 8, 9, 16, 6, 1, 2, 3, 17, 1, 2, 3, 5, 6, 7, 9, 2, 17, 1, 2, 3, 4, 5, 6, 7, 4, 1, 1, 4, 5, 12, 1, 2, 3, 5, 6, 18, 1, 10, 13, 1, 14, 1, 14, 13, 13, 14, 9, 15, 1, 4, 5, 6, 5, 1, 3, 6, 12, 1, 3, 5, 6, 7, 8, 10, 11, 2, 5, 1, 3, 4, 7, 18, 1, 2, 3, 3, 1, 3, 20, 1, 2, 3, 9, 19, 1, 2, 4, 7, 9, 12, 15, 15, 2, 18, 1, 6, 9, 12, 3, 5, 9, 19, 1, 3, 4, 5, 6, 7, 8, 11, 1, 2, 3, 4, 5, 6, 7, 8, 9, 11, 15, 13, 1, 2, 3, 4, 5, 6, 7, 8, 11, 11, 12, 20, 15, 7, 1, 1, 1, 14, 1, 2, 3, 4, 5, 6, 7, 8, 11, 1, 2, 4, 5, 6, 7, 8, 11, 13, 9, 19, 16, 6, 1, 2, 4, 6, 7, 9, 20, 14, 1, 2, 3, 4, 5, 6, 7, 11, 12, 4, 8, 18, 3, 12, 1, 2, 3, 4, 5, 6, 7, 9, 12, 1, 2, 3, 4, 5, 6, 7, 8, 11, 19, 1, 2, 9, 12, 15, 16, 1, 5, 6, 7, 8, 11, 13, 1, 2, 4, 9, 12, 15, 1, 2, 3, 4, 5, 6, 7, 8, 10, 11, 12, 1, 14, 20, 20, 1, 2, 3, 4, 5, 6, 7, 6, 1, 9, 9, 9, 2, 1, 4, 6, 10, 12, 6, 1, 2, 3, 4, 5, 6, 7, 8, 9, 12, 14, 20, 20, 1, 7, 1, 2, 3, 6, 12, 15, 7, 15, 1, 2, 9, 12, 14, 1, 2, 3, 4, 5, 6, 7, 8, 18, 4, 17, 15, 4, 1, 2, 3, 4, 5, 7, 8, 9, 11, 12, 1, 2, 5, 6, 7, 8, 9, 11, 2, 5, 1, 7, 9, 1, 4, 5, 9, 1, 2, 3, 4, 5, 6, 7, 8, 11, 18, 5, 1, 2, 4, 5, 6, 7, 8, 11, 1, 2, 3, 14, 1, 1, 2, 4, 7, 1, 4, 6, 9, 6, 10, 12, 1, 3, 8, 2, 3, 11, 3, 1, 2, 4, 9, 13, 7, 15, 2, 16, 5, 1, 2, 3, 4, 5, 6, 7, 8, 9, 11, 18, 10, 4, 5, 6, 7, 12, 6, 1, 2, 3, 4, 6, 1, 10, 19, 6, 11, 1, 4, 5, 11, 1, 4, 12, 3, 10, 1, 2, 3, 4, 5, 6, 7, 8, 11, 1, 2, 4, 5, 6, 7, 9, 11, 9, 1, 2, 3, 4, 5, 6, 7, 10, 5, 18, 8, 1, 2, 3, 4, 5, 6, 7, 8, 9, 10, 11, 12, 7, 1, 2, 3, 4, 5, 6, 7, 8, 11, 2, 12, 1, 2, 3, 5, 6, 11, 19, 6, 1, 2, 3, 4, 5, 6, 7, 8, 9, 12, 1, 3, 9, 9, 1, 3, 5, 6, 7, 8, 15, 13, 1, 2, 3, 8, 10, 1, 2, 3, 4, 5, 6, 7, 8, 9, 11, 4, 5, 9, 12, 1, 2, 3, 4, 5, 6, 7, 6, 10, 12, 19, 17, 10, 9, 12, 1, 2, 4, 8, 11, 13, 14, 1, 2, 4, 5, 6, 7, 8, 11, 14, 17, 8, 1, 10, 12, 13, 15, 4, 1, 1, 3, 10, 6, 4, 20, 1, 2, 3, 13, 16, 8, 7, 8, 1, 3, 4, 5, 6, 7, 8, 12, 1, 2, 3, 14, 7, 1, 2, 3, 5, 7, 8, 10, 11, 1, 2, 3, 5, 6, 20, 16, 7], \"Freq\": [0.3073493540287018, 0.49374860525131226, 0.19634753465652466, 0.0026179670821875334, 0.38650986552238464, 0.4353431165218353, 0.00796570535749197, 0.0022511775605380535, 0.0658036544919014, 0.0006926700589247048, 0.014892405830323696, 0.07480836659669876, 0.0005195025005377829, 0.0017316751182079315, 0.009351045824587345, 0.9663651585578918, 0.9680848121643066, 0.9735395312309265, 0.7836397886276245, 0.9807959198951721, 0.6972171664237976, 0.4645293056964874, 0.07289156317710876, 0.3687818944454193, 0.012354502454400063, 0.006794976536184549, 0.03644578158855438, 0.02965080551803112, 0.008030426688492298, 0.9949755668640137, 0.9660027623176575, 0.4296957552433014, 0.27223461866378784, 0.07893192768096924, 0.022149264812469482, 0.02617640420794487, 0.007248850539326668, 0.027787260711193085, 0.10712189972400665, 0.028189973905682564, 0.3906594216823578, 0.6048920154571533, 0.011010385118424892, 0.9872645139694214, 0.22541342675685883, 0.7701625227928162, 0.9221391081809998, 0.9911086559295654, 0.1999664008617401, 0.7373760938644409, 0.062489498406648636, 0.953437089920044, 0.9987818002700806, 0.9823457598686218, 0.25667721033096313, 0.03208465129137039, 0.7058623433113098, 0.9438816905021667, 0.0019461478805169463, 0.038922958076000214, 0.01556918304413557, 0.9978334307670593, 0.997235894203186, 0.9056476950645447, 0.015525389462709427, 0.054338861256837845, 0.01811295375227928, 0.005175129510462284, 0.07824230939149857, 0.9128269553184509, 0.9849578142166138, 0.04500535503029823, 0.9451124668121338, 0.07414058595895767, 0.34889689087867737, 0.20933812856674194, 0.3663417100906372, 0.007294748444110155, 0.03647374361753464, 0.5142797827720642, 0.44133228063583374, 0.04824856296181679, 0.9408469796180725, 0.9946222305297852, 0.9521457552909851, 0.9688163995742798, 0.862799882888794, 0.007867790758609772, 0.9834738969802856, 0.5235698223114014, 0.8819769620895386, 0.9898599982261658, 0.40144985914230347, 0.31353339552879333, 0.27778422832489014, 0.00026480862288735807, 0.00635540671646595, 0.00026480862288735807, 0.9095818996429443, 0.713624894618988, 0.9596076607704163, 0.09599380195140839, 0.006399586796760559, 0.019198760390281677, 0.7935487627983093, 0.08319462835788727, 0.9901716113090515, 0.40213099122047424, 0.8720934987068176, 0.27030423283576965, 0.23201113939285278, 0.024777887389063835, 0.0022525351960211992, 0.2635466158390045, 0.011262676678597927, 0.05406084656715393, 0.13289958238601685, 0.006757605820894241, 0.9074786901473999, 0.777181088924408, 0.26004815101623535, 0.5200963020324707, 0.9841243028640747, 0.9073966145515442, 0.08118811994791031, 0.00955154374241829, 0.9079652428627014, 0.020177006721496582, 0.07061952352523804, 0.014180731028318405, 0.9855608344078064, 0.9930803775787354, 0.18276569247245789, 0.054083723574876785, 0.7553071975708008, 0.007459823973476887, 0.9811868667602539, 0.2442512959241867, 0.5146723985671997, 0.2442512959241867, 0.9793137907981873, 0.8720934987068176, 0.9708383083343506, 0.1977660357952118, 0.762356162071228, 0.009569323621690273, 0.022328423336148262, 0.006379549391567707, 0.9721686244010925, 0.022263402119278908, 0.9197092056274414, 0.14585205912590027, 0.13259278237819672, 0.47733402252197266, 0.23866701126098633, 0.24287991225719452, 0.27829989790916443, 0.08348996937274933, 0.15685994923114777, 0.055659979581832886, 0.0809599757194519, 0.09866996854543686, 0.7939688563346863, 0.18198251724243164, 0.811922013759613, 0.9427974224090576, 0.04540686309337616, 0.9081372618675232, 0.32347196340560913, 0.09892589598894119, 0.13504169881343842, 0.23710809648036957, 0.07694236189126968, 0.06438034772872925, 0.04396706447005272, 0.0188430268317461, 0.0031405047047883272, 0.48259609937667847, 0.2918022871017456, 0.22310292720794678, 0.0020405754912644625, 0.29892706871032715, 0.6857738494873047, 0.8619230389595032, 0.5829424858093262, 0.333109974861145, 0.7069070339202881, 0.8720934987068176, 0.9934195876121521, 0.9064305424690247, 0.2399507313966751, 0.017774127423763275, 0.1421930193901062, 0.5598850250244141, 0.03554825484752655, 0.7973213791847229, 0.8288419842720032, 0.22452858090400696, 0.029937144368886948, 0.153427854180336, 0.25820785760879517, 0.23201286792755127, 0.0935535728931427, 0.9553452730178833, 0.8720934987068176, 0.012883413583040237, 0.7858882546424866, 0.025766827166080475, 0.17392608523368835, 0.9515182971954346, 0.8720934987068176, 0.9833354353904724, 0.9944401383399963, 0.8720934987068176, 0.9470162987709045, 0.6062840223312378, 0.29708871245384216, 0.040654245764017105, 0.2314164638519287, 0.25643447041511536, 0.11258098483085632, 0.04378149285912514, 0.015636248514056206, 0.9227427244186401, 0.8324615955352783, 0.989966094493866, 0.6122612953186035, 0.03601536899805069, 0.0072030737064778805, 0.0072030737064778805, 0.1584676206111908, 0.17287376523017883, 0.8310062885284424, 0.10995502769947052, 0.025374237447977066, 0.0021145197097212076, 0.004229039419442415, 0.025374237447977066, 0.9220656752586365, 0.04545673727989197, 0.8629677295684814, 0.000710261519998312, 0.020597584545612335, 0.024148890748620033, 0.014915491454303265, 0.02627967670559883, 0.005682092159986496, 0.13244321942329407, 0.7779942750930786, 0.08858785033226013, 0.0008771074353717268, 0.45047953724861145, 0.5470108389854431, 0.009798401966691017, 0.696577250957489, 0.13094227015972137, 0.08462256193161011, 0.008907637558877468, 0.015142984688282013, 0.03473978862166405, 0.01870603859424591, 0.17713257670402527, 0.7085303068161011, 0.9605786800384521, 0.5536778569221497, 0.9906207919120789, 0.8946853280067444, 0.007300242781639099, 0.006489104591310024, 0.07300242781639099, 0.017845038324594498, 0.6888304948806763, 0.9347622394561768, 0.9995670318603516, 0.46646907925605774, 0.1284569799900055, 0.20800743997097015, 0.006500232499092817, 0.10802767425775528, 0.047668375074863434, 0.012071860954165459, 0.019191162660717964, 0.003404883900657296, 0.9745265245437622, 0.8114036917686462, 0.25677523016929626, 0.7431536912918091, 0.472114235162735, 0.472114235162735, 0.8414216637611389, 0.03010077401995659, 0.0007000180194154382, 0.004900126252323389, 0.09520245343446732, 0.013300342485308647, 0.014000359922647476, 0.9949747920036316, 0.20740360021591187, 0.29958298802375793, 0.2765381336212158, 0.20740360021591187, 0.7188445329666138, 0.6232830286026001, 0.27268630266189575, 0.09089543670415878, 0.7771811485290527, 0.3840904235839844, 0.6134777665138245, 0.8144350647926331, 0.10180438309907913, 0.08144350349903107, 0.8586294651031494, 0.045651111751794815, 0.04710806533694267, 0.048079364001750946, 0.9942125678062439, 0.7065852880477905, 0.3028222620487213, 0.3660663068294525, 0.14642652869224548, 0.0028158945497125387, 0.11826757341623306, 0.050686102360486984, 0.011263578198850155, 0.07884504646062851, 0.18303315341472626, 0.039422523230314255, 0.0028158945497125387, 0.5535014867782593, 0.25996342301368713, 0.02973751351237297, 0.03357461094856262, 0.0019185493001714349, 0.0009592746500857174, 0.004796373192220926, 0.1093573048710823, 0.005755647551268339, 0.986061155796051, 0.1176108792424202, 0.8703204989433289, 0.9729899168014526, 0.9234122633934021, 0.9186811447143555, 0.6521047353744507, 0.9711501598358154, 0.022584887221455574, 0.7027578353881836, 0.006354049313813448, 0.012708098627626896, 0.005083239637315273, 0.039395105093717575, 0.026687007397413254, 0.06989454478025436, 0.008895669132471085, 0.1270809918642044, 0.9850746989250183, 0.32727575302124023, 0.6545515060424805, 0.9926609396934509, 0.08460517972707748, 0.001709195552393794, 0.16322816908359528, 0.06238563731312752, 0.0470028780400753, 0.2897086441516876, 0.3315839469432831, 0.017946554347872734, 0.9382500648498535, 0.9535757303237915, 0.7578673958778381, 0.8720934987068176, 0.09819374233484268, 0.022660095244646072, 0.13218387961387634, 0.0830870121717453, 0.2417076826095581, 0.3512314558029175, 0.07175696641206741, 0.9463194012641907, 0.995140552520752, 0.9946575164794922, 0.08045270293951035, 0.045972973108291626, 0.05746621638536453, 0.045972973108291626, 0.21837161481380463, 0.4827162027359009, 0.05746621638536453, 0.7579654455184937, 0.07008423656225204, 0.0063712941482663155, 0.10831200331449509, 0.01911388337612152, 0.7135849595069885, 0.031856469810009, 0.050970353186130524, 0.4998607039451599, 0.058349497616291046, 0.021394815295934677, 0.1011391282081604, 0.06807441264390945, 0.02722976543009281, 0.15365368127822876, 0.04862458258867264, 0.021394815295934677, 0.9836127758026123, 0.3176918625831604, 0.19538508355617523, 0.17520447075366974, 0.03913817182183266, 0.08622628450393677, 0.01009030919522047, 0.02170945331454277, 0.1186375766992569, 0.03577473387122154, 0.9755297303199768, 0.9911190271377563, 0.3768445551395416, 0.6123723983764648, 0.9584199786186218, 0.9830307960510254, 0.9313517808914185, 0.87534099817276, 0.1885955035686493, 0.07379823923110962, 0.032799217849969864, 0.22139473259449005, 0.48378849029541016, 0.3206222951412201, 0.11948656290769577, 0.004978606943041086, 0.13143523037433624, 0.3096693456172943, 0.026884477585554123, 0.08065342903137207, 0.0059743281453847885, 0.9899627566337585, 0.9849768877029419, 0.9944413900375366, 0.06026115268468857, 0.48208922147750854, 0.4553065001964569, 0.5348242521286011, 0.019926073029637337, 0.028087282553315163, 0.14764371514320374, 0.06804541498422623, 0.04843731224536896, 0.08510976284742355, 0.0509810671210289, 0.001907815458253026, 0.009221107698976994, 0.005829435773193836, 0.9661245346069336, 0.9751982688903809, 0.03375823795795441, 0.16879118978977203, 0.789942741394043, 0.43633538484573364, 0.122480109333992, 0.00382750341668725, 0.09377383440732956, 0.2583564817905426, 0.02679252438247204, 0.05549880117177963, 0.967638373374939, 0.08779627829790115, 0.6438393592834473, 0.26338884234428406, 0.5714400410652161, 0.18232569098472595, 0.2323983609676361, 0.003057873109355569, 0.0011467024451121688, 0.0057335118763148785, 0.0022934048902243376, 0.0015289365546777844, 0.20475855469703674, 0.009307206608355045, 0.7818053960800171, 0.05750877782702446, 0.05412590876221657, 0.2976924777030945, 0.0845717266201973, 0.361966997385025, 0.14208050072193146, 0.3718005418777466, 0.5266807675361633, 0.1012001484632492, 0.00044000064372085035, 0.6394482254981995, 0.048204559832811356, 0.10723055154085159, 0.023610396310687065, 0.1495325118303299, 0.03148052841424942, 0.9960673451423645, 0.9706932306289673, 0.979486346244812, 0.1110263541340828, 0.5789231657981873, 0.0555131770670414, 0.1030959039926529, 0.1506786346435547, 0.9684714078903198, 0.030264731496572495, 0.9951478242874146, 0.2990325689315796, 0.18061865866184235, 0.0007494550663977861, 0.021734196692705154, 0.12216117233037949, 0.008244005031883717, 0.03822220861911774, 0.20085394382476807, 0.08393896371126175, 0.029978200793266296, 0.015738556161522865, 0.9520798325538635, 0.04555405676364899, 0.9860455989837646, 0.9620247483253479, 0.36705368757247925, 0.2738928496837616, 0.059622932225465775, 0.01863216608762741, 0.040990766137838364, 0.024221817031502724, 0.042853981256484985, 0.16955271363258362, 0.9181110262870789, 0.4766722619533539, 0.10532253980636597, 0.3103587031364441, 0.16265788674354553, 0.07790128141641617, 0.15455615520477295, 0.030537303537130356, 0.04736398160457611, 0.10719216614961624, 0.003739261766895652, 0.9263939261436462, 0.9079082012176514, 0.9009624123573303, 0.10296713560819626, 0.7969943881034851, 0.9860311150550842, 0.4289431571960449, 0.4289431571960449, 0.41063785552978516, 0.14521385729312897, 0.32264402508735657, 0.023561187088489532, 0.011059332638978958, 0.04664153605699539, 0.022118665277957916, 0.014906058087944984, 0.0014425216941162944, 0.0014425216941162944, 0.8584716320037842, 0.9922055602073669, 0.9947532415390015, 0.6871623396873474, 0.8720934987068176, 0.9502274394035339, 0.2702302932739258, 0.7206140756607056, 0.989829957485199, 0.9792703986167908, 0.3164227604866028, 0.03863908350467682, 0.501785933971405, 0.02976253814995289, 0.006787946913391352, 0.06735732406377792, 0.014620193280279636, 0.01931954175233841, 0.004699348006397486, 0.5411399602890015, 0.3246839642524719, 0.09106562286615372, 0.004553281236439943, 0.0042030285112559795, 0.00560403848066926, 0.00035025240504182875, 0.017162367701530457, 0.009106562472879887, 0.0021015142556279898, 0.07000390440225601, 0.9275517463684082, 0.871662974357605, 0.9810549020767212, 0.9916678071022034, 0.2066902369260788, 0.551173985004425, 0.1550176739692688, 0.08612093329429626, 0.4957558810710907, 0.986868679523468, 0.6384432315826416, 0.14660196006298065, 0.14541395008563995, 0.011642619967460632, 0.011880224570631981, 0.016157105565071106, 0.0049896943382918835, 0.021859612315893173, 0.002851253841072321, 0.9907575249671936, 0.931599497795105, 0.040504325181245804, 0.6696194410324097, 0.9922362565994263, 0.6286249160766602, 0.24047189950942993, 0.1280774176120758, 0.0004356374847702682, 0.0004356374847702682, 0.0004356374847702682, 0.0013069125125184655, 0.4766722619533539, 0.4845008850097656, 0.5087259411811829, 0.7554800510406494, 0.9797167778015137, 0.994127094745636, 0.9904314279556274, 0.9409354329109192, 0.9138904809951782, 0.8599854707717896, 0.1452133059501648, 0.006453924812376499, 0.8454641699790955, 0.2053123116493225, 0.025664038956165314, 0.7673547863960266, 0.6468260288238525, 0.09611471742391586, 0.23379254341125488, 0.023379255086183548, 0.9648568034172058, 0.07864958792924881, 0.9175785183906555, 0.06991066783666611, 0.6117183566093445, 0.314598023891449, 0.9248933792114258, 0.9566277861595154, 0.06227849796414375, 0.25949373841285706, 0.028544310480356216, 0.009082281030714512, 0.2997152805328369, 0.01946203038096428, 0.031139248982071877, 0.2646836042404175, 0.02724684216082096, 0.9949817061424255, 0.9075575470924377, 0.9772801995277405, 0.9862931966781616, 0.9651239514350891, 0.9660283327102661, 0.9729955196380615, 0.9799700975418091, 0.855216920375824, 0.8197000026702881, 0.22330282628536224, 0.06280391663312912, 0.13607515394687653, 0.01395642664283514, 0.00697821332141757, 0.1465424746274948, 0.22679193317890167, 0.16049890220165253, 0.020934639498591423, 0.9358152747154236, 0.8907034993171692, 0.18491975963115692, 0.01655997894704342, 0.0358799546957016, 0.11867985129356384, 0.06071992218494415, 0.09659987688064575, 0.4388394355773926, 0.046919938176870346, 0.7029626965522766, 0.24976935982704163, 0.05550430342555046, 0.05550430342555046, 0.049953870475292206, 0.2775215208530426, 0.177613765001297, 0.08048123866319656, 0.008325645700097084, 0.019426506012678146, 0.02775215171277523, 0.9202438592910767, 0.07078798860311508, 0.9426897764205933, 0.9522507786750793, 0.9464396238327026, 0.04206398129463196, 0.9939417243003845, 0.6806521415710449, 0.034788887947797775, 0.009075361303985119, 0.09831641614437103, 0.16940675675868988, 0.006050241179764271, 0.0015125602949410677, 0.9316885471343994, 0.9152256846427917, 0.7128641605377197, 0.47535061836242676, 0.2020445019006729, 0.25173652172088623, 0.021569615229964256, 0.007917960174381733, 0.018020184710621834, 0.006006728392094374, 0.0101022245362401, 0.003822463331744075, 0.0013651654589921236, 0.0021842648275196552, 0.013293260708451271, 0.23927868902683258, 0.11963934451341629, 0.0664663016796112, 0.5649635791778564, 0.8277363777160645, 0.2817757725715637, 0.676261842250824, 0.6062840819358826, 0.49990394711494446, 0.31258371472358704, 0.6367446184158325, 0.03473152220249176, 0.023154348134994507, 0.5605646371841431, 0.1292724758386612, 0.1220746785402298, 0.04894503578543663, 0.018138455227017403, 0.04606591910123825, 0.04894503578543663, 0.016410982236266136, 0.0031670317985117435, 0.003742855740711093, 0.0031670317985117435, 0.7906132340431213, 0.16644488275051117, 0.3736828863620758, 0.07253844290971756, 0.2982136011123657, 0.03663557767868042, 0.06667675077915192, 0.07400386780500412, 0.030041173100471497, 0.044695403426885605, 0.0007327115163207054, 0.0029308460652828217, 0.9449647068977356, 0.11046863347291946, 0.8837490677833557, 0.4139194190502167, 0.42059552669525146, 0.16690298914909363, 0.9729995727539062, 0.984502911567688, 0.9753022193908691, 0.8334137201309204, 0.15626506507396698, 0.9970548748970032, 0.13126124441623688, 0.8531981110572815, 0.29919490218162537, 0.056958332657814026, 0.37710344791412354, 0.0765991359949112, 0.022259578108787537, 0.08969300240278244, 0.05433955788612366, 0.018331417813897133, 0.0006546934600919485, 0.004582854453474283, 0.6552802324295044, 0.6565025448799133, 0.9102987051010132, 0.9254775047302246, 0.031305018812417984, 0.9391505718231201, 0.553956925868988, 0.1277768313884735, 0.19070015847682953, 0.008492719382047653, 0.08106686919927597, 0.032812781631946564, 0.005018425174057484, 0.29886311292648315, 0.1354687660932541, 0.5145436525344849, 0.01663651503622532, 0.01544819213449955, 0.0005941612762399018, 0.00831825751811266, 0.0017824837705120444, 0.007724096067249775, 0.9536140561103821, 0.9932457804679871, 0.05016453191637993, 0.9430932402610779, 0.15948334336280823, 0.8190940618515015, 0.014709629118442535, 0.006193527951836586, 0.6717405915260315, 0.25770053267478943, 0.1610628366470337, 0.06442513316869736, 0.5154010653495789, 0.7678102850914001, 0.2149868756532669, 0.5147291421890259, 0.1304245889186859, 0.014934113249182701, 0.037833087146282196, 0.1622840315103531, 0.01792093552649021, 0.0019912151619791985, 0.10752561688423157, 0.01194729097187519, 0.9420557618141174, 0.9052909016609192, 0.9637391567230225, 0.9621170163154602, 0.32760608196258545, 0.665449857711792, 0.8209266066551208, 0.9834510684013367, 0.5384925603866577, 0.1500883251428604, 0.18811745941638947, 0.011662268079817295, 0.0030423307325690985, 0.026366867125034332, 0.0035493860486894846, 0.05374784395098686, 0.005070551298558712, 0.020282205194234848, 0.9377104043960571, 0.9843311309814453, 0.39553672075271606, 0.009617914445698261, 0.11060601472854614, 0.15268439054489136, 0.05890972539782524, 0.1442687064409256, 0.07814554870128632, 0.04808957129716873, 0.9218811988830566, 0.04752742126584053, 0.9505484104156494, 0.9791254997253418, 0.9778350591659546, 0.9826084971427917, 0.855216920375824, 0.6108206510543823, 0.007587833795696497, 0.013278709724545479, 0.09674488008022308, 0.08726008981466293, 0.049320921301841736, 0.12519925832748413, 0.007587833795696497, 0.2804245352745056, 0.02938946895301342, 0.6135051846504211, 0.07592279464006424, 0.0012245612451806664, 0.5235698223114014, 0.26180770993232727, 0.08511974662542343, 0.4475235342979431, 0.05287741869688034, 0.15089410543441772, 0.0012896931730210781, 0.9889898300170898, 0.2471359819173813, 0.04435773938894272, 0.3421882688999176, 0.20277823507785797, 0.10138911753892899, 0.012673639692366123, 0.019010460004210472, 0.03168410062789917, 0.9926791787147522, 0.22326013445854187, 0.2346123456954956, 0.035570256412029266, 0.05282561853528023, 0.20206934213638306, 0.012563112191855907, 0.08007092028856277, 0.12880975008010864, 0.0022704419679939747, 0.00015136279398575425, 0.01846626214683056, 0.00923313107341528, 0.9592495560646057, 0.18533144891262054, 0.7081491947174072, 0.06406518816947937, 0.003432063851505518, 0.016016297042369843, 0.004576085135340691, 0.004576085135340691, 0.013728255406022072, 0.957629382610321, 0.07247215509414673, 0.8334298133850098, 0.08153117448091507, 0.9382950067520142, 0.033207252621650696, 0.604371964931488, 0.35863831639289856, 0.9901344776153564, 0.38571619987487793, 0.131068617105484, 0.19285809993743896, 0.11421693861484528, 0.08613080531358719, 0.04868263006210327, 0.03557576611638069, 0.0037448175717145205, 0.25625136494636536, 0.658932089805603, 0.07321467250585556, 0.959156334400177, 0.9559363722801208, 0.7827938199043274, 0.17395418882369995, 0.9694151282310486, 0.9366127252578735, 0.9926505088806152, 0.5618833303451538, 0.07662045210599899, 0.07662045210599899, 0.25540149211883545, 0.5910690426826477, 0.9916656017303467, 0.9970683455467224, 0.931540846824646, 0.9538103342056274, 0.02510027214884758, 0.05734100937843323, 0.17680144309997559, 0.028670504689216614, 0.7024273872375488, 0.033448923379182816, 0.9688673615455627, 0.8784367442131042, 0.7696872353553772, 0.9252699017524719, 0.9887980818748474, 0.8685805201530457, 0.8550577163696289, 0.9848753809928894, 0.9545966982841492, 0.9694979190826416, 0.9615294337272644, 0.9130057096481323, 0.060785047709941864, 0.02026168256998062, 0.891514003276825, 0.04052336513996124, 0.991661012172699, 0.7813646197319031, 0.6489108800888062, 0.2577265202999115, 0.03338967263698578, 0.1679917871952057, 0.044867370277643204, 0.3036373257637024, 0.10016901791095734, 0.07408333569765091, 0.014607981778681278, 0.0031302818097174168, 0.05608004704117775, 0.01121600903570652, 0.8636327385902405, 0.05608004704117775, 0.4520576298236847, 0.2688785791397095, 0.20467756688594818, 0.0343092605471611, 0.011485503055155277, 0.00721525214612484, 0.010307502932846546, 0.00927675236016512, 0.0005890001775696874, 0.00014725004439242184, 0.0005890001775696874, 0.0005890001775696874, 0.821175754070282, 0.02176610380411148, 0.15038399398326874, 0.003957473672926426, 0.9378064274787903, 0.9992972016334534, 0.10153526812791824, 0.23076197504997253, 0.1292266994714737, 0.00615365244448185, 0.10461209714412689, 0.003076826222240925, 0.323066771030426, 0.10461209714412689, 0.004661465995013714, 0.9556005597114563, 0.03729172796010971, 0.9345504641532898, 0.061557214707136154, 0.005596110597252846, 0.9854945540428162, 0.9776573181152344, 0.16094857454299927, 0.8047428727149963, 0.00959066767245531, 0.9878387451171875, 0.7542740702629089, 0.4790392220020294, 0.5210602283477783, 0.1904037445783615, 0.7933489084243774, 0.9955089688301086, 0.9918619394302368, 0.9961735010147095, 0.1430358588695526, 0.08026472479104996, 0.05968402698636055, 0.0699743777513504, 0.18728436529636383, 0.010290349833667278, 0.14097778499126434, 0.26960715651512146, 0.010290349833667278, 0.027783943340182304, 0.9151476621627808, 0.7620792984962463, 0.2655341625213623, 0.17974619567394257, 0.04697912186384201, 0.01838313415646553, 0.12663936614990234, 0.07761767506599426, 0.257363885641098, 0.02246827445924282, 0.004085140768438578, 0.7400177121162415, 0.08734681457281113, 0.8734681606292725, 0.29177674651145935, 0.283360093832016, 0.002805545460432768, 0.17113827168941498, 0.1374717354774475, 0.11502736806869507, 0.02802426367998123, 0.3418959975242615, 0.07286308705806732, 0.05044367164373398, 0.039233967661857605, 0.4035493731498718, 0.05604852735996246, 0.6058765053749084, 0.45547735691070557, 0.00168072828091681, 0.028572380542755127, 0.09580150991678238, 0.06218694895505905, 0.05882548913359642, 0.038656752556562424, 0.19160301983356476, 0.06722912937402725, 0.320766806602478, 0.03421512618660927, 0.1924600899219513, 0.03421512618660927, 0.05132269114255905, 0.2694441080093384, 0.08553781360387802, 0.008553781546652317, 0.6645380854606628, 0.08428884297609329, 0.251034140586853, 0.7730329036712646, 0.1401268094778061, 0.06422478705644608, 0.023354467004537582, 0.4983694553375244, 0.016557125374674797, 0.0008278562454506755, 0.054638512432575226, 0.23221367597579956, 0.023593902587890625, 0.055052440613508224, 0.10886309295892715, 0.009106418117880821, 0.7029626965522766, 0.9712765216827393, 0.9648558497428894, 0.9742063879966736, 0.373196005821228, 0.21184362471103668, 0.2711159288883209, 0.02689206600189209, 0.03128260746598244, 0.053235314786434174, 0.02305034175515175, 0.007683447562158108, 0.0010976353660225868, 0.3280598521232605, 0.129985973238945, 0.5075643062591553, 0.024759232997894287, 0.994516134262085, 0.8868066072463989, 0.09334806352853775, 0.9548790454864502, 0.9871213436126709, 0.5388341546058655, 0.9169763922691345, 0.46121853590011597, 0.24830523133277893, 0.18033026158809662, 0.04213323816657066, 0.008988424204289913, 0.010111977346241474, 0.011797307059168816, 0.008988424204289913, 0.028088826686143875, 0.0005617765127681196, 0.4515087306499481, 0.058457691222429276, 0.029228845611214638, 0.08076391369104385, 0.09691669791936874, 0.06845702975988388, 0.09307079762220383, 0.1084543988108635, 0.012306882068514824, 0.0007691801292821765, 0.855216920375824, 0.8044225573539734, 0.15077829360961914, 0.008150178007781506, 0.002445053542032838, 0.008965196087956429, 0.011410249397158623, 0.013040284626185894, 0.0016300355782732368, 0.2641940116882324, 0.14375263452529907, 0.0660485029220581, 0.4351430833339691, 0.031081650406122208, 0.042737267911434174, 0.007770412601530552, 0.003885206300765276, 0.6062840819358826, 0.7734656929969788, 0.855216920375824, 0.06964205205440521, 0.905346691608429, 0.36288389563560486, 0.0038880417123436928, 0.07776083052158356, 0.20347417891025543, 0.055728595703840256, 0.040176428854465485, 0.16718578338623047, 0.062208667397499084, 0.005184055306017399, 0.023328250274062157, 0.881982684135437, 0.09270088374614716, 0.023837368935346603, 0.8500655293464661, 0.009315786883234978, 0.1164473295211792, 0.0023289467208087444, 0.020960519090294838, 0.4910435974597931, 0.0063442327082157135, 0.0063442327082157135, 0.07613079249858856, 0.05202270671725273, 0.07613079249858856, 0.15353043377399445, 0.12434696406126022, 0.0139573123306036, 0.5992664694786072, 0.38135138154029846, 0.17635664343833923, 0.7877263426780701, 0.03527132794260979, 0.9734221696853638, 0.5007830858230591, 0.20620480179786682, 0.066414013504982, 0.04338334873318672, 0.066414013504982, 0.0241018608212471, 0.02892223186790943, 0.040169768035411835, 0.005891565699130297, 0.017139101400971413, 0.941801130771637, 0.9553284645080566, 0.9932257533073425, 0.07626225799322128, 0.9151471257209778, 0.3995753824710846, 0.06031326204538345, 0.08293073624372482, 0.45988863706588745, 0.6777797937393188, 0.9965054392814636, 0.03684331104159355, 0.9497387409210205, 0.012281103990972042, 0.7863143682479858, 0.8720934987068176, 0.10399429500102997, 0.33179131150245667, 0.14361116290092468, 0.34169554710388184, 0.07428164035081863, 0.28430479764938354, 0.2205355018377304, 0.492883563041687, 0.0013285271124914289, 0.9843617081642151, 0.48176705837249756, 0.974326491355896, 0.9903003573417664, 0.06737108528614044, 0.019248880445957184, 0.9143218398094177, 0.5279932022094727, 0.23325002193450928, 0.12450098246335983, 0.01938701421022415, 0.021204547956585884, 0.029383443295955658, 0.019689936190843582, 0.020295780152082443, 0.003937987145036459, 0.9908825755119324, 0.052306756377220154, 0.9153682589530945, 0.9694018363952637, 0.37207257747650146, 0.38427168130874634, 0.0243982020765543, 0.2134842723608017, 0.0202696043998003, 0.00579131580889225, 0.9729410409927368, 0.9973737001419067, 0.9789266586303711, 0.6505666971206665, 0.11586283892393112, 0.0012391747441142797, 0.060099974274635315, 0.1078082025051117, 0.04584946483373642, 0.018587620928883553, 0.9812429547309875, 0.30322176218032837, 0.6064435243606567, 0.4197204113006592, 0.2814992368221283, 0.010113744996488094, 0.07248183339834213, 0.20901739597320557, 0.006742496509104967, 0.9651011228561401, 0.37392404675483704, 0.5369166135787964, 0.009587796404957771, 0.07670237123966217, 0.06146634370088577, 0.9219951629638672, 0.00476783886551857, 0.4688374996185303, 0.007946398109197617, 0.21296347677707672, 0.0015892796218395233, 0.2447490692138672, 0.05880334600806236, 0.18650506436824799, 0.7460202574729919, 0.9759579300880432, 0.9556552767753601, 0.08565230667591095, 0.009177032858133316, 0.13459648191928864, 0.024472087621688843, 0.42826154828071594, 0.31507813930511475, 0.42770877480506897, 0.007920533418655396, 0.11088746041059494, 0.007920533418655396, 0.45147037506103516, 0.9601511359214783, 0.30545252561569214, 0.15997514128684998, 0.09098586440086365, 0.09748484939336777, 0.11948142945766449, 0.0044993008486926556, 0.048492465168237686, 0.12148112058639526, 0.0014997669495642185, 0.012498057447373867, 0.018497126176953316, 0.019996892660856247, 0.9685162901878357, 0.8750278949737549, 0.9470897912979126, 0.5417994856834412, 0.7724828720092773, 0.939838707447052, 0.9863304495811462, 0.6946178078651428, 0.9386708736419678, 0.9386417865753174, 0.9861295223236084, 0.9320483803749084, 0.050839003175497055, 0.9938133358955383, 0.9869035482406616, 0.9597669839859009, 0.9765359163284302, 0.9918120503425598, 0.6687568426132202, 0.20062704384326935, 0.06687568128108978, 0.9922630190849304, 0.8901009559631348, 0.9785192012786865, 0.9768209457397461, 0.5726831555366516, 0.2190040946006775, 0.13467493653297424, 0.007866526953876019, 0.025802206248044968, 0.01384508702903986, 0.0062932213768363, 0.011013137176632881, 0.004719915799796581, 0.002202627481892705, 0.001573305344209075, 0.5597236156463623, 0.29747679829597473, 0.023731913417577744, 0.03844938054680824, 0.018764769658446312, 0.011130084283649921, 0.01867278479039669, 0.022996041923761368, 0.0011957940878346562, 0.007726669777184725, 0.6740486025810242, 0.9538658261299133, 0.9660283327102661, 0.9754863381385803, 0.008659730665385723, 0.06235005706548691, 0.8832924962043762, 0.008659730665385723, 0.03810281306505203, 0.21644684672355652, 0.7792086601257324, 0.4853442907333374, 0.3340681493282318, 0.17648883163928986, 0.9948626756668091, 0.8515432476997375, 0.8552170991897583, 0.9510225653648376, 0.2608274221420288, 0.7172753810882568, 0.8794956207275391, 0.04319404065608978, 0.7710936069488525, 0.03935457020998001, 0.03007584996521473, 0.01759757287800312, 0.04927320033311844, 0.041594259440898895, 0.0073589845560491085, 0.9394155144691467, 0.0581938810646534, 0.9962303638458252, 0.8806499242782593, 0.9974550604820251, 0.03830745443701744, 0.9385326504707336, 0.25499096512794495, 0.7285456657409668, 0.5664294362068176, 0.03518195077776909, 0.146591454744339, 0.0562911219894886, 0.0035181951243430376, 0.17121882736682892, 0.021109171211719513, 0.9900813698768616, 0.9945712089538574, 0.20406252145767212, 0.08381139487028122, 0.10203126072883606, 0.24414624273777008, 0.003643973730504513, 0.003643973730504513, 0.2623661160469055, 0.09838729351758957, 0.8720934987068176, 0.06031358242034912, 0.8564528822898865, 0.03417769819498062, 0.04825086519122124, 0.9582111239433289, 0.4716018736362457, 0.3017321228981018, 0.014737558551132679, 0.017840202897787094, 0.0488666407763958, 0.027148135006427765, 0.06437986344099045, 0.046539660543203354, 0.001551321940496564, 0.004653966054320335, 0.9219851493835449, 0.9670867323875427, 0.1420786827802658, 0.8524720668792725, 0.957084059715271, 0.6553630828857422, 0.4648512303829193, 0.11463655531406403, 0.2325211465358734, 0.0471920482814312, 0.03152505308389664, 0.04872053489089012, 0.02025245875120163, 0.030760807916522026, 0.0026748529635369778, 0.0061139496974647045, 0.0005731827695854008, 0.9557567238807678, 0.1813921481370926, 0.04837124049663544, 0.48526275157928467, 0.03751871734857559, 0.1956554651260376, 0.026666196063160896, 0.021394971758127213, 0.0037208646535873413, 0.9626055359840393, 0.9879982471466064, 0.6553628444671631, 0.4050273299217224, 0.01928701438009739, 0.3471662700176239, 0.05786104500293732, 0.1542961150407791, 0.9386417865753174, 0.9989796280860901, 0.004320822190493345, 0.15338918566703796, 0.13826631009578705, 0.03456657752394676, 0.11018096655607224, 0.056170687079429626, 0.18795576691627502, 0.24196603894233704, 0.07129356265068054, 0.8722645044326782, 0.46413734555244446, 0.5268586277961731, 0.9047487378120422, 0.012008887715637684, 0.9096732139587402, 0.0750555470585823, 0.478196382522583, 0.2652725279331207, 0.04470224678516388, 0.026468435302376747, 0.0805816799402237, 0.0023527496960014105, 0.025880247354507446, 0.03882037103176117, 0.01117556169629097, 0.0017645623302087188, 0.024115685373544693, 0.7056030035018921, 0.34639355540275574, 0.5195903182029724, 0.30177798867225647, 0.6986160278320312, 0.6285648345947266, 0.030396917834877968, 0.3397941291332245, 0.17225381731987, 0.8271969556808472, 0.5017992258071899, 0.4983144700527191, 0.07209768146276474, 0.9192454218864441, 0.9626372456550598, 0.02750392071902752, 0.48459509015083313, 0.023495519533753395, 0.49046897888183594, 0.492138147354126, 0.06907202303409576, 0.43601712584495544, 0.9833354353904724, 0.9834516644477844, 0.9156178832054138, 0.46059727668762207, 0.23248036205768585, 0.15058964490890503, 0.0259777270257473, 0.04678020253777504, 0.016337554901838303, 0.029529370367527008, 0.03287805989384651, 0.0016236079391092062, 0.003145740367472172, 0.00010147549619432539, 0.5860304236412048, 0.21907012164592743, 0.16947606205940247, 0.012844501994550228, 0.0005351876025088131, 0.0062438552267849445, 0.0016055627493187785, 0.0008919793181121349, 0.0028543337248265743, 0.9924119114875793, 0.09218320995569229, 0.7681934237480164, 0.12291094660758972, 0.8939420580863953, 0.38492563366889954, 0.08310894668102264, 0.10497971624135971, 0.19027574360370636, 0.07436063140630722, 0.034993238747119904, 0.04811570420861244, 0.02405785210430622, 0.006561232265084982, 0.006561232265084982, 0.0328061617910862, 0.010935387574136257, 0.8101485371589661, 0.8141045570373535, 0.839855968952179, 0.9983302354812622, 0.8231965899467468, 0.09146628528833389, 0.4166193902492523, 0.010161448270082474, 0.14564742147922516, 0.18855132162570953, 0.08242063969373703, 0.006774298846721649, 0.027097195386886597, 0.03838769346475601, 0.06096868962049484, 0.023710045963525772, 0.0011290498077869415, 0.43824756145477295, 0.07555992156267166, 0.4344695508480072, 0.04533595219254494, 0.9802830219268799, 0.5480678081512451, 0.20740605890750885, 0.10459856688976288, 0.015761427581310272, 0.0429857112467289, 0.011462857015430927, 0.000716428563464433, 0.05874713882803917, 0.0003582142817322165, 0.009671784937381744, 0.9824082851409912, 0.46762585639953613, 0.02882625162601471, 0.3676948547363281, 0.0320291705429554, 0.010249334387481213, 0.06918300688266754, 0.019858084619045258, 0.004484083503484726, 0.6271772384643555, 0.9261009693145752, 0.7483161687850952, 0.4288892447948456, 0.42541489005088806, 0.03204122930765152, 0.007720778696238995, 0.06369642168283463, 0.0007720778230577707, 0.001158116734586656, 0.02779480256140232, 0.008878895081579685, 0.0038603893481194973, 0.8111806511878967, 0.31474658846855164, 0.026868611574172974, 0.2034337818622589, 0.11898957192897797, 0.2993931174278259, 0.03454535827040672, 0.003838373115286231, 0.38355720043182373, 0.3818410634994507, 0.15059125423431396, 0.030890513211488724, 0.005577453412115574, 0.013729116879403591, 0.013300081714987755, 0.009009732864797115, 0.001716139609925449, 0.0008580698049627244, 0.009867802262306213, 0.8933190703392029, 0.08121082931756973, 0.9921708703041077, 0.9036288857460022, 0.9639527797698975, 0.9876909255981445, 0.38386982679367065, 0.25324565172195435, 0.062472425401210785, 0.04388558864593506, 0.06918434053659439, 0.0038722578901797533, 0.0165216326713562, 0.13114047050476074, 0.002065204083919525, 0.017037933692336082, 0.0049048601649701595, 0.012391225434839725, 0.9682371020317078, 0.6883832216262817, 0.33104103803634644, 0.09977483749389648, 0.38720566034317017, 0.012554449960589409, 0.018501294776797295, 0.08986343443393707, 0.040967151522636414, 0.01982281543314457, 0.3409711420536041, 0.007359089329838753, 0.036795444786548615, 0.009812118485569954, 0.036795444786548615, 0.3409711420536041, 0.2256787270307541, 0.9561433792114258, 0.19233323633670807, 0.12822216749191284, 0.0091587258502841, 0.5586822628974915, 0.1099047064781189, 0.04539736732840538, 0.8083252906799316, 0.04287528991699219, 0.059268783777952194, 0.021437644958496094, 0.021437644958496094, 0.9984056353569031, 0.9974979162216187, 0.2894006073474884, 0.2347237765789032, 0.013807280920445919, 0.01601644605398178, 0.1977202594280243, 0.020434776321053505, 0.07014098763465881, 0.13365447521209717, 0.002761456184089184, 0.02209164947271347, 0.9740577340126038, 0.9904051423072815, 0.9550613164901733, 0.29680299758911133, 0.6307063102722168, 0.07420074939727783, 0.5893557071685791, 0.9740577340126038, 0.9385770559310913, 0.8335009813308716, 0.815273106098175, 0.569340169429779, 0.3243856728076935, 0.02514488622546196, 0.04412844032049179, 0.008825688622891903, 0.0028308811597526073, 0.02414575219154358, 0.000499567249789834, 0.00016652242629788816, 0.00016652242629788816, 0.000499567249789834, 0.5780618786811829, 0.9637348651885986, 0.020750273019075394, 0.013833514414727688, 0.5126369595527649, 0.2349487692117691, 0.21228034794330597, 0.012750988826155663, 0.0028335528913885355, 0.013459376990795135, 0.006139364559203386, 0.0033058119006454945, 0.0018890353385359049, 0.6062840819358826, 0.5392659306526184, 0.048885297030210495, 0.21845616400241852, 0.06339811533689499, 0.001527665532194078, 0.08784076571464539, 0.016804320737719536, 0.01833198592066765, 0.004582996480166912, 0.3448772728443146, 0.011270498856902122, 0.12622958421707153, 0.11946728825569153, 0.22766408324241638, 0.06086069345474243, 0.11045089364051819, 0.9622641801834106, 0.749815821647644, 0.4719507694244385, 0.5082546472549438, 0.6883832216262817, 0.8126306533813477, 0.16252613067626953, 0.5712730288505554, 0.38762107491493225, 0.010756186209619045, 0.0015935091068968177, 0.025496145710349083, 0.0027886410243809223, 0.0003983772767242044, 0.024195794016122818, 0.37503480911254883, 0.5927969217300415, 0.6069455146789551, 0.23605893552303314, 0.06807692348957062, 0.061003994196653366, 0.0008841158705763519, 0.00044205793528817594, 0.02519730105996132, 0.0017682317411527038, 0.7207591533660889, 0.14415183663368225, 0.05877596512436867, 0.9404154419898987, 0.9795078635215759, 0.8195199966430664, 0.1738375723361969, 0.5198192000389099, 0.9160739183425903, 0.6152068376541138, 0.24125759303569794, 0.12263927608728409, 0.022115278989076614, 0.08011259138584137, 0.11826144903898239, 0.15068797767162323, 0.16976240277290344, 0.44824904203414917, 0.011444656178355217, 0.013352098874747753, 0.007629770785570145, 0.9530179500579834, 0.3334325850009918, 0.5058977007865906, 0.011497674509882927, 0.022995349019765854, 0.11497674882411957, 0.665675163269043, 0.7033082842826843, 0.015698930248618126, 0.9497853517532349, 0.03139786049723625, 0.510335385799408, 0.30736109614372253, 0.002899632789194584, 0.17977723479270935, 0.8328544497489929, 0.8317997455596924, 0.6540154814720154, 0.9452573657035828, 0.9905354976654053, 0.35539790987968445, 0.003063775133341551, 0.6280738711357117, 0.009191324934363365, 0.9819353818893433, 0.14495979249477386, 0.00805332139134407, 0.8455988168716431, 0.9380704164505005, 0.8720934987068176, 0.990454375743866, 0.05096207559108734, 0.2937813699245453, 0.12140964716672897, 0.013489961624145508, 0.20984384417533875, 0.005995538085699081, 0.037472113966941833, 0.22932933270931244, 0.03597322851419449, 0.934000551700592, 0.9913111329078674, 0.5751893520355225, 0.28142184019088745, 0.07169415056705475, 0.021418998017907143, 0.019336596131324768, 0.010114527307450771, 0.015915505588054657, 0.004313548095524311, 0.0005949721671640873, 0.7225221395492554, 0.986167311668396, 0.012483131140470505, 0.9474607110023499, 0.23474736511707306, 0.008614582009613514, 0.21105727553367615, 0.10552863776683807, 0.2692056894302368, 0.040919266641139984, 0.040919266641139984, 0.04953384771943092, 0.008614582009613514, 0.0021536455024033785, 0.030151039361953735, 0.9462985992431641, 0.976099967956543, 0.8874661922454834, 0.2730006277561188, 0.24197782576084137, 0.40453729033470154, 0.08065927773714066, 0.44314584136009216, 0.2100030928850174, 0.16416043043136597, 0.013971100561320782, 0.0833900049328804, 0.016154084354639053, 0.025322619825601578, 0.027069006115198135, 0.00873193796724081, 0.0030561781022697687, 0.004365968983620405, 0.9617993235588074, 0.9697490930557251, 0.9354093074798584, 0.8675712943077087, 0.45544686913490295, 0.45544686913490295, 0.9561361074447632, 0.9791675209999084, 0.9678588509559631, 0.2934970557689667, 0.3444928526878357, 0.3347277045249939, 0.027125421911478043, 0.8389626145362854, 0.016547586768865585, 0.14065448939800262, 0.003309517167508602, 0.02657061442732811, 0.8236890435218811, 0.13285306096076965, 0.08230032026767731, 0.9053035378456116, 0.9825462102890015, 0.9365862011909485, 0.04091379791498184, 0.0741562619805336, 0.048585135489702225, 0.6648492217063904, 0.17388364672660828, 0.615588366985321, 0.16181179881095886, 0.19742797315120697, 0.0065955896861851215, 0.0008794119348749518, 0.0035176477394998074, 0.0008794119348749518, 0.004397059790790081, 0.008354413323104382, 0.7825218439102173, 0.04362683370709419, 0.030373111367225647, 0.0005522384308278561, 0.011044767685234547, 0.03699997439980507, 0.07620889693498611, 0.018223866820335388, 0.9868595600128174, 0.6769952774047852, 0.10803116112947464, 0.21246127784252167, 0.9898987412452698, 0.0054314169101417065, 0.9939493536949158, 0.997850239276886, 0.4732486605644226, 0.017209041863679886, 0.240926593542099, 0.2667401432991028, 0.6916503310203552, 0.0741053968667984, 0.1852634847164154, 0.0494035966694355, 0.7722606062889099, 0.16548441350460052, 0.998268187046051, 0.9640371799468994, 0.942882239818573, 0.9550428986549377, 0.6553630828857422, 0.964057981967926, 0.9231317639350891, 0.9313517808914185, 0.9265248775482178, 0.08804448693990707, 0.014922793954610825, 0.26711800694465637, 0.0014922794653102756, 0.4342533051967621, 0.19399632513523102, 0.9712174534797668, 0.5076262354850769, 0.25076889991760254, 0.21766282618045807, 0.0097035001963377, 0.0017123824218288064, 0.003995558712631464, 0.008371647447347641, 0.0001902647054521367, 0.035284463316202164, 0.39989060163497925, 0.5645514130592346, 0.9315205216407776, 0.16424523293972015, 0.3434218466281891, 0.48527002334594727, 0.9617764949798584, 0.975399374961853, 0.48063135147094727, 0.7863155603408813, 0.35651007294654846, 0.04986155033111572, 0.04986155033111572, 0.3540169894695282, 0.03739616274833679, 0.01246538758277893, 0.054847702383995056, 0.07479232549667358, 0.007479232270270586, 0.9779190421104431, 0.8992976546287537, 0.30137526988983154, 0.37988656759262085, 0.014746826142072678, 0.0045694392174482346, 0.150376096367836, 0.03240147605538368, 0.039463337510824203, 0.06480295211076736, 0.012254404835402966, 0.9487590193748474, 0.8901010751724243, 0.4996815621852875, 0.9830809831619263, 0.13984115421772003, 0.13984115421772003, 0.10488086938858032, 0.6118050813674927, 0.017480144277215004, 0.9716421961784363, 0.008675376884639263, 0.017350753769278526, 0.9877786636352539, 0.37690234184265137, 0.2578805387020111, 0.31739142537117004, 0.039673928171396255, 0.6185579895973206, 0.05687889829277992, 0.08531834185123444, 0.12797752022743225, 0.003554931143298745, 0.10664793103933334, 0.4234861433506012, 0.5646482110023499, 0.7120203375816345, 0.23734012246131897, 0.9765080809593201, 0.9447123408317566, 0.9748077392578125, 0.5269104242324829, 0.04488156735897064, 0.9425129294395447, 0.9988756775856018, 0.9919268488883972, 0.8970193266868591, 0.23520468175411224, 0.3556753695011139, 0.3671487867832184, 0.01721009984612465, 0.02294679917395115, 0.9873603582382202, 0.320309042930603, 0.05057511478662491, 0.6069013476371765, 0.9984796047210693, 0.9917191863059998, 0.9892922639846802, 0.9990022778511047, 0.9166193604469299, 0.036664772778749466, 0.9737822413444519, 0.009016502648591995, 0.01803300529718399, 0.9982614517211914, 0.9932982921600342, 0.9937622547149658, 0.09710747748613358, 0.8982442021369934, 0.9941209554672241, 0.6421777606010437, 0.03877299651503563, 0.012116561643779278, 0.30049073696136475, 0.004846624564379454, 0.9961957335472107, 0.9989222288131714, 0.7188444137573242, 0.8966143131256104, 0.9898397922515869, 0.3544010818004608, 0.15247488021850586, 0.03296754136681557, 0.09066074341535568, 0.016483770683407784, 0.34203824400901794, 0.008241885341703892, 0.9682983756065369, 0.024828163906931877, 0.9941847324371338, 0.9691176414489746, 0.9814090728759766, 0.010436470620334148, 0.9862464666366577, 0.2137223184108734, 0.7147126197814941, 0.041487276554107666, 0.0056573557667434216, 0.02388661354780197, 0.5431616902351379, 0.9427974224090576, 0.6888304948806763, 0.6888304948806763, 0.9769498109817505, 0.9294065833091736, 0.9583343863487244, 0.8552170991897583, 0.956605851650238, 0.9660283327102661, 0.09706787765026093, 0.019413575530052185, 0.03882715106010437, 0.8347837924957275, 0.05379590392112732, 0.9145303964614868, 0.4062793552875519, 0.19449543952941895, 0.3976351320743561, 0.9912295937538147, 0.5336455702781677, 0.24478089809417725, 0.15284304320812225, 0.017691509798169136, 0.0034802970476448536, 0.01624138653278351, 0.0043503716588020325, 0.023492006585001945, 0.0029002476949244738, 0.8720934987068176, 0.6065912246704102, 0.7340199947357178, 0.7173681259155273, 0.13571830093860626, 0.13571830093860626, 0.41791224479675293, 0.5746293663978577, 0.998308002948761, 0.9968699216842651, 0.05866016075015068, 0.11132098734378815, 0.8299079537391663, 0.9755345582962036, 0.09092165529727936, 0.12880568206310272, 0.7788954973220825, 0.833500862121582, 0.9718315601348877, 0.09543309360742569, 0.8068434000015259, 0.0867573544383049, 0.9799001216888428, 0.9427972435951233, 0.7550048232078552, 0.9798406958580017, 0.08886917680501938, 0.05501425266265869, 0.4358821511268616, 0.04231865704059601, 0.15657903254032135, 0.15657903254032135, 0.03385492414236069, 0.029623059555888176, 0.9294884204864502, 0.23010769486427307, 0.21778050065040588, 0.012327197939157486, 0.09039945155382156, 0.2773619592189789, 0.04725426062941551, 0.024654395878314972, 0.07601772248744965, 0.004109065979719162, 0.01849079690873623, 0.735131561756134, 0.20579826831817627, 0.7202939391136169, 0.05144956707954407, 0.43413907289505005, 0.009290914051234722, 0.19764308631420135, 0.07855045795440674, 0.06672565639019012, 0.08446285873651505, 0.10051079839468002, 0.022804971784353256, 0.005067771300673485, 0.9587406516075134, 0.9946541786193848, 0.8692674040794373, 0.7745848298072815, 0.7319670915603638, 0.9924723505973816, 0.2538665533065796, 0.22053053975105286, 0.16155144572257996, 0.02820739522576332, 0.21540193259716034, 0.11539389193058014, 0.002564308699220419, 0.272857129573822, 0.06107557937502861, 0.35772839188575745, 0.06980066001415253, 0.05790282040834427, 0.12294434756040573, 0.02855481579899788, 0.012691029347479343, 0.009518272243440151, 0.00713870394974947, 0.2107502520084381, 0.26007476449012756, 0.09192298352718353, 0.1972981095314026, 0.011210119351744652, 0.18384596705436707, 0.04484047740697861, 0.8531315326690674, 0.9944660067558289, 0.007353251334279776, 0.9853357076644897, 0.9555776715278625, 0.00910073984414339, 0.031852588057518005, 0.46419525146484375, 0.40461465716362, 0.010078313760459423, 0.06610187888145447, 0.012746102176606655, 0.00889262929558754, 0.02875283546745777, 0.0032606308814138174, 0.0008892629412002861, 0.8720934987068176, 0.9615976810455322, 0.422980397939682, 0.0048340619541704655, 0.025378825142979622, 0.058008741587400436, 0.0640513226389885, 0.16435810923576355, 0.11118341982364655, 0.07855350524187088, 0.013293670490384102, 0.027795854955911636, 0.022961793467402458, 0.00604257732629776, 0.9008509516716003, 0.28975412249565125, 0.12638211250305176, 0.4192187190055847, 0.14487706124782562, 0.021577434614300728, 0.9420456290245056, 0.2129143923521042, 0.26462218165397644, 0.042582880705595016, 0.4075789749622345, 0.06995758414268494, 0.9644865989685059, 0.5864368677139282, 0.05601348727941513, 0.18898464739322662, 0.07988010346889496, 0.025814911350607872, 0.005357812158763409, 0.015586362220346928, 0.027276134118437767, 0.014125140383839607, 0.9486812353134155, 0.9440667033195496, 0.028608081862330437, 0.02384006790816784, 0.9924116134643555, 0.9802113771438599, 0.8208184838294983, 0.9962630271911621, 0.5480797290802002, 0.1302611082792282, 0.2552555799484253, 0.02247091755270958, 0.0017555404920130968, 0.02808864787220955, 0.005617729388177395, 0.00421329727396369, 0.0007022161735221744, 0.0035110809840261936, 0.0003511080867610872, 0.990299642086029, 0.9789595603942871, 0.8901010751724243, 0.9387980699539185, 0.8767266869544983, 0.040464308112859726, 0.06744050979614258, 0.31399938464164734, 0.6279987692832947, 0.9896331429481506, 0.07192070782184601, 0.020548773929476738, 0.6335871815681458, 0.18836376070976257, 0.08561988919973373, 0.96465665102005, 0.7827838063240051, 0.06523198634386063, 0.10437117516994476, 0.02609279379248619, 0.5235697031021118, 0.7904496788978577, 0.9272295236587524, 0.8041146993637085, 0.8285840153694153, 0.7609277963638306, 0.3004879355430603, 0.11840788275003433, 0.0357457734644413, 0.03016049787402153, 0.19995293021202087, 0.046916328370571136, 0.2289963662624359, 0.03909694030880928, 0.5697165131568909, 0.8819769620895386, 0.49968162178993225, 0.9841195940971375, 0.0111831771209836, 0.7813646197319031, 0.9488641023635864, 0.7223085165023804, 0.03925589844584465, 0.21983303129673004, 0.01570235937833786, 0.9569587707519531, 0.08791080862283707, 0.10988850891590118, 0.7911972403526306, 0.9894506335258484, 0.9634626507759094, 0.9766747355461121, 0.4203893542289734, 0.042214833199977875, 0.4300636053085327, 0.028143221512436867, 0.07299648225307465, 0.007035805378109217, 0.9874435663223267, 0.6495569348335266, 0.003305633319541812, 0.08925209939479828, 0.08759928494691849, 0.07107111811637878, 0.0859464704990387, 0.014875350520014763, 0.9313517808914185, 0.9262126088142395, 0.995140552520752, 0.9726124405860901, 0.7138180732727051, 0.9654573798179626, 0.9639986753463745, 0.029510164633393288, 0.0049183606170117855, 0.855216920375824, 0.17689605057239532, 0.7768044471740723, 0.0006409277557395399, 0.02307339943945408, 0.004486494231969118, 0.008332060649991035, 0.009613916277885437, 0.9981377720832825, 0.855216920375824, 0.5579575300216675, 0.23200386762619019, 0.16336829960346222, 0.01905093528330326, 0.001304858596995473, 0.02531425654888153, 0.0007829151581972837, 0.9877011179924011, 0.9927531480789185, 0.21820421516895294, 0.13885723054409027, 0.07934698462486267, 0.5554289221763611, 0.2956767976284027, 0.028405630961060524, 0.595227062702179, 0.002582330023869872, 0.07876107096672058, 0.9423446655273438, 0.050849657505750656, 0.8813940286636353, 0.050849657505750656, 0.744377076625824, 0.25376489758491516, 0.14200712740421295, 0.8520427346229553, 0.9740577340126038, 0.8818485140800476, 0.7029626965522766, 0.720749020576477, 0.18018725514411926, 0.16812069714069366, 0.17932875454425812, 0.03362414240837097, 0.6164425611495972, 0.990856945514679, 0.25925666093826294, 0.02160472236573696, 0.3672802746295929, 0.35287711024284363, 0.24081581830978394, 0.07863373309373856, 0.16709668934345245, 0.02457304298877716, 0.09829217195510864, 0.35876643657684326, 0.014743825420737267, 0.00982921663671732, 0.9942737221717834, 0.9115036129951477, 0.19839780032634735, 0.1373523324728012, 0.5951934456825256, 0.03052273951470852, 0.045784108340740204, 0.007777624763548374, 0.034999310970306396, 0.9566478133201599, 0.9932425022125244, 0.9990331530570984, 0.9963660836219788, 0.7771998047828674, 0.8264750242233276, 0.07534164935350418, 0.06849240511655807, 0.02739696204662323, 0.7388746738433838, 0.0956321731209755, 0.196577250957489, 0.22314172983169556, 0.06906767934560776, 0.39846739172935486, 0.015938695520162582, 0.9221391081809998, 0.5780619978904724, 0.999184250831604, 0.8335010409355164, 0.5184826850891113, 0.005083163268864155, 0.41681939363479614, 0.06099795922636986, 0.11475786566734314, 0.7459261417388916, 0.14344732463359833, 0.8773528933525085, 0.3664454519748688, 0.012080619111657143, 0.020134365186095238, 0.1812092810869217, 0.012080619111657143, 0.26174673438072205, 0.13691368699073792, 0.0040268730372190475, 0.3382226824760437, 0.06841322034597397, 0.29363876581192017, 0.06995060294866562, 0.046121273189783096, 0.098392054438591, 0.05457684025168419, 0.019217196851968765, 0.0007686879253014922, 0.00999294314533472, 0.6062840223312378, 0.94456946849823, 0.4111432731151581, 0.12111008912324905, 0.3490106463432312, 0.03106631524860859, 0.0242705587297678, 0.01116445753723383, 0.008494695648550987, 0.038347482681274414, 0.005096817389130592, 0.9836928248405457, 0.9659461975097656, 0.8720934987068176, 0.8901011943817139, 0.9806589484214783, 0.9987881183624268, 0.9925763010978699, 0.2663959562778473, 0.6659899353981018, 0.20034338533878326, 0.01878219284117222, 0.010434551164507866, 0.010434551164507866, 0.20869103074073792, 0.056346576660871506, 0.1586051881313324, 0.30260199308395386, 0.03339056670665741, 0.23352693021297455, 0.04865144565701485, 0.025947436690330505, 0.20757949352264404, 0.09405945986509323, 0.2821783721446991, 0.08432917296886444, 0.022704007104039192, 0.8992976546287537, 0.48101434111595154, 0.48101434111595154, 0.8770855069160461, 0.9954917430877686, 0.048001501709222794, 0.054001688957214355, 0.21000656485557556, 0.546017050743103, 0.11400356888771057, 0.018000563606619835, 0.7239980697631836, 0.6540154814720154, 0.23914964497089386, 0.03457585349678993, 0.24203097820281982, 0.22474305331707, 0.05762642249464989, 0.1224561482667923, 0.05474510043859482, 0.0014406605623662472, 0.02160990796983242, 0.29965707659721375, 0.6915163397789001, 0.8350669741630554, 0.02980954386293888, 0.9539054036140442, 0.6742618680000305, 0.15796156227588654, 0.07751818001270294, 0.006337963975965977, 0.025351855903863907, 0.019501427188515663, 0.028277071192860603, 0.005850428249686956, 0.004875356797128916, 0.30381062626838684, 0.2625415623188019, 0.14312466979026794, 0.007902588695287704, 0.1202949658036232, 0.007902588695287704, 0.01053678523749113, 0.13170981407165527, 0.01229291595518589, 0.6874747276306152, 0.148318350315094, 0.2263806313276291, 0.6088858246803284, 0.015612457878887653, 0.739780604839325, 0.8670849800109863, 0.15803389251232147, 0.08156587928533554, 0.09176161885261536, 0.25489339232444763, 0.3058720529079437, 0.010195734910666943, 0.09685948491096497, 0.29928702116012573, 0.16008375585079193, 0.02784065343439579, 0.4732910990715027, 0.03480081632733345, 0.5235698223114014, 0.16966193914413452, 0.18956641852855682, 0.3033062815666199, 0.06776999682188034, 0.03886111453175545, 0.07393090426921844, 0.018956642597913742, 0.11089635640382767, 0.005686992779374123, 0.010900069028139114, 0.009952236898243427, 0.382843941450119, 0.5359815359115601, 0.7083364725112915, 0.8720934987068176, 0.6497556567192078, 0.18152442574501038, 0.015268410556018353, 0.03435392305254936, 0.07719029486179352, 0.029264453798532486, 0.01272367499768734, 0.986555814743042, 0.017379693686962128, 0.9732628464698792, 0.9381895065307617, 0.9573794007301331, 0.9983532428741455, 0.059695638716220856, 0.021707504987716675, 0.027134381234645844, 0.7244879603385925, 0.16551972925662994, 0.9916427731513977, 0.6336276531219482, 0.07125239819288254, 0.1930093616247177, 0.021293818950653076, 0.02156681753695011, 0.02347780205309391, 0.015014872886240482, 0.003548969980329275, 0.01665285974740982, 0.0005459953681565821, 0.8074751496315002, 0.6216041445732117, 0.6955193877220154, 0.9901960492134094, 0.9611952304840088, 0.22815406322479248, 0.3892039954662323, 0.08723537623882294, 0.04697289690375328, 0.24157489836215973, 0.6062840223312378, 0.9872713088989258, 0.8500499129295349, 0.4847424328327179, 0.1392345279455185, 0.330037385225296, 0.041254673153162, 0.9609634280204773, 0.2549302577972412, 0.0410332977771759, 0.5447825193405151, 0.018334025517106056, 0.013095732778310776, 0.09079708158969879, 0.02182622253894806, 0.01571488007903099, 0.8922452330589294, 0.9777419567108154, 0.47560080885887146, 0.8550577163696289, 0.9582155346870422, 0.13151191174983978, 0.688717782497406, 0.0012139561586081982, 0.05017685145139694, 0.060293152928352356, 0.024683773517608643, 0.025897730141878128, 0.008902344852685928, 0.008093040436506271, 0.0008093040669336915, 0.022442953661084175, 0.8145471811294556, 0.07590998709201813, 0.003300434211269021, 0.0072609554044902325, 0.061388079077005386, 0.0072609554044902325, 0.007921041920781136, 0.8812230825424194, 0.11834171414375305, 0.03644908592104912, 0.1002349779009819, 0.8656657338142395, 0.2771110236644745, 0.07917457818984985, 0.5278305411338806, 0.10556610673666, 0.30918970704078674, 0.16222061216831207, 0.04436802864074707, 0.022184014320373535, 0.3175086975097656, 0.015251509845256805, 0.042981527745723724, 0.07209804654121399, 0.015251509845256805, 0.7021642923355103, 0.9574623107910156, 0.3765898048877716, 0.07288835197687149, 0.11662136018276215, 0.20408737659454346, 0.07167354226112366, 0.07896237820386887, 0.053451456129550934, 0.023081310093402863, 0.6927025318145752, 0.0027379547245800495, 0.29159218072891235, 0.01232079602777958, 0.9806579351425171, 0.33985456824302673, 0.04189987853169441, 0.4981429874897003, 0.11638855189085007, 0.20053432881832123, 0.5715228319168091, 0.06016029790043831, 0.16042745113372803, 0.014081031084060669, 0.7462946772575378, 0.23937752842903137, 0.055395275354385376, 0.9298492670059204, 0.015827221795916557, 0.06447558104991913, 0.8854646682739258, 0.05158046633005142, 0.9971699714660645, 0.6011860370635986, 0.21391896903514862, 0.014753032475709915, 0.0958947092294693, 0.07376515865325928, 0.9828705191612244, 0.6062840223312378, 0.9984421133995056, 0.7014486193656921, 0.9522278308868408, 0.5525009632110596, 0.3076251745223999, 0.09795030951499939, 0.005866815336048603, 0.011988709680736065, 0.0017855524783954024, 0.0007652367930859327, 0.017855525016784668, 0.0015304735861718655, 0.002295710379257798, 0.9047012329101562, 0.9847947955131531, 0.24106484651565552, 0.051427166908979416, 0.3407049775123596, 0.33427658677101135, 0.02892778255045414, 0.9480313658714294, 0.9562988877296448, 0.005033152177929878, 0.020132608711719513, 0.010066304355859756, 0.010066304355859756, 0.037150789052248, 0.9535369277000427, 0.8100851774215698, 0.12924273312091827, 0.840077817440033, 0.2506021559238434, 0.07913752645254135, 0.6331002116203308, 0.02637917548418045, 0.41349339485168457, 0.4243748188018799, 0.15778037905693054, 0.07977848500013351, 0.9174525737762451, 0.323849081993103, 0.11845063418149948, 0.34275078773498535, 0.0352831669151783, 0.030242715030908585, 0.007560678757727146, 0.04158373549580574, 0.06804610788822174, 0.03276294097304344, 0.32929468154907227, 0.11645787209272385, 0.044173676520586014, 0.34937360882759094, 0.03212630748748779, 0.04015788808465004, 0.06023683026432991, 0.024094732478260994, 0.9750783443450928, 0.6374173760414124, 0.18953755497932434, 0.041542477905750275, 0.06231371685862541, 0.026829516515135765, 0.010818353854119778, 0.022934909909963608, 0.008654682897031307, 0.976148247718811, 0.8161462545394897, 0.9175025224685669, 0.536124587059021, 0.17836318910121918, 0.1931980401277542, 0.04329705983400345, 0.008969909511506557, 0.01586983911693096, 0.017422324046492577, 0.004657452926039696, 0.00034499651519581676, 0.0008624912588857114, 0.0005174947436898947, 0.0005174947436898947, 0.9433974027633667, 0.31901559233665466, 0.24045714735984802, 0.12637662887573242, 0.0013662338024005294, 0.13594026863574982, 0.016394805163145065, 0.044744156301021576, 0.09836883097887039, 0.017077922821044922, 0.9862695932388306, 0.9423605799674988, 0.1422024369239807, 0.832270085811615, 0.008818755857646465, 0.0022046889644116163, 0.009921099990606308, 0.0033070333302021027, 0.8704923987388611, 0.9885278344154358, 0.5564168095588684, 0.19406911730766296, 0.18474061787128448, 0.02725381590425968, 0.0009145575459115207, 0.01188924815505743, 0.017742415890097618, 0.004938610829412937, 0.0016462035709992051, 0.0003658230125438422, 0.023368608206510544, 0.9697972536087036, 0.9587004780769348, 0.9660283327102661, 0.32295599579811096, 0.12687556445598602, 0.3921608626842499, 0.019223570823669434, 0.09611785411834717, 0.04229185730218887, 0.6062838435173035, 0.9891741871833801, 0.46855098009109497, 0.39074572920799255, 0.12294089794158936, 0.0025791795924305916, 0.01504521444439888, 0.6624202728271484, 0.205731600522995, 0.07404564321041107, 0.009754515253007412, 0.02704661153256893, 0.01108467672020197, 0.004877257626503706, 0.003547096624970436, 0.0004433870781213045, 0.000886774156242609, 0.08045606315135956, 0.026818687096238136, 0.710695207118988, 0.17432145774364471, 0.6805974841117859, 0.15088102221488953, 0.016329115256667137, 0.05943797528743744, 0.013716456480324268, 0.04245569929480553, 0.036577217280864716, 0.04721402749419212, 0.3147602081298828, 0.6295204162597656, 0.8100851774215698, 0.8829534649848938, 0.9525782465934753, 0.9390838742256165, 0.9528937935829163, 0.11947785317897797, 0.5874327421188354, 0.04978243634104729, 0.02986946329474449, 0.05973892658948898, 0.10952135920524597, 0.03982594981789589, 0.3716196119785309, 0.21618257462978363, 0.0071465312503278255, 0.162583589553833, 0.0035732656251639128, 0.016079695895314217, 0.1688368022441864, 0.04555913805961609, 0.008039847947657108, 0.6540238857269287, 0.971523106098175, 0.012197628617286682, 0.7196601033210754, 0.268347829580307, 0.9537258148193359, 0.7397805452346802, 0.9609463810920715, 0.9971256256103516, 0.160414919257164, 0.06015559658408165, 0.7753388285636902, 0.9570837616920471, 0.9678429365158081, 0.8720934987068176, 0.013233799487352371, 0.024577056989073753, 0.9603957533836365, 0.9495337009429932, 0.9342201948165894, 0.9188564419746399, 0.9439859390258789, 0.9376668930053711, 0.7783394455909729, 0.014968065544962883, 0.061369068920612335, 0.06436268240213394, 0.0014968066243454814, 0.056878648698329926, 0.019458485767245293, 0.002993613248690963, 0.8012732863426208, 0.01985136605799198, 0.17866230010986328, 0.9530861377716064, 0.9502416253089905, 0.772422730922699, 0.02615216001868248, 0.12609077990055084, 0.02802017144858837, 0.0046700285747647285, 0.033624205738306046, 0.0009340057731606066, 0.007472046185284853, 0.8077428936958313, 0.17054982483386993, 0.009474989958107471, 0.004737494979053736, 0.005921868607401848, 0.7542740702629089, 0.671672523021698, 0.9781724810600281], \"Term\": [\"aabenbar\", \"aabenbar\", \"aabenbar\", \"aabenbar\", \"aand\", \"aand\", \"aand\", \"aand\", \"aand\", \"aand\", \"aand\", \"aand\", \"aand\", \"aand\", \"aand\", \"aandda\", \"aandmed\", \"aando\", \"aandsaa\", \"aandsom\", \"aandtil\", \"aar\", \"aar\", \"aar\", \"aar\", \"aar\", \"aar\", \"aar\", \"aar\", \"afrika\", \"afskum\", \"al\", \"al\", \"al\", \"al\", \"al\", \"al\", \"al\", \"al\", \"al\", \"aldenstund\", \"aldenstund\", \"alexand\", \"alexand\", \"alfad\", \"alfad\", \"allesammennu\", \"alterbog\", \"amen\", \"amen\", \"amen\", \"angel\", \"angelsachs\", \"antioki\", \"apollo\", \"apollo\", \"apollo\", \"apostl\", \"apostl\", \"apostl\", \"apostl\", \"apostolisk\", \"arab\", \"arbeid\", \"arbeid\", \"arbeid\", \"arbeid\", \"arbeid\", \"arild\", \"arild\", \"artemis\", \"asal\\u00e6r\", \"asal\\u00e6r\", \"aser\", \"aser\", \"aser\", \"aser\", \"asern\", \"asern\", \"asern\", \"asern\", \"asgaard\", \"asgaard\", \"asi\", \"askalon\", \"assyr\", \"asta\", \"atheniens\", \"atheniens\", \"athun\", \"axelstadtil\", \"axled\", \"baad\", \"baad\", \"baad\", \"baad\", \"baad\", \"baad\", \"baandog\", \"baandtil\", \"balak\", \"bald\", \"bald\", \"bald\", \"bald\", \"bald\", \"baldur\", \"banemed\", \"baresand\", \"barn\", \"barn\", \"barn\", \"barn\", \"barn\", \"barn\", \"barn\", \"barn\", \"barn\", \"barnehjert\", \"barraba\", \"bedsted\", \"bedsted\", \"befordr\", \"begrib\", \"begrib\", \"begrib\", \"behag\", \"behag\", \"behag\", \"bekjend\", \"bekjend\", \"beleiring\", \"ber\\u00f8mt\", \"ber\\u00f8mt\", \"ber\\u00f8mt\", \"ber\\u00f8mt\", \"beskikked\", \"besku\", \"besku\", \"besku\", \"beslutning\", \"betydersj\\u00e6l\", \"betydningsfuld\", \"bibel\", \"bibel\", \"bibel\", \"bibel\", \"bibel\", \"bibelsk\", \"bibelsk\", \"bibelsprog\", \"bittr\", \"bittr\", \"bittr\", \"bittr\", \"bjerg\", \"bjerg\", \"bjerg\", \"bjerg\", \"bjerg\", \"bjerg\", \"bjerg\", \"blaam\\u00e6nd\", \"blank\", \"blank\", \"blant\", \"blevn\", \"blevn\", \"blod\", \"blod\", \"blod\", \"blod\", \"blod\", \"blod\", \"blod\", \"blod\", \"blod\", \"blot\", \"blot\", \"blot\", \"blot\", \"boemund\", \"boemund\", \"bolt\", \"bondestand\", \"bondestand\", \"bondeven\", \"bordethvor\", \"borgemest\", \"bortkasted\", \"brag\", \"brag\", \"brag\", \"brag\", \"brag\", \"brageog\", \"brask\", \"brat\", \"brat\", \"brat\", \"brat\", \"brat\", \"brat\", \"brorson\", \"bryderaltid\", \"brynhild\", \"brynhild\", \"brynhild\", \"brynhild\", \"brystd\", \"br\\u00f8daf\", \"bysantinsk\", \"byzantin\", \"b\\u00e6gtehimmelbr\\u00f8d\", \"b\\u00f8genes_\\u00f8elad\", \"b\\u00f8geskovesom\", \"b\\u00f8lg\", \"b\\u00f8lg\", \"b\\u00f8lg\", \"b\\u00f8lg\", \"b\\u00f8lg\", \"b\\u00f8lg\", \"b\\u00f8lg\", \"b\\u00f8lgerd\", \"b\\u00f8lgerei\", \"b\\u00f8m\", \"b\\u00f8nd\", \"b\\u00f8nd\", \"b\\u00f8nd\", \"b\\u00f8nd\", \"b\\u00f8nd\", \"b\\u00f8nd\", \"b\\u00f8r\", \"b\\u00f8r\", \"b\\u00f8r\", \"b\\u00f8r\", \"b\\u00f8r\", \"b\\u00f8r\", \"canaan\", \"christ\", \"christ\", \"christ\", \"christ\", \"christ\", \"christ\", \"christ\", \"christ\", \"christendom\", \"christendom\", \"christendom\", \"christendom\", \"christian\", \"christian\", \"christn\", \"christn\", \"christn\", \"christn\", \"christn\", \"christn\", \"christn\", \"christn\", \"clara\", \"clara\", \"clara_raphael\", \"columbus\", \"c\\u00e6sar\", \"daab\", \"daab\", \"daab\", \"daab\", \"daab\", \"daaben\", \"daabog\", \"daabspag\", \"dag\", \"dag\", \"dag\", \"dag\", \"dag\", \"dag\", \"dag\", \"dag\", \"dag\", \"dagi\", \"dagtil\", \"dam\", \"dam\", \"daneh\\u00e6r\", \"daneh\\u00e6r\", \"danmark\", \"danmark\", \"danmark\", \"danmark\", \"danmark\", \"danmark\", \"danmark\", \"dannebraag\", \"dannebrog\", \"dannebrog\", \"dannebrog\", \"dannebrog\", \"dannebrogtil\", \"dannekvind\", \"dannekvind\", \"dannekvind\", \"dannelsessprog\", \"dannemark\", \"dannemark\", \"dannem\\u00e6nd\", \"dannem\\u00e6nd\", \"dannem\\u00e6nd\", \"dansk\", \"dansk\", \"dansk\", \"dansk\", \"darius\", \"davidspsalm\", \"davidspsalm\", \"deil\", \"deil\", \"deil\", \"deil\", \"deil\", \"deil\", \"deil\", \"deil\", \"deil\", \"deil\", \"del\", \"del\", \"del\", \"del\", \"del\", \"del\", \"del\", \"del\", \"del\", \"delphi\", \"delt\", \"delt\", \"demet\", \"demkong\", \"derhvor\", \"derog\", \"desv\\u00e6r\", \"desv\\u00e6r\", \"digt\", \"digt\", \"digt\", \"digt\", \"digt\", \"digt\", \"digt\", \"digt\", \"digt\", \"digtil\", \"digtning\", \"digtning\", \"diodor\", \"dit\", \"dit\", \"dit\", \"dit\", \"dit\", \"dit\", \"dit\", \"dit\", \"dod\", \"dogmed\", \"drabant\", \"drikkeblod\", \"drot\", \"drot\", \"drot\", \"drot\", \"drot\", \"drot\", \"drot\", \"drothan\", \"drotten_vort\", \"duel\", \"duft\", \"duft\", \"duft\", \"duft\", \"duft\", \"duft\", \"duft\", \"dvaled\", \"dv\\u00e6rg\", \"dv\\u00e6rg\", \"dv\\u00e6rg\", \"dv\\u00e6rg\", \"dv\\u00e6rg\", \"dv\\u00e6rg\", \"dv\\u00e6rg\", \"dybt\", \"dybt\", \"dybt\", \"dybt\", \"dybt\", \"dybt\", \"dybt\", \"dybt\", \"dybt\", \"d\\u00f8\", \"d\\u00f8d\", \"d\\u00f8d\", \"d\\u00f8d\", \"d\\u00f8d\", \"d\\u00f8d\", \"d\\u00f8d\", \"d\\u00f8d\", \"d\\u00f8d\", \"d\\u00f8d\", \"d\\u00f8ded\", \"d\\u00f8defor\", \"d\\u00f8dei\", \"d\\u00f8dei\", \"d\\u00f8dejesus_stod\", \"d\\u00f8dem\", \"d\\u00f8ds\\u00f8d\", \"d\\u00f8lgermed\", \"edda\", \"edda\", \"edda\", \"edda\", \"edda\", \"eder\", \"eder\", \"eder\", \"eder\", \"eder\", \"eder\", \"eder\", \"eder\", \"edvard\", \"efterkom\", \"egennyt\", \"egent\", \"egent\", \"egent\", \"ei\", \"ei\", \"ei\", \"ei\", \"ei\", \"ei\", \"ei\", \"ei\", \"ei\", \"ei\", \"ei\", \"eiegod\", \"eifor\", \"ej\", \"ej\", \"ej\", \"elsk\", \"elsk\", \"elsk\", \"elsk\", \"elsk\", \"elsk\", \"elsk\", \"emma\", \"enddog\", \"enddog\", \"enddog\", \"endnu\", \"endnu\", \"endnu\", \"endnu\", \"endnu\", \"endnu\", \"endnu\", \"endnu\", \"engelland\", \"engelland\", \"engelland\", \"engl\", \"engl\", \"engl\", \"engl\", \"engl\", \"engl\", \"ent\", \"ent\", \"ent\", \"ent\", \"ere\", \"ere\", \"ere\", \"ere\", \"ere\", \"ere\", \"erkebisp\", \"erkend\", \"esaia\", \"est\", \"est\", \"est\", \"est\", \"est\", \"evangeli\", \"evangeli\", \"evangelisk\", \"evig\", \"evig\", \"evig\", \"evig\", \"evig\", \"evig\", \"evig\", \"evig\", \"evig\", \"evig\", \"evig\", \"evige_liv\", \"evige_liv\", \"ey\", \"ezechia\", \"faa\", \"faa\", \"faa\", \"faa\", \"faa\", \"faa\", \"faa\", \"faa\", \"faard\", \"faarhan\", \"fad\", \"fad\", \"fad\", \"fad\", \"fad\", \"fad\", \"fad\", \"fad\", \"fad\", \"fader_godsom\", \"fadervor\", \"fafn\", \"fafn\", \"fagei\", \"fagr\", \"fagt\", \"fagt\", \"fald\", \"fald\", \"fald\", \"fald\", \"fald\", \"fald\", \"fald\", \"fald\", \"fald\", \"fald\", \"falded\", \"falst\", \"fanatism\", \"fanekorsban\", \"faresand\", \"favnd\", \"favr\", \"favr\", \"ferdinand\", \"fiern\", \"fik\", \"fik\", \"fik\", \"fik\", \"fik\", \"fik\", \"fik\", \"fik\", \"fik\", \"find\", \"find\", \"find\", \"find\", \"find\", \"find\", \"find\", \"find\", \"find\", \"find\", \"flaad\", \"flaad\", \"flidfor\", \"flokked\", \"fluk\", \"flux\", \"flux\", \"flux\", \"flux\", \"flyvem\", \"fl\\u00f8t\", \"folk\", \"folk\", \"folk\", \"folk\", \"folk\", \"folk\", \"folk\", \"folk\", \"folk\", \"folkekirk\", \"folkesang\", \"folkesang\", \"folketid\", \"forandred\", \"fordi\", \"fordi\", \"fordi\", \"fordi\", \"fordi\", \"fordi\", \"fordi\", \"forgaaerd\", \"forglem\", \"forglem\", \"forladerpaa\", \"formast\", \"formular\", \"forret\", \"forstaaeei\", \"fortabt\", \"forvold\", \"frankr\", \"frankr\", \"frankr\", \"fransk\", \"fransk\", \"fransk\", \"frederik\", \"frederik\", \"frederik\", \"frederik\", \"fredog\", \"frei\", \"frei\", \"freia\", \"freia\", \"freia\", \"freir\", \"frel\", \"frels\", \"frels\", \"frels\", \"frels\", \"frels\", \"frels\", \"frels\", \"frels\", \"frels\", \"frelsermand\", \"frelsernavn\", \"frey\", \"freya\", \"freyas\", \"friderich\", \"frig\", \"frit_oversat\", \"fritfiend\", \"frithan\", \"from\", \"from\", \"from\", \"from\", \"from\", \"from\", \"from\", \"from\", \"from\", \"fru_mari\", \"fruer\", \"fryd\", \"fryd\", \"fryd\", \"fryd\", \"fryd\", \"fryd\", \"fryd\", \"fryd\", \"fryde_mang\", \"fugl\", \"fugl\", \"fugl\", \"fugl\", \"fugl\", \"fugl\", \"fugl\", \"fugl\", \"fugl\", \"fugl\", \"ful\", \"ful\", \"fuldbrag\", \"fuldmang\", \"f\\u00e6derneland\", \"f\\u00e6derneland\", \"f\\u00e6dernetro\", \"f\\u00e6dr\", \"f\\u00e6dr\", \"f\\u00e6dr\", \"f\\u00e6dr\", \"f\\u00e6dr\", \"f\\u00e6dr\", \"f\\u00e6dr\", \"f\\u00e6drevi_bed\", \"f\\u00e6llesliv\", \"f\\u00f8dselsstund\", \"f\\u00f8rst\", \"f\\u00f8rst\", \"f\\u00f8rst\", \"f\\u00f8rst\", \"f\\u00f8rst\", \"f\\u00f8rst\", \"f\\u00f8rst\", \"f\\u00f8rst\", \"f\\u00f8rst\", \"f\\u00f8rst\", \"f\\u00f8rst\", \"gaa\", \"gaa\", \"gaa\", \"gaa\", \"gaa\", \"gaadesom\", \"gaaeog\", \"gaaeog\", \"gaaerm\", \"gaardsom\", \"gam\", \"gam\", \"gam\", \"gam\", \"gaml\", \"gaml\", \"gaml\", \"gaml\", \"gaml\", \"gaml\", \"gaml\", \"gaml\", \"gaml\", \"gaml\", \"gaml\", \"gammeldansk\", \"gammeldansk\", \"gav\", \"gav\", \"gav\", \"gav\", \"gav\", \"gav\", \"gav\", \"gav\", \"gav\", \"gav\", \"gavi\", \"genf\\u00f8d\", \"genf\\u00f8d\", \"gennem\", \"gennem\", \"gennem\", \"genstand\", \"ger\", \"gerda\", \"gern\", \"gern\", \"gerning\", \"gienl\\u00f8s\", \"gienl\\u00f8s\", \"gik\", \"gik\", \"gik\", \"gik\", \"gik\", \"gik\", \"gik\", \"gik\", \"gik\", \"gik\", \"givetaf\", \"givetat\", \"givetd\", \"gi\\u00e6stsom\", \"gi\\u00e6v\", \"gi\\u00e6v\", \"gi\\u00f8r\", \"gi\\u00f8r\", \"gi\\u00f8r\", \"gi\\u00f8r\", \"gi\\u00f8r\", \"gi\\u00f8r\", \"gi\\u00f8r\", \"gjord\", \"gjord\", \"gjord\", \"gjord\", \"gjord\", \"gjord\", \"gjord\", \"gjord\", \"gjord\", \"gjuk\", \"gjukung\", \"gj\\u00e6ld\", \"gj\\u00e6ld\", \"gj\\u00f8r\", \"gj\\u00f8r\", \"gj\\u00f8r\", \"gj\\u00f8r\", \"gladthi\", \"glands\", \"glands\", \"glands\", \"glands\", \"glemmes_aldr\", \"glemmes_aldr\", \"gl\\u00e6d\", \"gl\\u00e6d\", \"gl\\u00e6d\", \"gl\\u00e6d\", \"gl\\u00e6d\", \"gl\\u00e6d\", \"gl\\u00e6d\", \"gl\\u00e6d\", \"gl\\u00e6d\", \"gl\\u00e6deno\", \"gl\\u00e6denu\", \"gl\\u00e6deog\", \"gl\\u00e6desom\", \"gl\\u00f8d\", \"gl\\u00f8d\", \"gl\\u00f8dem\", \"godmund\", \"godt\", \"godt\", \"godt\", \"godt\", \"godt\", \"godt\", \"godt\", \"godt\", \"godt\", \"godt\", \"golgatha\", \"got\", \"grav\", \"grav\", \"grav\", \"grav\", \"grav\", \"grav\", \"grav\", \"grav\", \"gravs\", \"grev\", \"grev\", \"grimhild\", \"grimnersmaal\", \"grimnismal\", \"grueme\", \"grundtv\", \"grundtv\", \"grundtv\", \"grundtv\", \"grundtv\", \"grundtv\", \"grundtv\", \"grundtv\", \"gr\\u00e6k\", \"gr\\u00e6k\", \"gr\\u00e6k\", \"gr\\u00e6k\", \"gr\\u00e6k\", \"gr\\u00e6sb\\u00e6nk\", \"gr\\u00e6sk\", \"gr\\u00e6sk\", \"gr\\u00e6sk\", \"gr\\u00e6sk\", \"gr\\u00e6sk\", \"gr\\u00e6sk\", \"gr\\u00e6ske_myth\", \"gr\\u00f8n\", \"gr\\u00f8n\", \"gr\\u00f8n\", \"gr\\u00f8n\", \"gr\\u00f8n\", \"gr\\u00f8n\", \"gr\\u00f8n\", \"gr\\u00f8n\", \"gub\", \"gud\", \"gud\", \"gud\", \"gud\", \"gud\", \"gud\", \"gud\", \"gud\", \"gud\", \"gud\", \"gud\", \"gud\", \"gud_bedregud\", \"guddom\", \"guddom\", \"guddom\", \"guddom\", \"guddom\", \"guddom\", \"guddom\", \"guddom\", \"gudel\\u00e6r\", \"gudfad\", \"gudfad\", \"gudfad\", \"gudhjem\", \"gudrun\", \"gudrun\", \"gudrun\", \"gudsom\", \"guld\", \"guld\", \"guld\", \"guld\", \"guld\", \"guld\", \"guld\", \"guld\", \"guldald\", \"guldald\", \"guldald\", \"guldberg\", \"guldb\\u00e6g\", \"guldkron\", \"guldkron\", \"guldsom\", \"gunlaug\", \"gunnar\", \"gyldenaar\", \"gyldenaar\", \"gyldenaar\", \"gyldenaar\", \"gyldenaarmed\", \"gyldent\", \"gylfeleg\", \"gym\", \"g\\u00e6st\", \"g\\u00e6st\", \"g\\u00f8r\", \"g\\u00f8r\", \"g\\u00f8r\", \"g\\u00f8r\", \"g\\u00f8r\", \"haabd\", \"haandenm\", \"haandfor\", \"haandhan\", \"haando\", \"haandsaa\", \"haandskr\", \"haandtil\", \"hallelujad\", \"hallelujahan\", \"hallelujano\", \"hani\", \"hannem\", \"hannem\", \"hannem\", \"hannem\", \"hannibal\", \"harmei\", \"hasted\", \"hav\", \"hav\", \"hav\", \"hav\", \"hav\", \"hav\", \"hav\", \"hav\", \"hav\", \"heimdal\", \"heimdal\", \"heimdal\", \"heimdal\", \"hel\", \"hel\", \"hel\", \"hel\", \"hel\", \"hel\", \"hel\", \"hel\", \"hel\", \"hel\", \"hel\", \"hel\", \"helligaand\", \"helligaand\", \"helligaand\", \"helligaand\", \"helligaandsom\", \"hellige_skrift\", \"helved\", \"helved\", \"helved\", \"helved\", \"helved\", \"helved\", \"helved\", \"helved\", \"henrik\", \"henrik\", \"henrik\", \"hens\", \"hens\", \"hens\", \"heph\\u00e6sto\", \"herm\", \"herod\", \"herod\", \"herodot\", \"herodot\", \"herreat\", \"herres_jesu\", \"herres_jesu\", \"hersleb\", \"hersleb\", \"hertug\", \"higed\", \"hiin\", \"himl\", \"himl\", \"himl\", \"himl\", \"himl\", \"himl\", \"himl\", \"himl\", \"himl\", \"himl\", \"himlend\", \"himlensaa\", \"himmel\", \"himmel\", \"himmel\", \"himmel\", \"himmel\", \"himmel\", \"himmel\", \"himmel\", \"himmel\", \"himmeld\\u00f8r\", \"himmels_fo\", \"himmels_fo\", \"himmelsk\", \"himmelsk\", \"himmelsk\", \"himmelsk\", \"himmelsk\", \"himmelsk\", \"himmer\", \"himmer\", \"himmer\", \"himmer\", \"himmer\", \"himmer\", \"himmer\", \"himmerignaar\", \"hin\", \"hin\", \"hin\", \"hin\", \"hin\", \"hin\", \"hin\", \"hin\", \"hin\", \"hist\", \"hist\", \"hist\", \"hist\", \"hist\", \"hist\", \"hist\", \"hist\", \"histori\", \"histori\", \"histori\", \"historisk\", \"historisk\", \"historisk\", \"historisk\", \"hjert\", \"hjert\", \"hjert\", \"hjert\", \"hjert\", \"hjert\", \"hjert\", \"hjert\", \"hjert\", \"hjertefagre_ord\", \"hjordis\", \"hofm\\u00e6nd\", \"hogn\", \"hold\", \"hold\", \"hold\", \"hold\", \"hold\", \"hold\", \"hold\", \"hold\", \"hold\", \"hr\", \"hr\", \"hr\", \"hr\", \"hr_biskop\", \"hrungn\", \"hrungn\", \"hu_staa\", \"hult\", \"hurraraab\", \"huusm\\u00e6nd\", \"hvem\", \"hvem\", \"hvem\", \"hvem\", \"hvem\", \"hvem\", \"hvem\", \"hvem\", \"hvem\", \"hvem\", \"hver\", \"hver\", \"hver\", \"hver\", \"hver\", \"hver\", \"hver\", \"hver\", \"hver\", \"hver\", \"hvidthold\", \"hvilk\", \"hvilk\", \"hvilk\", \"hvilk\", \"hvilk\", \"hvilk\", \"hvilk\", \"hvilk\", \"hvo\", \"hvo\", \"hvo\", \"hvo\", \"hvo\", \"hvo\", \"hvo\", \"hvo\", \"hyttekong\", \"h\\u00e6nderog\", \"h\\u00e6versei\", \"h\\u00f8dur\", \"h\\u00f8dur\", \"h\\u00f8ie\", \"h\\u00f8ie\", \"h\\u00f8ie\", \"h\\u00f8ie\", \"h\\u00f8ie\", \"h\\u00f8ie\", \"h\\u00f8ie\", \"h\\u00f8ie\", \"h\\u00f8ie\", \"h\\u00f8ie\", \"h\\u00f8ier\", \"h\\u00f8ier\", \"h\\u00f8ier\", \"h\\u00f8iest\", \"h\\u00f8iest\", \"h\\u00f8iest\", \"h\\u00f8iest\", \"h\\u00f8iest\", \"h\\u00f8it\", \"h\\u00f8it\", \"h\\u00f8it\", \"h\\u00f8it\", \"h\\u00f8it\", \"h\\u00f8it\", \"h\\u00f8it\", \"h\\u00f8it\", \"h\\u00f8it\", \"h\\u00f8itydsk\", \"h\\u00f8itydsk\", \"h\\u00f8j\", \"h\\u00f8j\", \"h\\u00f8j\", \"h\\u00f8n\", \"h\\u00f8r\", \"h\\u00f8r\", \"h\\u00f8r\", \"h\\u00f8r\", \"h\\u00f8r\", \"h\\u00f8r\", \"h\\u00f8r\", \"h\\u00f8r\", \"h\\u00f8r\", \"h\\u00f8r\", \"h\\u00f8red\", \"h\\u00f8yer\", \"iaft\", \"idun\", \"idun\", \"igen\", \"igen\", \"igen\", \"igen\", \"igienog\", \"igrund\", \"ii\", \"ii\", \"ii\", \"ikkei\", \"ikkeud\", \"ikkun\", \"ikkun\", \"ikkun\", \"ikkun\", \"ikkun\", \"imidlertid\", \"imidlertid\", \"imidlertid\", \"imidlertid\", \"indbyd\", \"indgi\\u00f8d\", \"indknib\", \"indstift\", \"indtog\", \"indtog\", \"indtog\", \"ing\", \"ing\", \"ing\", \"ing\", \"ing\", \"ing\", \"ing\", \"ing\", \"ing\", \"ingel\", \"isak\", \"isak\", \"isefjord\", \"island\", \"island\", \"island\", \"island\", \"itali\", \"itali\", \"itali\", \"italiensk\", \"iver\", \"ja\", \"ja\", \"ja\", \"ja\", \"ja\", \"ja\", \"ja\", \"januar\", \"japh\", \"japh\", \"jesu\", \"jesu\", \"jesu\", \"jesu\", \"jesu\", \"jesu\", \"jesu_christ\", \"jesu_christi\", \"jesu_christi\", \"jesu_christi\", \"jesu_christi\", \"jesu_kristi\", \"jesu_kristi\", \"jesus\", \"jesus\", \"jesus\", \"jesus\", \"jesus\", \"jesus\", \"jesus\", \"jesus_christ\", \"jesus_christ\", \"jesus_lillefor\", \"jesus_migop\", \"jet\", \"jet\", \"jet\", \"jet\", \"jet\", \"jet\", \"jomfru\", \"jomfru\", \"jomfru\", \"jomfru\", \"jomfru\", \"jomsborg\", \"jord\", \"jord\", \"jord\", \"jord\", \"jord\", \"jord\", \"jord\", \"jord\", \"jord\", \"jord\", \"jord\", \"jord\", \"jordaf\", \"jordei\", \"jordenog\", \"jordensaa\", \"jorderigog\", \"jordhvor\", \"jordjeg\", \"jordlyd\", \"jordmed\", \"jordvold\", \"josef\", \"josva\", \"josva\", \"jotun\", \"julesang\", \"julev\", \"juul\", \"j\\u00e6rtegn\", \"j\\u00f8defolk\", \"j\\u00f8defolk\", \"j\\u00f8defolk\", \"j\\u00f8deland\", \"kaarsaa\", \"kain\", \"kaivin\", \"kald\", \"kald\", \"kald\", \"kald\", \"kald\", \"kald\", \"kald\", \"kald\", \"kald\", \"kald\", \"kald\", \"kan\", \"kan\", \"kan\", \"kan\", \"kan\", \"kan\", \"kan\", \"kan\", \"kan\", \"kan\", \"kanhvor\", \"karak\", \"katolik\", \"katolsk\", \"keis\", \"keis\", \"keis\", \"keis\", \"keis\", \"kejs\", \"kejs\", \"kend\", \"kend\", \"kend\", \"kendem\\u00e6rk\", \"kildegud\", \"kildejakob\", \"kildevang\", \"kildev\\u00e6ld\", \"kildev\\u00e6ld\", \"kimed\", \"kirk\", \"kirk\", \"kirk\", \"kirk\", \"kirk\", \"kirk\", \"kirk\", \"kirk\", \"kirkehistori\", \"kirkehistori\", \"kirkehistorisk\", \"kirkekord\", \"kirkesamfund\", \"ki\\u00e6mp\", \"ki\\u00e6mp\", \"ki\\u00e6nd\", \"ki\\u00e6nd\", \"ki\\u00e6r\", \"ki\\u00e6r\", \"ki\\u00e6r\", \"ki\\u00e6r\", \"ki\\u00e6r\", \"ki\\u00e6r\", \"ki\\u00e6r\", \"ki\\u00e6rlighed\", \"ki\\u00f8benhavn\", \"ki\\u00f8d\", \"ki\\u00f8d\", \"ki\\u00f8d\", \"ki\\u00f8d\", \"ki\\u00f8d\", \"ki\\u00f8d\", \"ki\\u00f8d\", \"ki\\u00f8d\", \"ki\\u00f8dskjul\", \"kjend\", \"kjend\", \"kjend\", \"kjend\", \"kl\", \"klar\", \"klar\", \"klar\", \"klar\", \"klar\", \"klar\", \"klar\", \"klar\", \"klar\", \"klar\", \"klard\", \"klemt\", \"kl\\u00e6dning\", \"kl\\u00e6dning\", \"knop\", \"kolding\", \"kom\", \"kom\", \"kom\", \"kom\", \"kom\", \"kom\", \"kom\", \"kom\", \"kom\", \"kom\", \"kom\", \"komtil\", \"kong\", \"kong\", \"kong\", \"kong\", \"kong\", \"kong\", \"kong\", \"kong\", \"kong_harald\", \"kong_olav\", \"kongekron\", \"konger\", \"konger\", \"konger\", \"konger\", \"konger\", \"kongest\\u00e6vn\", \"konstantinopel\", \"kors\", \"kors\", \"kors\", \"kors\", \"kors\", \"kors\", \"kors\", \"kors\", \"kors\", \"korsets_tr\\u00e6\", \"korsf\\u00e6st\", \"korsf\\u00e6st\", \"korsf\\u00e6stedenu\", \"korstog\", \"korstog\", \"korstog\", \"kraft\", \"kraft\", \"kraft\", \"kraft\", \"kraft\", \"kraft\", \"kraft\", \"kraft\", \"kraft\", \"kraft\", \"kraft\", \"krandsog\", \"kreta\", \"kreta\", \"krig\", \"krig\", \"krist\", \"krist\", \"krist\", \"kristendom\", \"kristendom\", \"kristi\", \"kristi\", \"kristian\", \"kristian\", \"kristjan\", \"kristjan\", \"kristn\", \"kristn\", \"kristn\", \"kristus\", \"kristus\", \"kristus\", \"kromvel\", \"krono\", \"krophan\", \"kun\", \"kun\", \"kun\", \"kun\", \"kun\", \"kun\", \"kun\", \"kun\", \"kun\", \"kun\", \"kun\", \"kund\", \"kund\", \"kund\", \"kund\", \"kund\", \"kund\", \"kund\", \"kund\", \"kund\", \"kundskabstr\\u00e6\", \"kveld\", \"kveld\", \"kveld\", \"kviddr\", \"kvind\", \"kvind\", \"kvind\", \"kvind\", \"kvind\", \"kvind\", \"kvind\", \"kvind\", \"kvind\", \"kvind\", \"kvind\", \"kvind\", \"kvindesaa\", \"kv\\u00e6dl\", \"kv\\u00e6r\", \"kyrus\", \"k\\u00e6kt\", \"k\\u00e6kt\", \"k\\u00e6mp\", \"k\\u00e6mp\", \"k\\u00e6mp\", \"k\\u00e6mp\", \"k\\u00e6mp\", \"k\\u00e6mp\", \"k\\u00e6mp\", \"k\\u00e6mp\", \"k\\u00e6mp\", \"k\\u00e6mp\", \"k\\u00e6mp\", \"k\\u00e6r\", \"k\\u00e6r\", \"k\\u00e6r\", \"k\\u00e6r\", \"k\\u00f8d\", \"lad\", \"lad\", \"lad\", \"lad\", \"lad\", \"lad\", \"lad\", \"lad\", \"lad\", \"lad\", \"lak\", \"land\", \"land\", \"land\", \"land\", \"land\", \"land\", \"land\", \"land\", \"laus\", \"leto\", \"letsom\", \"lev\", \"lev\", \"lev\", \"lev\", \"lev\", \"lev\", \"lev\", \"lev\", \"lev\", \"lev\", \"lided\", \"lif\", \"lif\", \"lif\", \"lif\", \"lif\", \"lif\", \"lif\", \"lig\", \"lig\", \"lig\", \"lig\", \"lig\", \"lig\", \"lig\", \"lig\", \"lig\", \"lig\", \"lig\", \"lilj\", \"lilj\", \"lindberg\", \"lindr\", \"listed\", \"literatur\", \"liv\", \"liv\", \"liv\", \"liv\", \"liv\", \"liv\", \"liv\", \"liv\", \"liv\", \"liv\", \"liv\", \"liv\", \"livets_tr\\u00e6\", \"livsfyrst\", \"lod\", \"lod\", \"lod\", \"lod\", \"lod\", \"lod\", \"lod\", \"lod\", \"lok\", \"lok\", \"lok\", \"lok\", \"lok\", \"lok\", \"lok\", \"lokegluf\", \"lund\", \"lund\", \"lund\", \"lund\", \"lund\", \"luth\", \"luth\", \"luth\", \"luth\", \"luth\", \"luth\", \"lutheran\", \"luthersk\", \"lys\", \"lys\", \"lys\", \"lys\", \"lys\", \"lys\", \"lys\", \"lys\", \"lys\", \"lys\", \"lysog\", \"l\\u00e6gfolk\", \"l\\u00e6ngsl\", \"l\\u00e6rk\", \"l\\u00e6rk\", \"l\\u00e6rk\", \"l\\u00e6rtat\", \"l\\u00f8fteog\", \"l\\u00f8nfor\", \"l\\u00f8nmed\", \"l\\u00f8nraad_sl\", \"maa\", \"maa\", \"maa\", \"maa\", \"maa\", \"maa\", \"maa\", \"maa\", \"maa\", \"maa\", \"maa\", \"maaderat\", \"maaske\", \"maaske\", \"maaske\", \"maat\", \"maat\", \"maat\", \"maat\", \"maat\", \"maat\", \"maat\", \"maat\", \"maat\", \"maglegaardhvor\", \"mand\", \"mand\", \"mand\", \"mand\", \"mand\", \"mand\", \"mand\", \"mand\", \"mand\", \"mark\", \"mark\", \"mark\", \"mark\", \"mark\", \"mark\", \"mark\", \"marmor\", \"matthisonhans\", \"mel\", \"mel\", \"mellemslesv\", \"melodi\", \"melodi\", \"mennesk\", \"mennesk\", \"mennesk\", \"mennesk\", \"mennesk\", \"mennesk\", \"mennesk\", \"ment\", \"ment\", \"ment\", \"mer\", \"mer\", \"mer\", \"mer\", \"mer\", \"mer\", \"mer\", \"mer\", \"mester_and\", \"mester_and\", \"midgard\", \"midgard\", \"migog\", \"mj\\u00f8ln\", \"mj\\u00f8ln\", \"moderhun\", \"moderog\", \"modersmaal\", \"modersmaal\", \"modersmaal\", \"modersmaal\", \"mon\", \"mon\", \"mon\", \"mon\", \"mon\", \"mon\", \"mon\", \"mon\", \"morgenhan\", \"morgenr\\u00f8d\", \"morgenr\\u00f8d\", \"morgenr\\u00f8d\", \"morgenr\\u00f8d\", \"morgenr\\u00f8d\", \"morgenr\\u00f8deda\", \"morgenr\\u00f8defor\", \"morten_luth\", \"morten_luth\", \"morten_luth\", \"mul\", \"mul\", \"mul\", \"mul\", \"mundepaa\", \"mundi\", \"mundlag\", \"mundtil\", \"mynst\", \"myth\", \"myth\", \"myth\", \"myth\", \"mythesmed\", \"mythisk\", \"mythisk\", \"mythisk\", \"mythograph\", \"m\\u00e6tlad\", \"m\\u00f8l\", \"naad\", \"naad\", \"naad\", \"naad\", \"naad\", \"naad\", \"naad\", \"naad\", \"naad\", \"naadeja\", \"naademidl\", \"naar\", \"naar\", \"naar\", \"naar\", \"naar\", \"naar\", \"naar\", \"naar\", \"naar\", \"naboth\", \"nadv\", \"nadv\", \"nan\", \"nat\", \"nat\", \"nat\", \"nat\", \"nat\", \"nat\", \"nat\", \"nat\", \"nat\", \"nat\", \"nat\", \"natda\", \"nattergal\", \"natugl\", \"naturligviis\", \"naturligviis\", \"naturligviis\", \"naturligviis\", \"navn\", \"navn\", \"navn\", \"navn\", \"navn\", \"navn\", \"navn\", \"navn\", \"navn\", \"navn\", \"navn\", \"navnhan\", \"navnlad\", \"navnsom\", \"nedb\\u00f8i\", \"nedfo\", \"nedfo\", \"nedi\", \"nedmed\", \"nedog\", \"nem\", \"nem\", \"nem\", \"nem\", \"nep\", \"nep\", \"nep\", \"nep\", \"niding\", \"niding\", \"niding\", \"nil\", \"nil\", \"niniv\", \"niord\", \"no\", \"no\", \"no\", \"no\", \"no\", \"nok\", \"nok\", \"nok\", \"nok\", \"nok\", \"nok\", \"nok\", \"nok\", \"nok\", \"nord\", \"nord\", \"nord\", \"nord\", \"nord\", \"nord\", \"nord\", \"nord\", \"nordahl_brun\", \"nordisk\", \"nordisk\", \"nordisk\", \"nordiske_myth\", \"norman\", \"norman\", \"normannisk\", \"norn\", \"norn\", \"norn\", \"norn\", \"nr\", \"nr\", \"nr\", \"nr\", \"ny_psalmebog\", \"ny_psalmebog\", \"ny_testament\", \"nyrup\", \"nytaarsnat\", \"n\\u00e6rd\", \"n\\u00e6rsaa\", \"n\\u00e6rsom\", \"n\\u00e6vneog\", \"n\\u00f8ds\\u00f8d\", \"n\\u00f8g\", \"odin\", \"odin\", \"odin\", \"odin\", \"odin\", \"odin\", \"odrun\", \"ogsaa\", \"ogsaa\", \"ogsaa\", \"ogsaa\", \"ogsaa\", \"ogsaa\", \"ogsaa\", \"ogsaa\", \"olav\", \"olav\", \"olav\", \"oldgranskning\", \"oldsagn\", \"oldsagn\", \"oldsagn\", \"olj\", \"omd\", \"omsom\", \"omsonstselv\", \"ond\", \"ond\", \"ond\", \"ond\", \"ond\", \"ond\", \"ond\", \"ond\", \"ond\", \"opfostr\", \"opstandeni_dag\", \"ord\", \"ord\", \"ord\", \"ord\", \"ord\", \"ord\", \"ord\", \"ord\", \"ord\", \"ordfra\", \"ordho\", \"ordhvem\", \"ordnaar\", \"ordsom\", \"ordsom\", \"ordsom\", \"ordsom\", \"ordsom\", \"ordsprog\", \"ordsprog\", \"ordsprog\", \"overdaad\", \"overgang\", \"overgang\", \"overgang\", \"overgang\", \"overs\\u00e6t\", \"overs\\u00e6t\", \"overs\\u00e6t\", \"overs\\u00e6t\", \"overs\\u00e6t\", \"overs\\u00e6t\", \"paanyi\", \"paanyi\", \"paasaa\", \"paasaa\", \"paaskemorg\", \"paaskesang\", \"paaskev\", \"palo\", \"pandora\", \"pandora\", \"papist\", \"papistisk\", \"paradisd\", \"ped\", \"ped\", \"ped\", \"ped\", \"ped\", \"period\", \"perl\", \"perl\", \"perl\", \"pers\", \"persephon\", \"pharao\", \"philip\", \"philist\", \"philist\", \"philosoph\", \"philosoph\", \"philosoph\", \"philosophi\", \"ph\\u00f8nic\", \"plutark\", \"pluto\", \"pluto\", \"poet\", \"poetisk\", \"poetisk\", \"poetisk\", \"poetisk\", \"poetisk\", \"politisk\", \"polyb\", \"portog\", \"pot\", \"preus\", \"priis\", \"priis\", \"priis\", \"priis\", \"priis\", \"priis\", \"priis\", \"prindses\", \"prindses\", \"prof_claus\", \"propheten_esaia\", \"prosaiske_edda\", \"protestantisk\", \"protestantisk\", \"pr\\u00e6st\", \"pr\\u00e6st\", \"pr\\u00e6st\", \"pr\\u00e6st\", \"pr\\u00e6st\", \"pr\\u00e6sterog\", \"pr\\u00f8js\", \"raabenpaa\", \"raabeog\", \"ragnarokr\", \"rahab\", \"rahbek\", \"rakel\", \"ravnegald\", \"rdr\", \"rejs\", \"rejs\", \"rejs\", \"rejs\", \"rejst\", \"rejst\", \"religion\", \"religion\", \"religion\", \"religionsfri\", \"ret\", \"ret\", \"ret\", \"ret\", \"ret\", \"ret\", \"ret\", \"ret\", \"ret\", \"retbr\\u00f8d\", \"rethan\", \"rigesom\", \"rigsdag\", \"rigsdag\", \"rigsdag\", \"riim\", \"riim\", \"rikard\", \"robert\", \"rom\", \"rom\", \"rom\", \"romaborg\", \"romersk\", \"romersk\", \"romersk\", \"roog\", \"rosenkild\", \"roskild\", \"roskild\", \"roskild\", \"roth\", \"rovger\", \"runersom\", \"rusland\", \"r\\u00f8d\", \"r\\u00f8d\", \"r\\u00f8d\", \"r\\u00f8d\", \"r\\u00f8d\", \"r\\u00f8d\", \"r\\u00f8d\", \"r\\u00f8d\", \"r\\u00f8nneb\\u00e6ksholm\", \"r\\u00f8st\", \"r\\u00f8st\", \"r\\u00f8st\", \"r\\u00f8st\", \"r\\u00f8st\", \"r\\u00f8st\", \"r\\u00f8st\", \"r\\u00f8st\", \"r\\u00f8st\", \"r\\u00f8st\", \"r\\u00f8stfor\", \"saaat\", \"saaat\", \"saaat\", \"saae\", \"saae\", \"saae\", \"saae\", \"saae\", \"saae\", \"saae\", \"saae\", \"saae\", \"saaehvor\", \"saaeog\", \"saaesom\", \"saal\", \"saamed\", \"sacrament\", \"sad\", \"sad\", \"sad\", \"sad\", \"sad\", \"sad\", \"sad\", \"sagd\", \"sagd\", \"sagd\", \"sagd\", \"sagd\", \"sagd\", \"sagd\", \"sagd\", \"sagd\", \"sagd\", \"sagn\", \"sagn\", \"sagn\", \"sagn\", \"sagn\", \"sagn\", \"sagn\", \"sagog\", \"saladin\", \"sammest\", \"sammest\", \"samt\", \"samt\", \"samt\", \"sand\", \"sand\", \"sand\", \"sand\", \"sand\", \"sand\", \"sand\", \"sand\", \"sand\", \"sandefalsk\", \"sandv\", \"sang\", \"sang\", \"sang\", \"sang\", \"sang\", \"sang\", \"sang\", \"sang\", \"sang\", \"sang\", \"sang\", \"sang\", \"savnog\", \"saxo\", \"saxo\", \"saxo\", \"saxo\", \"saxo\", \"sch\\u00f8nning\", \"se\", \"se\", \"se\", \"se\", \"se\", \"se_po\", \"see\", \"see\", \"see\", \"see\", \"see\", \"see\", \"see\", \"see\", \"see\", \"seeog\", \"selskab\", \"selskab\", \"selskab\", \"selvmodsig\", \"sem\", \"sendetil\", \"sicili\", \"sid\", \"sid\", \"sid\", \"sid\", \"sid\", \"sid\", \"sid\", \"sid\", \"sid\", \"sid\", \"sid\", \"sidon\", \"sif\", \"sigenaar\", \"siger_kishurra\", \"sigmund\", \"sigmund\", \"sigmund\", \"signed\", \"signed\", \"sigrun\", \"sigurd\", \"sigurd\", \"sigurd\", \"sigurd\", \"sigurd\", \"sigvald\", \"siig\", \"siig\", \"siig\", \"siig\", \"sildem\", \"sineog\", \"sjungemed\", \"sjungero\", \"sjungesom\", \"sjungetil\", \"sj\\u00e6l\", \"sj\\u00e6l\", \"sj\\u00e6l\", \"sj\\u00e6l\", \"sj\\u00e6l\", \"sj\\u00e6l\", \"sj\\u00e6l\", \"sj\\u00e6l\", \"sj\\u00e6legladhan\", \"sj\\u00e6lthi\", \"skadesaa\", \"skalda\", \"skalda\", \"skamlingsbank\", \"skebn\", \"skeet\", \"skeet\", \"skeet\", \"skeet\", \"skemt\", \"sket\", \"sket\", \"sket\", \"skirn\", \"skirners_reis\", \"skiul\", \"ski\\u00f8nd\", \"ski\\u00f8nd\", \"ski\\u00f8nd\", \"ski\\u00f8nd\", \"ski\\u00f8nd\", \"ski\\u00f8nd\", \"ski\\u00f8ndu\", \"skjald\", \"skjald\", \"skjald\", \"skjald\", \"skjald\", \"skjald\", \"skjald\", \"skjaldekong\", \"skjaldemund\", \"skjoldi_ve\", \"skougaard\", \"skovog\", \"skr\", \"skribent\", \"skribent\", \"skribent\", \"skridtvis\", \"skrift\", \"skrift\", \"skrift\", \"skrift\", \"skrift\", \"skrift\", \"skrift\", \"skriftklog\", \"skueplant\", \"skuld\", \"skuld\", \"skuld\", \"skuld\", \"skuld\", \"skuld\", \"skuld\", \"sk\\u00e6nk\", \"sk\\u00f8nd\", \"sk\\u00f8nt\", \"sk\\u00f8nt\", \"sk\\u00f8nt\", \"sk\\u00f8nt\", \"slag\", \"slag\", \"slag\", \"slag\", \"slag\", \"slagterb\\u00e6nk\", \"sleipn\", \"sleipn\", \"sleipn\", \"slesv\", \"slesv\", \"slesvigsk\", \"slesvigsk\", \"sl\\u00e6gtog\", \"smaafugl\", \"smertefagr\", \"snedorf\", \"snedorf\", \"snek\", \"snek\", \"snek\", \"snek\", \"snig\", \"snorro\", \"snorro\", \"snorro\", \"snorro\", \"soel\", \"soel\", \"soel\", \"soel\", \"soel\", \"soel\", \"soel\", \"soel\", \"sognepr\\u00e6st\", \"sorrigfuld\", \"spaaet\", \"spaaet\", \"spaaet\", \"spaaet\", \"spaaet\", \"spani\", \"spani\", \"spani\", \"spansk\", \"sparta\", \"spartan\", \"sporaf\", \"sprog\", \"sprog\", \"sprog\", \"sprog\", \"sprogog\", \"staa\", \"staa\", \"staa\", \"staa\", \"staa\", \"staa\", \"stadvi\", \"stammehan\", \"statskirk\", \"stavsom\", \"steds\", \"steds\", \"steds\", \"steds\", \"sti\", \"sti\", \"sti\", \"stigeop\", \"stjern\", \"stjern\", \"stjern\", \"stjern\", \"stjern\", \"stjern\", \"stjern\", \"stjern\", \"stod\", \"stod\", \"stod\", \"stod\", \"stod\", \"stod\", \"stod\", \"stod\", \"stod\", \"stod\", \"stokvar\", \"stopped\", \"stor\", \"stor\", \"stor\", \"stor\", \"stor\", \"stor\", \"stor\", \"stor\", \"stor\", \"stord\", \"strak\", \"strandesand\", \"strandkun\", \"stroph\", \"stud\", \"st\\u00e6nd\", \"st\\u00e6ndertid\", \"st\\u00e6ndertid\", \"st\\u00f8v\", \"st\\u00f8v\", \"st\\u00f8v\", \"st\\u00f8v\", \"st\\u00f8v\", \"st\\u00f8v\", \"st\\u00f8v\", \"st\\u00f8v\", \"st\\u00f8v\", \"suk\", \"suk\", \"suk\", \"suk\", \"suk\", \"suk\", \"suk\", \"suk\", \"sukker_helved\", \"sukkerr\\u00f8r\", \"sukkerr\\u00f8r\", \"svagesom\", \"svand\", \"svend\", \"svend\", \"svend\", \"svend\", \"svend\", \"svend\", \"svigei\", \"svingerfar\", \"sv\\u00e6rd\", \"sv\\u00e6rd\", \"sv\\u00e6rd\", \"sv\\u00e6rd\", \"sv\\u00e6rd\", \"sv\\u00e6rd\", \"sv\\u00e6rd\", \"sv\\u00e6rd\", \"sv\\u00e6rd\", \"sv\\u00f8bt\", \"sv\\u00f8bt\", \"syl\", \"symbol\", \"symbol\", \"syn\", \"syn\", \"syn\", \"syn\", \"syn\", \"syn\", \"syn\", \"syn\", \"syn\", \"synd\", \"synd\", \"synd\", \"synd\", \"synd\", \"synd\", \"synd\", \"synd\", \"synd\", \"syndsom\", \"synt\", \"synt\", \"synt\", \"synt\", \"syrith\", \"s\\u00f8dog\", \"s\\u00f8dt\", \"s\\u00f8dt\", \"s\\u00f8dt\", \"s\\u00f8dt\", \"s\\u00f8dt\", \"s\\u00f8dt\", \"s\\u00f8dt\", \"s\\u00f8gt\", \"s\\u00f8gt\", \"s\\u00f8gt\", \"s\\u00f8gt\", \"s\\u00f8gt\", \"s\\u00f8jl\", \"s\\u00f8n\", \"s\\u00f8n\", \"s\\u00f8n\", \"s\\u00f8n\", \"s\\u00f8n\", \"s\\u00f8n\", \"s\\u00f8n\", \"s\\u00f8n\", \"s\\u00f8n\", \"s\\u00f8n\", \"s\\u00f8n\", \"s\\u00f8nderjylland\", \"s\\u00f8nderjylland\", \"s\\u00f8njeg\", \"taaberverd\", \"tal\", \"tal\", \"tal\", \"tal\", \"tal\", \"tal\", \"tal\", \"tappert\", \"tend\", \"tend\", \"tendent\", \"teologi\", \"theolog\", \"thor\", \"thor\", \"thor\", \"thor\", \"thor\", \"thurs\", \"tid\", \"tid\", \"tid\", \"tid\", \"tid\", \"tid\", \"tid\", \"tid\", \"tid\", \"tid\", \"tidfor\", \"tidsom\", \"tilbage\", \"tildel\", \"tiljeg\", \"till\\u00e6g\", \"till\\u00e6g\", \"till\\u00e6g\", \"till\\u00e6g\", \"till\\u00e6g\", \"till\\u00e6gi\", \"tilog\", \"tilsaa\", \"tilv\\u00e6r\", \"tilv\\u00e6r\", \"tilv\\u00e6r\", \"tilv\\u00e6r\", \"toft\", \"tog\", \"tog\", \"tog\", \"tog\", \"tog\", \"tog\", \"tog\", \"tog\", \"togd\", \"tok\", \"topda\", \"tranek\\u00e6r\", \"trehundred\", \"tro\", \"tro\", \"tro\", \"tro\", \"tro\", \"tro\", \"tro\", \"tro\", \"tro\", \"tro\", \"troen\", \"troen\", \"troen\", \"troen\", \"troen\", \"troen\", \"troen\", \"troen\", \"troend\", \"troend\", \"tron\", \"tron\", \"tron\", \"tr\\u00e6ngsel\", \"tr\\u00e6ngsel\", \"tr\\u00e6ngsel\", \"tr\\u00e6ngsel\", \"tr\\u00f8st\", \"tr\\u00f8st\", \"tr\\u00f8st\", \"tr\\u00f8st\", \"tr\\u00f8st\", \"tr\\u00f8st\", \"tr\\u00f8st\", \"tr\\u00f8st\", \"tr\\u00f8st\", \"tr\\u00f8std\", \"tugted\", \"tung\", \"tung\", \"tung\", \"tung\", \"tung\", \"tung\", \"tung\", \"tung\", \"tydsk\", \"tydsk\", \"tydsk\", \"tydsk\", \"tyg\", \"tyk\", \"tyk\", \"tyk\", \"tyk\", \"tykt\", \"tykt\", \"tykt\", \"tykt\", \"tyr\", \"tyr\", \"tyr\", \"tyran\", \"tyran\", \"tyran\", \"tyrk\", \"tyrk\", \"tyrk\", \"tyrus\", \"tysk\", \"tysk\", \"tysk\", \"tysk\", \"tysk\", \"t\\u00e6m\", \"t\\u00e6nkerd\", \"uchrist\", \"udat\", \"udbryd\", \"uden\", \"uden\", \"uden\", \"uden\", \"uden\", \"uden\", \"uden\", \"uden\", \"uden\", \"uden\", \"udfor\", \"udgaardslok\", \"udi\", \"udi\", \"udi\", \"udi\", \"udi\", \"ulf\", \"ungdom\", \"ungdom\", \"ungdom\", \"ungdom\", \"ungdom\", \"unge_her\", \"unge_her\", \"ungm\\u00f8\", \"uns\", \"uns\", \"urt\", \"urt\", \"urt\", \"urt\", \"valhal\", \"valhal\", \"valhal\", \"valhald\", \"valhald\", \"vand\", \"vand\", \"vand\", \"vand\", \"vand\", \"vand\", \"vand\", \"vand\", \"vand\", \"vandr\", \"vandr\", \"vandr\", \"vandr\", \"vandr\", \"vandr\", \"vandr\", \"vandr\", \"vare_blevn\", \"veed\", \"veed\", \"veed\", \"veed\", \"veed\", \"veed\", \"veed\", \"veed\", \"veiog\", \"veisom\", \"veitil\", \"vel\", \"vel\", \"vel\", \"vel\", \"vel\", \"vel\", \"vel\", \"vel\", \"vel\", \"vel\", \"vel\", \"vel\", \"veni\", \"verd\", \"verd\", \"verd\", \"verd\", \"verd\", \"verd\", \"verd\", \"verd\", \"verd\", \"verdslige_\\u00f8vr\", \"vidar\", \"vidnesbyrd\", \"vidnesbyrd\", \"vidnesbyrd\", \"vidnesbyrd\", \"vidnesbyrd\", \"vidnesbyrd\", \"vidtat\", \"viid\", \"vild\", \"vild\", \"vild\", \"vild\", \"vild\", \"vild\", \"vild\", \"vild\", \"vild\", \"vild\", \"vilhelm\", \"vilhelm\", \"vilibrord\", \"vinfred\", \"ving\", \"ving\", \"ving\", \"ving\", \"ving\", \"ving\", \"vingei\", \"vintr\\u00e6\", \"virk\", \"virk\", \"virk\", \"virk\", \"virk\", \"vis\", \"vis\", \"vis\", \"vis\", \"vis\", \"vis\", \"vis\", \"vis\", \"vis\", \"vis\", \"visdom\", \"visdom\", \"visdom\", \"visdom\", \"vist\", \"vist\", \"vist\", \"vist\", \"vist\", \"vist\", \"vist\", \"vola\", \"vola\", \"vola\", \"voldend\", \"volm\\u00e6r\", \"volsungkvad\", \"volt\\u00e6r\", \"voluspa\", \"vorher\", \"vorher\", \"vorher\", \"vorher\", \"vorher\", \"vorher\", \"vorher\", \"vort\", \"vort\", \"vort\", \"vort\", \"vort\", \"vort\", \"vort\", \"vort\", \"vort\", \"v\\u00e6regud\", \"v\\u00e6reno\", \"v\\u00f8luspa\", \"v\\u00f8luspa\", \"v\\u00f8luspa\", \"westminst\", \"willemo\", \"ydr\", \"yttring\", \"zeus\", \"zeus\", \"zeus\", \"zverg\", \"\\u00e6delste\", \"\\u00e6gte\", \"\\u00e6gypt\", \"\\u00e6gypt\", \"\\u00e6gypt\", \"\\u00e6lvedronning\", \"\\u00e6refor\", \"\\u00e6relad\", \"\\u00e6reo\", \"\\u00f8ded\", \"\\u00f8ie\", \"\\u00f8ie\", \"\\u00f8ie\", \"\\u00f8ie\", \"\\u00f8ie\", \"\\u00f8ie\", \"\\u00f8ie\", \"\\u00f8ie\", \"\\u00f8ieblik\", \"\\u00f8ieblik\", \"\\u00f8ieblik\", \"\\u00f8iehan\", \"\\u00f8iesaa\", \"\\u00f8in\", \"\\u00f8in\", \"\\u00f8in\", \"\\u00f8in\", \"\\u00f8in\", \"\\u00f8in\", \"\\u00f8in\", \"\\u00f8in\", \"\\u00f8nsk\", \"\\u00f8nsk\", \"\\u00f8nsk\", \"\\u00f8nsk\", \"\\u00f8nsk\", \"\\u00f8resaa\", \"\\u00f8sterlid\", \"\\u00f8xe\"]}, \"R\": 30, \"lambda.step\": 0.01, \"plot.opts\": {\"xlab\": \"PC1\", \"ylab\": \"PC2\"}, \"topic.order\": [12, 2, 3, 19, 15, 4, 6, 1, 13, 11, 9, 10, 7, 20, 18, 17, 14, 8, 16, 5]};\n",
       "\n",
       "function LDAvis_load_lib(url, callback){\n",
       "  var s = document.createElement('script');\n",
       "  s.src = url;\n",
       "  s.async = true;\n",
       "  s.onreadystatechange = s.onload = callback;\n",
       "  s.onerror = function(){console.warn(\"failed to load library \" + url);};\n",
       "  document.getElementsByTagName(\"head\")[0].appendChild(s);\n",
       "}\n",
       "\n",
       "if(typeof(LDAvis) !== \"undefined\"){\n",
       "   // already loaded: just create the visualization\n",
       "   !function(LDAvis){\n",
       "       new LDAvis(\"#\" + \"ldavis_el7256032142913164327813292516\", ldavis_el7256032142913164327813292516_data);\n",
       "   }(LDAvis);\n",
       "}else if(typeof define === \"function\" && define.amd){\n",
       "   // require.js is available: use it to load d3/LDAvis\n",
       "   require.config({paths: {d3: \"https://cdnjs.cloudflare.com/ajax/libs/d3/3.5.5/d3.min\"}});\n",
       "   require([\"d3\"], function(d3){\n",
       "      window.d3 = d3;\n",
       "      LDAvis_load_lib(\"https://cdn.rawgit.com/bmabey/pyLDAvis/files/ldavis.v1.0.0.js\", function(){\n",
       "        new LDAvis(\"#\" + \"ldavis_el7256032142913164327813292516\", ldavis_el7256032142913164327813292516_data);\n",
       "      });\n",
       "    });\n",
       "}else{\n",
       "    // require.js not available: dynamically load d3 & LDAvis\n",
       "    LDAvis_load_lib(\"https://cdnjs.cloudflare.com/ajax/libs/d3/3.5.5/d3.min.js\", function(){\n",
       "         LDAvis_load_lib(\"https://cdn.rawgit.com/bmabey/pyLDAvis/files/ldavis.v1.0.0.js\", function(){\n",
       "                 new LDAvis(\"#\" + \"ldavis_el7256032142913164327813292516\", ldavis_el7256032142913164327813292516_data);\n",
       "            })\n",
       "         });\n",
       "}\n",
       "</script>"
      ],
      "text/plain": [
       "PreparedData(topic_coordinates=              x         y  topics  cluster       Freq\n",
       "topic                                                \n",
       "11    -0.352767 -0.104253       1        1  38.209961\n",
       "1     -0.314489 -0.133772       2        1  18.816734\n",
       "2     -0.271213 -0.154292       3        1  16.645283\n",
       "18    -0.159242  0.052571       4        1   4.235795\n",
       "14    -0.204852  0.131485       5        1   3.653514\n",
       "3     -0.139740  0.050386       6        1   3.598052\n",
       "5     -0.122729  0.150840       7        1   3.558576\n",
       "0     -0.171757  0.178774       8        1   3.416647\n",
       "12     0.064697 -0.181210       9        1   1.791397\n",
       "10     0.094995 -0.072366      10        1   1.775762\n",
       "8     -0.039236  0.144822      11        1   1.234161\n",
       "9      0.098753 -0.078633      12        1   1.195970\n",
       "6      0.185640  0.009608      13        1   0.600555\n",
       "19     0.187372 -0.003058      14        1   0.343762\n",
       "17     0.195346 -0.001124      15        1   0.218407\n",
       "16     0.191866 -0.001324      16        1   0.203049\n",
       "13     0.193317  0.002008      17        1   0.193561\n",
       "7      0.188883  0.003125      18        1   0.145947\n",
       "15     0.188013  0.002730      19        1   0.083439\n",
       "4      0.187143  0.003684      20        1   0.079421, topic_info=      Category          Freq             Term         Total  loglift  logprob\n",
       "term                                                                         \n",
       "10     Default   9434.000000               ei   9434.000000  30.0000  30.0000\n",
       "1835   Default   2059.000000            dansk   2059.000000  29.0000  29.0000\n",
       "193    Default   6606.000000              gud   6606.000000  28.0000  28.0000\n",
       "74     Default   4814.000000              ord   4814.000000  27.0000  27.0000\n",
       "116    Default   5774.000000             aand   5774.000000  26.0000  26.0000\n",
       "44     Default  10871.000000              kan  10871.000000  25.0000  25.0000\n",
       "748    Default   3873.000000              liv   3873.000000  24.0000  24.0000\n",
       "50     Default   3225.000000             kong   3225.000000  23.0000  23.0000\n",
       "52     Default   9854.000000              kun   9854.000000  22.0000  22.0000\n",
       "8      Default   3270.000000              død   3270.000000  21.0000  21.0000\n",
       "397    Default   2415.000000            hjert   2415.000000  20.0000  20.0000\n",
       "149    Default   1428.000000          danmark   1428.000000  19.0000  19.0000\n",
       "108    Default   2927.000000             verd   2927.000000  18.0000  18.0000\n",
       "256    Default   1810.000000             nord   1810.000000  17.0000  17.0000\n",
       "1070   Default   3125.000000             kirk   3125.000000  16.0000  16.0000\n",
       "22143  Default    736.000000              dam    736.000000  15.0000  15.0000\n",
       "3673   Default    921.000000            krist    921.000000  14.0000  14.0000\n",
       "0      Default   2483.000000               al   2483.000000  13.0000  13.0000\n",
       "384    Default   2590.000000             giør   2590.000000  12.0000  12.0000\n",
       "901    Default   6005.000000              maa   6005.000000  11.0000  11.0000\n",
       "146    Default   3230.000000              dag   3230.000000  10.0000  10.0000\n",
       "409    Default   5233.000000              kom   5233.000000   9.0000   9.0000\n",
       "60     Default   1810.000000              lys   1810.000000   8.0000   8.0000\n",
       "561    Default   2510.000000          mennesk   2510.000000   7.0000   7.0000\n",
       "42     Default   2000.000000             jord   2000.000000   6.0000   6.0000\n",
       "2723   Default   1016.000000              ere   1016.000000   5.0000   5.0000\n",
       "445    Default   3373.000000             sand   3373.000000   4.0000   4.0000\n",
       "102    Default   2471.000000              tro   2471.000000   3.0000   3.0000\n",
       "154    Default   1170.000000              dit   1170.000000   2.0000   2.0000\n",
       "13     Default   1334.000000             evig   1334.000000   1.0000   1.0000\n",
       "...        ...           ...              ...           ...      ...      ...\n",
       "1783   Topic20      0.750724           saamed      1.366182   6.5394  -7.2283\n",
       "1777   Topic20      0.720876           letsom      1.336334   6.5209  -7.2689\n",
       "14825  Topic20      0.718204    matthisonhans      1.333661   6.5192  -7.2726\n",
       "16271  Topic20      0.710321          herreat      1.325778   6.5141  -7.2836\n",
       "9470   Topic20      0.710321           øresaa      1.325778   6.5141  -7.2836\n",
       "9322   Topic20      0.671211           sporaf      1.286670   6.4874  -7.3403\n",
       "68364  Topic20      0.656297      omsonstselv      1.271754   6.4766  -7.3627\n",
       "79663  Topic20      0.656297            ikkei      1.271756   6.4766  -7.3627\n",
       "14704  Topic20      0.639257            fagei      1.254714   6.4638  -7.3891\n",
       "68434  Topic20      0.602839         sendetil      1.218296   6.4346  -7.4477\n",
       "30533  Topic20      0.602679           glødem      1.218136   6.4345  -7.4480\n",
       "6      Topic20      0.585799         bølgerei      1.201257   6.4200  -7.4764\n",
       "14833  Topic20      0.585233         mundepaa      1.200690   6.4195  -7.4773\n",
       "1769   Topic20      0.531775          flidfor      1.147232   6.3693  -7.5731\n",
       "96812  Topic20      0.531209       bordethvor      1.146666   6.3687  -7.5742\n",
       "96824  Topic20      0.531209       sandefalsk      1.146666   6.3687  -7.5742\n",
       "96827  Topic20      0.531209             ægte      1.146666   6.3687  -7.5742\n",
       "96826  Topic20      0.531209       taaberverd      1.146666   6.3687  -7.5742\n",
       "96825  Topic20      0.531209      strandesand      1.146666   6.3687  -7.5742\n",
       "96822  Topic20      0.531209          retbrød      1.146666   6.3687  -7.5742\n",
       "96811  Topic20      0.531209      betydersjæl      1.146666   6.3687  -7.5742\n",
       "96820  Topic20      0.531209           mætlad      1.146666   6.3687  -7.5742\n",
       "96819  Topic20      0.531209        kiødskjul      1.146666   6.3687  -7.5742\n",
       "96818  Topic20      0.531209           ikkeud      1.146666   6.3687  -7.5742\n",
       "96817  Topic20      0.531209         faresand      1.146666   6.3687  -7.5742\n",
       "96814  Topic20      0.531209           brødaf      1.146666   6.3687  -7.5742\n",
       "96816  Topic20      0.531209       drikkeblod      1.146666   6.3687  -7.5742\n",
       "96810  Topic20      0.531209         baresand      1.146666   6.3687  -7.5742\n",
       "96813  Topic20      0.531209      bryderaltid      1.146666   6.3687  -7.5742\n",
       "96815  Topic20      0.531209  bægtehimmelbrød      1.146666   6.3687  -7.5742\n",
       "\n",
       "[1287 rows x 6 columns], token_table=       Topic      Freq      Term\n",
       "term                            \n",
       "1790       1  0.307349  aabenbar\n",
       "1790       2  0.493749  aabenbar\n",
       "1790       3  0.196348  aabenbar\n",
       "1790      10  0.002618  aabenbar\n",
       "116        1  0.386510      aand\n",
       "116        2  0.435343      aand\n",
       "116        3  0.007966      aand\n",
       "116        4  0.002251      aand\n",
       "116        5  0.065804      aand\n",
       "116        6  0.000693      aand\n",
       "116        7  0.014892      aand\n",
       "116        8  0.074808      aand\n",
       "116        9  0.000520      aand\n",
       "116       10  0.001732      aand\n",
       "116       11  0.009351      aand\n",
       "10927      5  0.966365    aandda\n",
       "15391     11  0.968085   aandmed\n",
       "19512     16  0.973540     aando\n",
       "10156     16  0.783640   aandsaa\n",
       "10044      6  0.980796   aandsom\n",
       "10826     19  0.697217   aandtil\n",
       "120        1  0.464529       aar\n",
       "120        2  0.072892       aar\n",
       "120        3  0.368782       aar\n",
       "120        4  0.012355       aar\n",
       "120        5  0.006795       aar\n",
       "120        6  0.036446       aar\n",
       "120        7  0.029651       aar\n",
       "120        9  0.008030       aar\n",
       "41961      3  0.994976    afrika\n",
       "...      ...       ...       ...\n",
       "30249      8  0.937667      øded\n",
       "5440       1  0.778339       øie\n",
       "5440       3  0.014968       øie\n",
       "5440       4  0.061369       øie\n",
       "5440       5  0.064363       øie\n",
       "5440       6  0.001497       øie\n",
       "5440       7  0.056879       øie\n",
       "5440       8  0.019458       øie\n",
       "5440      12  0.002994       øie\n",
       "5441       1  0.801273   øieblik\n",
       "5441       2  0.019851   øieblik\n",
       "5441       3  0.178662   øieblik\n",
       "19613     14  0.953086    øiehan\n",
       "10750      7  0.950242    øiesaa\n",
       "339        1  0.772423       øin\n",
       "339        2  0.026152       øin\n",
       "339        3  0.126091       øin\n",
       "339        5  0.028020       øin\n",
       "339        7  0.004670       øin\n",
       "339        8  0.033624       øin\n",
       "339       10  0.000934       øin\n",
       "339       11  0.007472       øin\n",
       "2047       1  0.807743      ønsk\n",
       "2047       2  0.170550      ønsk\n",
       "2047       3  0.009475      ønsk\n",
       "2047       5  0.004737      ønsk\n",
       "2047       6  0.005922      ønsk\n",
       "9470      20  0.754274    øresaa\n",
       "18321     16  0.671673  østerlid\n",
       "64399      7  0.978172       øxe\n",
       "\n",
       "[2948 rows x 3 columns], R=30, lambda_step=0.01, plot_opts={'xlab': 'PC1', 'ylab': 'PC2'}, topic_order=[12, 2, 3, 19, 15, 4, 6, 1, 13, 11, 9, 10, 7, 20, 18, 17, 14, 8, 16, 5])"
      ]
     },
     "execution_count": 20,
     "metadata": {},
     "output_type": "execute_result"
    }
   ],
   "source": [
    "# Visualize the topics\n",
    "pyLDAvis.enable_notebook()\n",
    "vis = pyLDAvis.gensim.prepare(lda_model, corpus, id2word)\n",
    "vis"
   ]
  },
  {
   "cell_type": "code",
   "execution_count": 21,
   "metadata": {},
   "outputs": [
    {
     "name": "stdout",
     "output_type": "stream",
     "text": [
      "Stored 'vis' (PreparedData)\n"
     ]
    }
   ],
   "source": [
    "%store vis"
   ]
  },
  {
   "cell_type": "markdown",
   "metadata": {},
   "source": [
    "#### Visulize the topic distribution for a single passage"
   ]
  },
  {
   "cell_type": "code",
   "execution_count": 22,
   "metadata": {},
   "outputs": [],
   "source": [
    "def topic_distribution(document_name,ldamodel=lda_model, corpus=corpus, texts=data):\n",
    "    \"\"\"this function take the document_name as the input and output the topic distribution\"\"\"\n",
    "    index_document_number=articles.index(document_name)\n",
    "    topic_and_distribution = lda_model[corpus][index_document_number][0]\n",
    "    labels = [i[0] for i in topic_and_distribution]\n",
    "    percentage = [i[1] for i in topic_and_distribution]\n",
    "    return labels,percentage"
   ]
  },
  {
   "cell_type": "code",
   "execution_count": 23,
   "metadata": {},
   "outputs": [],
   "source": [
    "def visulize_topic_dist(index_document_number):\n",
    "    \"\"\"this is a helper function to visulize the data\"\"\"\n",
    "    labels,percentage=topic_distribution(index_document_number)\n",
    "    x = np.arange(len(labels))\n",
    "    plt.bar(x, percentage)\n",
    "    plt.xticks(x, labels)\n",
    "    plt.ylabel('percentage', fontsize=18)\n",
    "    plt.xlabel('topic ', fontsize=16)\n",
    "    plt.show()"
   ]
  },
  {
   "cell_type": "markdown",
   "metadata": {},
   "source": [
    "The following graph is showing for the article 'grundtvig11val_workid118888.txt', x-axis contain the topics contained in this article, y-axis is the percentage of each topic in the article."
   ]
  },
  {
   "cell_type": "code",
   "execution_count": 24,
   "metadata": {},
   "outputs": [
    {
     "data": {
      "text/plain": [
       "['grundtvig11val_workid118888.txt',\n",
       " 'grundtvig09val_workid64460.txt',\n",
       " 'grundtvig11val_workid71363.txt',\n",
       " 'grundtvig11val_workid77740.txt',\n",
       " 'grundtvig11val_workid148916.txt',\n",
       " 'grundtvig11val_workid120113.txt',\n",
       " 'grundtvig11val_workid109473.txt',\n",
       " 'grundtvig11val_workid99472.txt',\n",
       " 'grundtvig12val_workid55795.txt',\n",
       " 'grundtvig12val_workid94218.txt']"
      ]
     },
     "execution_count": 24,
     "metadata": {},
     "output_type": "execute_result"
    }
   ],
   "source": [
    "#get the list of acticles we have\n",
    "articles[:10]"
   ]
  },
  {
   "cell_type": "markdown",
   "metadata": {},
   "source": [
    "There are four topics residing in it and the topic 0 is the dominent one"
   ]
  },
  {
   "cell_type": "code",
   "execution_count": 25,
   "metadata": {},
   "outputs": [
    {
     "data": {
      "image/png": "[encoded data removed]",
      "text/plain": [
       "<Figure size 432x288 with 1 Axes>"
      ]
     },
     "metadata": {},
     "output_type": "display_data"
    }
   ],
   "source": [
    "visulize_topic_dist('grundtvig11val_workid118888.txt')"
   ]
  },
  {
   "cell_type": "markdown",
   "metadata": {},
   "source": [
    "#### Finding the dominant topic in each sentence"
   ]
  },
  {
   "cell_type": "markdown",
   "metadata": {},
   "source": [
    "Here we present the topic modelling results to for each of the document we have, and we extract the most popular topic for each document"
   ]
  },
  {
   "cell_type": "code",
   "execution_count": 26,
   "metadata": {},
   "outputs": [],
   "source": [
    "\"\"\"the following code will help to determine what topic a given document is about\"\"\"\n",
    "def format_topics_sentences(ldamodel=lda_model, corpus=corpus, texts=data):\n",
    "    # Init output\n",
    "    sent_topics_df = pd.DataFrame()\n",
    "\n",
    "    # Get main topic in each document\n",
    "    for i, row in enumerate(ldamodel[corpus]):\n",
    "        row = row[0]\n",
    "        row = sorted(row, key=lambda x: (x[1]), reverse=True)\n",
    "        # Get the Dominant topic, Perc Contribution and Keywords for each document\n",
    "        topic_num = row[0][0]\n",
    "        prop_topic = row[0][1]\n",
    "        wp = ldamodel.show_topic(topic_num)\n",
    "        topic_keywords = \", \".join([word for word, prop in wp])\n",
    "        sent_topics_df = sent_topics_df.append(pd.Series([int(topic_num), round(prop_topic,4), topic_keywords]), ignore_index=True)\n",
    "    sent_topics_df.columns = ['Dominant_Topic', 'Perc_Contribution', 'Topic_Keywords']\n",
    "\n",
    "    # Add original text to the end of the output\n",
    "    contents = pd.Series(texts)\n",
    "    sent_topics_df = pd.concat([sent_topics_df, contents], axis=1)\n",
    "    return(sent_topics_df)"
   ]
  },
  {
   "cell_type": "code",
   "execution_count": 27,
   "metadata": {},
   "outputs": [],
   "source": [
    "df_topic_sents_keywords = format_topics_sentences(lda_model, corpus=corpus, texts=data)"
   ]
  },
  {
   "cell_type": "code",
   "execution_count": 28,
   "metadata": {},
   "outputs": [
    {
     "data": {
      "text/html": [
       "<div>\n",
       "<style scoped>\n",
       "    .dataframe tbody tr th:only-of-type {\n",
       "        vertical-align: middle;\n",
       "    }\n",
       "\n",
       "    .dataframe tbody tr th {\n",
       "        vertical-align: top;\n",
       "    }\n",
       "\n",
       "    .dataframe thead th {\n",
       "        text-align: right;\n",
       "    }\n",
       "</style>\n",
       "<table border=\"1\" class=\"dataframe\">\n",
       "  <thead>\n",
       "    <tr style=\"text-align: right;\">\n",
       "      <th></th>\n",
       "      <th>Document_No</th>\n",
       "      <th>Dominant_Topic</th>\n",
       "      <th>Topic_Perc_Contrib</th>\n",
       "      <th>Keywords</th>\n",
       "      <th>Text</th>\n",
       "    </tr>\n",
       "  </thead>\n",
       "  <tbody>\n",
       "    <tr>\n",
       "      <th>0</th>\n",
       "      <td>0</td>\n",
       "      <td>0.0</td>\n",
       "      <td>0.7284</td>\n",
       "      <td>gud, liv, ei, aand, dit, død, kun, ord, verd, ...</td>\n",
       "      <td>No. 196.\\n *)Jeg som et Barn mig glæde vil,Og ...</td>\n",
       "    </tr>\n",
       "    <tr>\n",
       "      <th>1</th>\n",
       "      <td>1</td>\n",
       "      <td>7.0</td>\n",
       "      <td>0.3263</td>\n",
       "      <td>herod, delphi, melodi, slagterbænk, guldsom, d...</td>\n",
       "      <td>HENRICH STEFFENS.VED Henrik Steffens' Død den ...</td>\n",
       "    </tr>\n",
       "    <tr>\n",
       "      <th>2</th>\n",
       "      <td>2</td>\n",
       "      <td>2.0</td>\n",
       "      <td>0.3687</td>\n",
       "      <td>kong, kun, stor, hel, rom, kom, ogsaa, vel, ba...</td>\n",
       "      <td>No. 40\\n .Verden er, som Man den tager,Herlig ...</td>\n",
       "    </tr>\n",
       "    <tr>\n",
       "      <th>3</th>\n",
       "      <td>3</td>\n",
       "      <td>14.0</td>\n",
       "      <td>0.9286</td>\n",
       "      <td>gud, ord, ei, hjert, kun, verd, aand, lys, dag...</td>\n",
       "      <td>No. 63\\n . *)Paradis-Gaard og Folke-Vang!Synge...</td>\n",
       "    </tr>\n",
       "    <tr>\n",
       "      <th>4</th>\n",
       "      <td>4</td>\n",
       "      <td>8.0</td>\n",
       "      <td>0.5301</td>\n",
       "      <td>gud, død, ei, kan, al, no, liv, ord, aand, vort</td>\n",
       "      <td>No. 327\\n .Gud-Fader udsendte sit Naadens-Ord,...</td>\n",
       "    </tr>\n",
       "    <tr>\n",
       "      <th>5</th>\n",
       "      <td>5</td>\n",
       "      <td>14.0</td>\n",
       "      <td>0.7348</td>\n",
       "      <td>gud, ord, ei, hjert, kun, verd, aand, lys, dag...</td>\n",
       "      <td>No. 200\\n .Guds Engle sang i Stjerne-Tal,Stjer...</td>\n",
       "    </tr>\n",
       "    <tr>\n",
       "      <th>6</th>\n",
       "      <td>6</td>\n",
       "      <td>14.0</td>\n",
       "      <td>0.2906</td>\n",
       "      <td>gud, ord, ei, hjert, kun, verd, aand, lys, dag...</td>\n",
       "      <td>No. 156\\n . *)Stjernernes Skaber og Himmelens ...</td>\n",
       "    </tr>\n",
       "    <tr>\n",
       "      <th>7</th>\n",
       "      <td>7</td>\n",
       "      <td>10.0</td>\n",
       "      <td>0.3625</td>\n",
       "      <td>dam, odin, thor, myth, asern, jet, lok, nord, ...</td>\n",
       "      <td>No. 119\\n .Syng, Guds Folk! med Hjertens Glæde...</td>\n",
       "    </tr>\n",
       "    <tr>\n",
       "      <th>8</th>\n",
       "      <td>8</td>\n",
       "      <td>17.0</td>\n",
       "      <td>0.7665</td>\n",
       "      <td>glemmes_aldr, kvædl, syrith, willemo, himlensa...</td>\n",
       "      <td>No. 2\\n .Adam og Eva\\n .Ordet sig hviled,Engle...</td>\n",
       "    </tr>\n",
       "    <tr>\n",
       "      <th>9</th>\n",
       "      <td>9</td>\n",
       "      <td>8.0</td>\n",
       "      <td>0.9027</td>\n",
       "      <td>gud, død, ei, kan, al, no, liv, ord, aand, vort</td>\n",
       "      <td>No\\n . 86.*)Mel.\\n : Et Barn er født i Bethehe...</td>\n",
       "    </tr>\n",
       "  </tbody>\n",
       "</table>\n",
       "</div>"
      ],
      "text/plain": [
       "   Document_No  Dominant_Topic  Topic_Perc_Contrib  \\\n",
       "0            0             0.0              0.7284   \n",
       "1            1             7.0              0.3263   \n",
       "2            2             2.0              0.3687   \n",
       "3            3            14.0              0.9286   \n",
       "4            4             8.0              0.5301   \n",
       "5            5            14.0              0.7348   \n",
       "6            6            14.0              0.2906   \n",
       "7            7            10.0              0.3625   \n",
       "8            8            17.0              0.7665   \n",
       "9            9             8.0              0.9027   \n",
       "\n",
       "                                            Keywords  \\\n",
       "0  gud, liv, ei, aand, dit, død, kun, ord, verd, ...   \n",
       "1  herod, delphi, melodi, slagterbænk, guldsom, d...   \n",
       "2  kong, kun, stor, hel, rom, kom, ogsaa, vel, ba...   \n",
       "3  gud, ord, ei, hjert, kun, verd, aand, lys, dag...   \n",
       "4    gud, død, ei, kan, al, no, liv, ord, aand, vort   \n",
       "5  gud, ord, ei, hjert, kun, verd, aand, lys, dag...   \n",
       "6  gud, ord, ei, hjert, kun, verd, aand, lys, dag...   \n",
       "7  dam, odin, thor, myth, asern, jet, lok, nord, ...   \n",
       "8  glemmes_aldr, kvædl, syrith, willemo, himlensa...   \n",
       "9    gud, død, ei, kan, al, no, liv, ord, aand, vort   \n",
       "\n",
       "                                                Text  \n",
       "0  No. 196.\\n *)Jeg som et Barn mig glæde vil,Og ...  \n",
       "1  HENRICH STEFFENS.VED Henrik Steffens' Død den ...  \n",
       "2  No. 40\\n .Verden er, som Man den tager,Herlig ...  \n",
       "3  No. 63\\n . *)Paradis-Gaard og Folke-Vang!Synge...  \n",
       "4  No. 327\\n .Gud-Fader udsendte sit Naadens-Ord,...  \n",
       "5  No. 200\\n .Guds Engle sang i Stjerne-Tal,Stjer...  \n",
       "6  No. 156\\n . *)Stjernernes Skaber og Himmelens ...  \n",
       "7  No. 119\\n .Syng, Guds Folk! med Hjertens Glæde...  \n",
       "8  No. 2\\n .Adam og Eva\\n .Ordet sig hviled,Engle...  \n",
       "9  No\\n . 86.*)Mel.\\n : Et Barn er født i Bethehe...  "
      ]
     },
     "execution_count": 28,
     "metadata": {},
     "output_type": "execute_result"
    }
   ],
   "source": [
    "\n",
    "# Format\n",
    "df_dominant_topic = df_topic_sents_keywords.reset_index()\n",
    "df_dominant_topic.columns = ['Document_No', 'Dominant_Topic', 'Topic_Perc_Contrib', 'Keywords', 'Text']\n",
    "\n",
    "# Show\n",
    "df_dominant_topic.head(10)"
   ]
  },
  {
   "cell_type": "markdown",
   "metadata": {},
   "source": [
    "#### Find the most representative document for each topic"
   ]
  },
  {
   "cell_type": "code",
   "execution_count": 29,
   "metadata": {},
   "outputs": [
    {
     "data": {
      "text/html": [
       "<div>\n",
       "<style scoped>\n",
       "    .dataframe tbody tr th:only-of-type {\n",
       "        vertical-align: middle;\n",
       "    }\n",
       "\n",
       "    .dataframe tbody tr th {\n",
       "        vertical-align: top;\n",
       "    }\n",
       "\n",
       "    .dataframe thead th {\n",
       "        text-align: right;\n",
       "    }\n",
       "</style>\n",
       "<table border=\"1\" class=\"dataframe\">\n",
       "  <thead>\n",
       "    <tr style=\"text-align: right;\">\n",
       "      <th></th>\n",
       "      <th>Topic_Num</th>\n",
       "      <th>Topic_Perc_Contrib</th>\n",
       "      <th>Keywords</th>\n",
       "      <th>Text</th>\n",
       "    </tr>\n",
       "  </thead>\n",
       "  <tbody>\n",
       "    <tr>\n",
       "      <th>0</th>\n",
       "      <td>0.0</td>\n",
       "      <td>0.9328</td>\n",
       "      <td>gud, liv, ei, aand, dit, død, kun, ord, verd, ...</td>\n",
       "      <td>No. 354.\\n *)Sin Eenbaarne Gud hengivetHar for...</td>\n",
       "    </tr>\n",
       "    <tr>\n",
       "      <th>1</th>\n",
       "      <td>1.0</td>\n",
       "      <td>0.9229</td>\n",
       "      <td>kan, aand, kirk, kun, maa, naar, ord, hel, tro...</td>\n",
       "      <td>DEN CHRISTELIGEBØRNELÆRDOM.DEN Række Afhandlin...</td>\n",
       "    </tr>\n",
       "    <tr>\n",
       "      <th>2</th>\n",
       "      <td>2.0</td>\n",
       "      <td>0.7049</td>\n",
       "      <td>kong, kun, stor, hel, rom, kom, ogsaa, vel, ba...</td>\n",
       "      <td>HAANDBOG I VERDENSHISTORIEN. ANDEN DEEL.\\n MID...</td>\n",
       "    </tr>\n",
       "    <tr>\n",
       "      <th>3</th>\n",
       "      <td>3.0</td>\n",
       "      <td>0.6854</td>\n",
       "      <td>kong, ei, kom, dannemark, kun, gaml, søn, ord,...</td>\n",
       "      <td>No. 211\\n . *)Med sin Alabaster-Krukke,Fuld af...</td>\n",
       "    </tr>\n",
       "    <tr>\n",
       "      <th>4</th>\n",
       "      <td>4.0</td>\n",
       "      <td>0.5208</td>\n",
       "      <td>jordensaa, rethan, tidsom, givetat, tilbage, s...</td>\n",
       "      <td>No. 38\\n .Christne, med Skiel,Kaldes de vel,Al...</td>\n",
       "    </tr>\n",
       "  </tbody>\n",
       "</table>\n",
       "</div>"
      ],
      "text/plain": [
       "   Topic_Num  Topic_Perc_Contrib  \\\n",
       "0        0.0              0.9328   \n",
       "1        1.0              0.9229   \n",
       "2        2.0              0.7049   \n",
       "3        3.0              0.6854   \n",
       "4        4.0              0.5208   \n",
       "\n",
       "                                            Keywords  \\\n",
       "0  gud, liv, ei, aand, dit, død, kun, ord, verd, ...   \n",
       "1  kan, aand, kirk, kun, maa, naar, ord, hel, tro...   \n",
       "2  kong, kun, stor, hel, rom, kom, ogsaa, vel, ba...   \n",
       "3  kong, ei, kom, dannemark, kun, gaml, søn, ord,...   \n",
       "4  jordensaa, rethan, tidsom, givetat, tilbage, s...   \n",
       "\n",
       "                                                Text  \n",
       "0  No. 354.\\n *)Sin Eenbaarne Gud hengivetHar for...  \n",
       "1  DEN CHRISTELIGEBØRNELÆRDOM.DEN Række Afhandlin...  \n",
       "2  HAANDBOG I VERDENSHISTORIEN. ANDEN DEEL.\\n MID...  \n",
       "3  No. 211\\n . *)Med sin Alabaster-Krukke,Fuld af...  \n",
       "4  No. 38\\n .Christne, med Skiel,Kaldes de vel,Al...  "
      ]
     },
     "execution_count": 29,
     "metadata": {},
     "output_type": "execute_result"
    }
   ],
   "source": [
    "\"\"\"find the documents a given topic has contributed to the most and infer the topic by reading that document.\"\"\"\n",
    "# Group top 5 sentences under each topic\n",
    "sent_topics_sorteddf_mallet = pd.DataFrame()\n",
    "\n",
    "sent_topics_outdf_grpd = df_topic_sents_keywords.groupby('Dominant_Topic')\n",
    "\n",
    "for i, grp in sent_topics_outdf_grpd:\n",
    "    sent_topics_sorteddf_mallet = pd.concat([sent_topics_sorteddf_mallet, \n",
    "                                             grp.sort_values(['Perc_Contribution'], ascending=[0]).head(1)], \n",
    "                                            axis=0)\n",
    "\n",
    "# Reset Index    \n",
    "sent_topics_sorteddf_mallet.reset_index(drop=True, inplace=True)\n",
    "\n",
    "# Format\n",
    "sent_topics_sorteddf_mallet.columns = ['Topic_Num', \"Topic_Perc_Contrib\", \"Keywords\", \"Text\"]\n",
    "\n",
    "# Show\n",
    "sent_topics_sorteddf_mallet.head()"
   ]
  },
  {
   "cell_type": "markdown",
   "metadata": {},
   "source": [
    "#### Topic distribution across documents"
   ]
  },
  {
   "cell_type": "markdown",
   "metadata": {},
   "source": [
    "understand the volume and distribution of topics in order to judge how widely it was discusse"
   ]
  },
  {
   "cell_type": "code",
   "execution_count": 30,
   "metadata": {},
   "outputs": [
    {
     "data": {
      "text/html": [
       "<div>\n",
       "<style scoped>\n",
       "    .dataframe tbody tr th:only-of-type {\n",
       "        vertical-align: middle;\n",
       "    }\n",
       "\n",
       "    .dataframe tbody tr th {\n",
       "        vertical-align: top;\n",
       "    }\n",
       "\n",
       "    .dataframe thead th {\n",
       "        text-align: right;\n",
       "    }\n",
       "</style>\n",
       "<table border=\"1\" class=\"dataframe\">\n",
       "  <thead>\n",
       "    <tr style=\"text-align: right;\">\n",
       "      <th></th>\n",
       "      <th>index</th>\n",
       "      <th>Dominant_Topic</th>\n",
       "      <th>Topic_Keywords</th>\n",
       "      <th>Num_Documents</th>\n",
       "      <th>Perc_Documents</th>\n",
       "    </tr>\n",
       "  </thead>\n",
       "  <tbody>\n",
       "    <tr>\n",
       "      <th>0</th>\n",
       "      <td>13</td>\n",
       "      <td>9.0</td>\n",
       "      <td>odin, asern, jet, digt, lok, aser, norn, gud, ...</td>\n",
       "      <td>3</td>\n",
       "      <td>0.0043</td>\n",
       "    </tr>\n",
       "    <tr>\n",
       "      <th>1</th>\n",
       "      <td>5</td>\n",
       "      <td>10.0</td>\n",
       "      <td>dam, odin, thor, myth, asern, jet, lok, nord, ...</td>\n",
       "      <td>5</td>\n",
       "      <td>0.0072</td>\n",
       "    </tr>\n",
       "    <tr>\n",
       "      <th>2</th>\n",
       "      <td>18</td>\n",
       "      <td>19.0</td>\n",
       "      <td>dansk, bønd, danmark, slesv, fru_mari, modersm...</td>\n",
       "      <td>6</td>\n",
       "      <td>0.0086</td>\n",
       "    </tr>\n",
       "    <tr>\n",
       "      <th>3</th>\n",
       "      <td>2</td>\n",
       "      <td>2.0</td>\n",
       "      <td>kong, kun, stor, hel, rom, kom, ogsaa, vel, ba...</td>\n",
       "      <td>6</td>\n",
       "      <td>0.0086</td>\n",
       "    </tr>\n",
       "    <tr>\n",
       "      <th>4</th>\n",
       "      <td>16</td>\n",
       "      <td>15.0</td>\n",
       "      <td>canaan, aandtil, kvær, haandsaa, stigeop, raha...</td>\n",
       "      <td>6</td>\n",
       "      <td>0.0086</td>\n",
       "    </tr>\n",
       "    <tr>\n",
       "      <th>5</th>\n",
       "      <td>6</td>\n",
       "      <td>17.0</td>\n",
       "      <td>glemmes_aldr, kvædl, syrith, willemo, himlensa...</td>\n",
       "      <td>8</td>\n",
       "      <td>0.0115</td>\n",
       "    </tr>\n",
       "    <tr>\n",
       "      <th>6</th>\n",
       "      <td>14</td>\n",
       "      <td>4.0</td>\n",
       "      <td>jordensaa, rethan, tidsom, givetat, tilbage, s...</td>\n",
       "      <td>10</td>\n",
       "      <td>0.0144</td>\n",
       "    </tr>\n",
       "    <tr>\n",
       "      <th>7</th>\n",
       "      <td>8</td>\n",
       "      <td>13.0</td>\n",
       "      <td>korsets_træ, blaamænd, sagog, korsfæstedenu, v...</td>\n",
       "      <td>10</td>\n",
       "      <td>0.0144</td>\n",
       "    </tr>\n",
       "    <tr>\n",
       "      <th>8</th>\n",
       "      <td>1</td>\n",
       "      <td>7.0</td>\n",
       "      <td>herod, delphi, melodi, slagterbænk, guldsom, d...</td>\n",
       "      <td>11</td>\n",
       "      <td>0.0158</td>\n",
       "    </tr>\n",
       "    <tr>\n",
       "      <th>9</th>\n",
       "      <td>10</td>\n",
       "      <td>6.0</td>\n",
       "      <td>liv, herm, boemund, antioki, glemmes_aldr, apo...</td>\n",
       "      <td>13</td>\n",
       "      <td>0.0187</td>\n",
       "    </tr>\n",
       "    <tr>\n",
       "      <th>10</th>\n",
       "      <td>11</td>\n",
       "      <td>3.0</td>\n",
       "      <td>kong, ei, kom, dannemark, kun, gaml, søn, ord,...</td>\n",
       "      <td>13</td>\n",
       "      <td>0.0187</td>\n",
       "    </tr>\n",
       "    <tr>\n",
       "      <th>11</th>\n",
       "      <td>15</td>\n",
       "      <td>16.0</td>\n",
       "      <td>fadervor, fortabt, aando, aandsaa, jordei, sig...</td>\n",
       "      <td>18</td>\n",
       "      <td>0.0259</td>\n",
       "    </tr>\n",
       "    <tr>\n",
       "      <th>12</th>\n",
       "      <td>9</td>\n",
       "      <td>1.0</td>\n",
       "      <td>kan, aand, kirk, kun, maa, naar, ord, hel, tro...</td>\n",
       "      <td>30</td>\n",
       "      <td>0.0432</td>\n",
       "    </tr>\n",
       "    <tr>\n",
       "      <th>13</th>\n",
       "      <td>3</td>\n",
       "      <td>14.0</td>\n",
       "      <td>gud, ord, ei, hjert, kun, verd, aand, lys, dag...</td>\n",
       "      <td>35</td>\n",
       "      <td>0.0504</td>\n",
       "    </tr>\n",
       "    <tr>\n",
       "      <th>14</th>\n",
       "      <td>7</td>\n",
       "      <td>5.0</td>\n",
       "      <td>ei, gud, dit, kun, mon, kan, ord, gaml, kirk, maa</td>\n",
       "      <td>50</td>\n",
       "      <td>0.0719</td>\n",
       "    </tr>\n",
       "    <tr>\n",
       "      <th>15</th>\n",
       "      <td>17</td>\n",
       "      <td>18.0</td>\n",
       "      <td>ei, kan, gud, maa, kun, vel, kom, hel, jord, dit</td>\n",
       "      <td>63</td>\n",
       "      <td>0.0906</td>\n",
       "    </tr>\n",
       "    <tr>\n",
       "      <th>16</th>\n",
       "      <td>12</td>\n",
       "      <td>11.0</td>\n",
       "      <td>kan, ei, kun, naar, maa, kund, vel, hel, vild,...</td>\n",
       "      <td>74</td>\n",
       "      <td>0.1065</td>\n",
       "    </tr>\n",
       "    <tr>\n",
       "      <th>17</th>\n",
       "      <td>4</td>\n",
       "      <td>8.0</td>\n",
       "      <td>gud, død, ei, kan, al, no, liv, ord, aand, vort</td>\n",
       "      <td>92</td>\n",
       "      <td>0.1324</td>\n",
       "    </tr>\n",
       "    <tr>\n",
       "      <th>18</th>\n",
       "      <td>0</td>\n",
       "      <td>0.0</td>\n",
       "      <td>gud, liv, ei, aand, dit, død, kun, ord, verd, ...</td>\n",
       "      <td>242</td>\n",
       "      <td>0.3482</td>\n",
       "    </tr>\n",
       "  </tbody>\n",
       "</table>\n",
       "</div>"
      ],
      "text/plain": [
       "    index  Dominant_Topic                                     Topic_Keywords  \\\n",
       "0      13             9.0  odin, asern, jet, digt, lok, aser, norn, gud, ...   \n",
       "1       5            10.0  dam, odin, thor, myth, asern, jet, lok, nord, ...   \n",
       "2      18            19.0  dansk, bønd, danmark, slesv, fru_mari, modersm...   \n",
       "3       2             2.0  kong, kun, stor, hel, rom, kom, ogsaa, vel, ba...   \n",
       "4      16            15.0  canaan, aandtil, kvær, haandsaa, stigeop, raha...   \n",
       "5       6            17.0  glemmes_aldr, kvædl, syrith, willemo, himlensa...   \n",
       "6      14             4.0  jordensaa, rethan, tidsom, givetat, tilbage, s...   \n",
       "7       8            13.0  korsets_træ, blaamænd, sagog, korsfæstedenu, v...   \n",
       "8       1             7.0  herod, delphi, melodi, slagterbænk, guldsom, d...   \n",
       "9      10             6.0  liv, herm, boemund, antioki, glemmes_aldr, apo...   \n",
       "10     11             3.0  kong, ei, kom, dannemark, kun, gaml, søn, ord,...   \n",
       "11     15            16.0  fadervor, fortabt, aando, aandsaa, jordei, sig...   \n",
       "12      9             1.0  kan, aand, kirk, kun, maa, naar, ord, hel, tro...   \n",
       "13      3            14.0  gud, ord, ei, hjert, kun, verd, aand, lys, dag...   \n",
       "14      7             5.0  ei, gud, dit, kun, mon, kan, ord, gaml, kirk, maa   \n",
       "15     17            18.0   ei, kan, gud, maa, kun, vel, kom, hel, jord, dit   \n",
       "16     12            11.0  kan, ei, kun, naar, maa, kund, vel, hel, vild,...   \n",
       "17      4             8.0    gud, død, ei, kan, al, no, liv, ord, aand, vort   \n",
       "18      0             0.0  gud, liv, ei, aand, dit, død, kun, ord, verd, ...   \n",
       "\n",
       "    Num_Documents  Perc_Documents  \n",
       "0               3          0.0043  \n",
       "1               5          0.0072  \n",
       "2               6          0.0086  \n",
       "3               6          0.0086  \n",
       "4               6          0.0086  \n",
       "5               8          0.0115  \n",
       "6              10          0.0144  \n",
       "7              10          0.0144  \n",
       "8              11          0.0158  \n",
       "9              13          0.0187  \n",
       "10             13          0.0187  \n",
       "11             18          0.0259  \n",
       "12             30          0.0432  \n",
       "13             35          0.0504  \n",
       "14             50          0.0719  \n",
       "15             63          0.0906  \n",
       "16             74          0.1065  \n",
       "17             92          0.1324  \n",
       "18            242          0.3482  "
      ]
     },
     "execution_count": 30,
     "metadata": {},
     "output_type": "execute_result"
    }
   ],
   "source": [
    "# Number of Documents for Each Topic\n",
    "topic_counts = df_topic_sents_keywords['Dominant_Topic'].value_counts()\n",
    "\n",
    "# Percentage of Documents for Each Topic\n",
    "topic_contribution = round(topic_counts/topic_counts.sum(), 4)\n",
    "\n",
    "# Topic Number and Keywords\n",
    "topic_num_keywords = df_topic_sents_keywords[['Dominant_Topic', 'Topic_Keywords']]\n",
    "topic_num_keywords= topic_num_keywords.drop_duplicates(subset=['Dominant_Topic', 'Topic_Keywords'])\n",
    "\n",
    "#Merge the quitity into a single table by topic number\n",
    "temp = pd.DataFrame(topic_counts).reset_index()\n",
    "temp.columns = ['Dominant_Topic','Num_Documents']\n",
    "temp2 = pd.DataFrame(topic_contribution).reset_index()\n",
    "temp2.columns = ['Dominant_Topic','Perc_Documents']\n",
    "temp3 = pd.merge(topic_num_keywords, temp, on=\"Dominant_Topic\")\n",
    "df_dominant_topics=pd.merge(temp3, temp2, on=\"Dominant_Topic\")\n",
    "\n",
    "# Show\n",
    "df_dominant_topics.sort_values(by=['Perc_Documents']).reset_index()"
   ]
  }
 ],
 "metadata": {
  "kernelspec": {
   "display_name": "Python 3",
   "language": "python",
   "name": "python3"
  },
  "language_info": {
   "codemirror_mode": {
    "name": "ipython",
    "version": 3
   },
   "file_extension": ".py",
   "mimetype": "text/x-python",
   "name": "python",
   "nbconvert_exporter": "python",
   "pygments_lexer": "ipython3",
   "version": "3.6.5"
  }
 },
 "nbformat": 4,
 "nbformat_minor": 2
}
